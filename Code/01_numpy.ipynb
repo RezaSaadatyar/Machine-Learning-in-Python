{
 "cells": [
  {
   "cell_type": "markdown",
   "metadata": {},
   "source": [
    "**Presented by: Reza Saadatyar (2024-2025)**<br/>\n",
    "**E-mail: Reza.Saadatyar@outlook.com**"
   ]
  },
  {
   "cell_type": "markdown",
   "metadata": {},
   "source": [
    "**1️⃣ N-d Array**<br/>\n",
    "An array is a multi-dimensional array of numerical values.<br/>\n",
    "`0-dimensional (Scalar):` A single number, e.g., 5, 3.14, -10. A <font color='red'><b>scalar</b></font> is a single number and in array-speak it's a zero dimension array.<br/>\n",
    "`1-dimensional (Vector):` A list of numbers, e.g., [1, 2, 3]. A <font color='blue'><b>vector</b></font> is a single dimension array but can contain many numbers.<br/>\n",
    "`2-dimensional (Matrix):` A table of numbers, e.g., [[1, 2], [3, 4]]. <font color='green'><b>MATRIX</b></font>  has two dimensions.<br/>\n",
    "`3-dimensional (or higher):` Like a \"cube\" of numbers or more complex higher-dimensional structures. These are common for representing images, videos, and more.<br/>\n",
    "\n",
    "**2️⃣ Getting information from Numpy**<br/>\n",
    "`shape` - what shape is the array? (some operations require specific shape rules)<br/>\n",
    "`dtype` - what data type are the elements within the array stored in?<br/>\n",
    "\n",
    "**3️⃣ Math Operations**<br/>\n",
    "`Addition` ⇒ *a + b* or *np.add(a, b)*<br/>\n",
    "`Subtraction` ⇒ *a - b* or *np.subtract(a, b)*<br/>\n",
    "`Multiplication (element-wise)` ⇒ *a x b*<br/>\n",
    "`Division` ⇒ *a / b* or *np.divide(a, b)*<br/>\n",
    "`Matrix multiplication` ⇒ *@* in Python is the symbol for matrix multiplication. Use `np.matmul()` or `np.dot()`.<br/>\n",
    " \n",
    "**4️⃣ Special Arrays**<br/>\n",
    "`zeros`<br/>\n",
    "`ones`<br/>\n",
    "`empty`<br/>\n",
    "`eye`<br/>\n",
    "`full`<br/>\n",
    "`arange`<br/>\n",
    "`reshape`<br/>\n",
    "`linspace`<br/>\n",
    "\n",
    "🔸 Using `np.zeros_like(input)` or `np.ones_like(input)` which return an array filled with zeros or ones in the same shape as the input respectively.\n",
    "\n",
    "**5️⃣ Random Arrays**<br/>\n",
    "`np.random.rand:` Create an *n x m* array filled with random numbers from a uniform distribution on the interval [0, 1).<br/>\n",
    "`np.random.randn:` Create an *n x m* array filled with random numbers from a normal distribution with mean 0 and variance 1.<br/>\n",
    "`np.random.randint:` Create an *n x m* array filled with random integers generated uniformly between low (inclusive) and high (exclusive).<br/>\n",
    "`np.random.uniform:` Create a random floating-point number between low (inclusive) and high (exclusive)<br/>\n",
    "🔸 `np.random.permutation(value):` Create a random permutation of integers from 0 to value.<br/>\n",
    "🔸 `np.transpose(input, axes):` Permute the original array to rearrange the axis order.<br/>\n",
    "\n",
    "**6️⃣ Indexing & Slicing**<br/>\n",
    "`Indexing:` Use integer indices to specify the position of the element you want to retrieve (Accessing individual elements).<br/>\n",
    "`Slicing:` Slicing allows you to extract a sub-part of your array by specifying a range of indices using the colon : operator (Extracting sub-array ).<br/>\n",
    "   - `start:end` (exclusive end)\n",
    "   - `start:` (from start to end of dimension)\n",
    "   - `:end` (from beginning to end of dimension)\n",
    "   - `:` (all elements)\n",
    "   - `start:end:step` (start to end with given step)\n",
    "\n",
    "**7️⃣ Unsqueeze & squeeze**<br/>\n",
    "The `squeeze()` method removes all singleton dimensions from an array. It will reduce the number of dimensions by removing the ones that have a size of 1.<br/>\n",
    "The `unsqueeze()` method adds a singleton dimension at a specified position in an array. It will increase the number of dimensions by adding a size of 1 dimension at a specific position.<br/>\n",
    "\n",
    "\n",
    "**8️⃣ Array Manipulation**<br/>\n",
    "`Stacking:` Combining multiple arrays along a specified axis. For example, <font color=\"green\"><b>np.vstack()</b></font> for vertical stacking and <font color=\"green\"><b>np.hstack()</b></font> for horizontal stacking.<br/>\n",
    "`Splitting:` Dividing an array into multiple sub-arrays. For example, <font color=\"green\"><b>np.split()</b></font> divides an array into equal parts.<br/>\n",
    "`Delete:` Removing elements from an array along a specified axis. For example, <font color=\"green\"><b>np.delete()</b></font>.<br/>\n",
    "`Copy, Deepcopy:` Creating a copy of an array. <font color=\"green\"><b>np.copy()</b></font> creates a shallow copy, while <font color=\"green\"><b>copy.deepcopy()</b></font> creates a deep copy.<br/>\n",
    "`Repeat:` Repeating elements of an array. For example, <font color=\"green\"><b>np.repeat()</b></font>.<br/>\n",
    "`Tile:` Repeating the entire array. For example, <font color=\"green\"><b>np.tile()</b></font>.<br/>\n",
    "`Unique:` Finding unique elements in an array. For example, <font color=\"green\"><b>np.unique()</b></font>.<br/>\n",
    "`Sort, Argsort:` Sorting elements of an array. <font color=\"green\"><b>np.sort()</b></font> sorts the array, and <font color=\"green\"><b>np.argsort()</b></font> returns the indices that would sort the array.<br/>\n",
    "`Nanargmax, Nanargmin:` Finding the indices of the maximum and minimum values, ignoring NaN values. For example, <font color=\"green\"><b>np.nanargmax()</b></font> and <font color=\"green\"><b>np.nanargmin()</b></font>.<br/>\n",
    "`Where, Argwhere, Extract:` Conditional operations. <font color=\"green\"><b>np.where()</b></font> returns elements based on a condition, <font color=\"green\"><b>np.argwhere()</b></font> returns indices of elements that satisfy a condition, and <font color=\"green\"><b>np.extract()</b></font> extracts elements based on a condition.<br/>\n",
    "\n",
    "**[Link 1](https://numpy.org/doc/stable/reference/generated/numpy.array.html_)** <br/>\n",
    "**[Link 2](https://numpy.org/doc/stable/reference/_)**"
   ]
  },
  {
   "cell_type": "markdown",
   "metadata": {},
   "source": [
    "<font color='#FF000e' size=\"4.8\" face=\"Arial\"><b>Import modules</b></font>"
   ]
  },
  {
   "cell_type": "code",
   "execution_count": 1,
   "metadata": {},
   "outputs": [],
   "source": [
    "import numpy as np\n",
    "import copy"
   ]
  },
  {
   "cell_type": "markdown",
   "metadata": {},
   "source": [
    "<font color='#001240ee' size=\"4.5\" face=\"Arial\"><b>Scalar, Vector, Column vector, Matrix, & N-d Array</b></font>"
   ]
  },
  {
   "cell_type": "code",
   "execution_count": 2,
   "metadata": {},
   "outputs": [
    {
     "data": {
      "text/plain": [
       "array([1.+0.j, 2.+0.j, 3.+0.j])"
      ]
     },
     "execution_count": 2,
     "metadata": {},
     "output_type": "execute_result"
    }
   ],
   "source": [
    "# Create a 1D NumPy array with complex numbers\n",
    "np.array([1, 2, 3], dtype=complex)"
   ]
  },
  {
   "cell_type": "code",
   "execution_count": 3,
   "metadata": {},
   "outputs": [
    {
     "data": {
      "text/plain": [
       "array([[1., 2., 3.],\n",
       "       [4., 5., 6.]])"
      ]
     },
     "execution_count": 3,
     "metadata": {},
     "output_type": "execute_result"
    }
   ],
   "source": [
    "# Create a 2D NumPy array with floating-point numbers\n",
    "np.array([[1, 2, 3], [4, 5, 6]], dtype=float)"
   ]
  },
  {
   "cell_type": "code",
   "execution_count": 4,
   "metadata": {},
   "outputs": [
    {
     "data": {
      "text/plain": [
       "array([[[1, 2],\n",
       "        [3, 4]],\n",
       "\n",
       "       [[5, 6],\n",
       "        [6, 7]]])"
      ]
     },
     "execution_count": 4,
     "metadata": {},
     "output_type": "execute_result"
    }
   ],
   "source": [
    "# Create a 3D NumPy array with integers\n",
    "np.array([[[1, 2], [3, 4]], [[5, 6], [6, 7]]])"
   ]
  },
  {
   "cell_type": "code",
   "execution_count": 5,
   "metadata": {},
   "outputs": [
    {
     "data": {
      "text/plain": [
       "array([1, 2, 3])"
      ]
     },
     "execution_count": 5,
     "metadata": {},
     "output_type": "execute_result"
    }
   ],
   "source": [
    "# Create a 1D NumPy array with complex numbers\n",
    "a = np.array([1., 2., 3.])\n",
    "a.astype(np.int32)"
   ]
  },
  {
   "cell_type": "code",
   "execution_count": 6,
   "metadata": {},
   "outputs": [
    {
     "data": {
      "text/plain": [
       "array([1, 2, 3])"
      ]
     },
     "execution_count": 6,
     "metadata": {},
     "output_type": "execute_result"
    }
   ],
   "source": [
    "# Convert a tuple to a NumPy array\n",
    "x = (1, 2, 3)\n",
    "np.array(x)"
   ]
  },
  {
   "cell_type": "code",
   "execution_count": 7,
   "metadata": {},
   "outputs": [
    {
     "data": {
      "text/plain": [
       "array([[1, 2, 3],\n",
       "       [4, 5, 6]])"
      ]
     },
     "execution_count": 7,
     "metadata": {},
     "output_type": "execute_result"
    }
   ],
   "source": [
    "# Convert a list of tuples to a NumPy array\n",
    "x = [(1, 2, 3), (4, 5, 6)]\n",
    "np.asarray(x)"
   ]
  },
  {
   "cell_type": "markdown",
   "metadata": {},
   "source": [
    "<font color=#24f508 size=\"4.8\" face=\"Arial\"><b>Getting information from Numpy</b></font>"
   ]
  },
  {
   "cell_type": "code",
   "execution_count": 8,
   "metadata": {},
   "outputs": [
    {
     "name": "stdout",
     "output_type": "stream",
     "text": [
      "a = array([[[1, 2],\n",
      "        [3, 4]],\n",
      "\n",
      "       [[5, 6],\n",
      "        [6, 7]]])\n",
      "a.shape = (2, 2, 2), a.ndim = 3, np.size(a) = 8\n"
     ]
    }
   ],
   "source": [
    "# Create a 3D NumPy array with integers\n",
    "a = np.array([[[1, 2], [3, 4]], [[5, 6], [6, 7]]])\n",
    "\n",
    "print(f\"{a = }\\n{a.shape = }, {a.ndim = }, {np.size(a) = }\")"
   ]
  },
  {
   "cell_type": "markdown",
   "metadata": {},
   "source": [
    "<font color=\"#ff0051e2\" size=\"4.5\" face=\"Arial\"><b>Math Operations</b></font>"
   ]
  },
  {
   "cell_type": "code",
   "execution_count": 9,
   "metadata": {},
   "outputs": [
    {
     "name": "stdout",
     "output_type": "stream",
     "text": [
      "a + b = array([5, 7, 9])\n",
      "a - b = array([-3, -3, -3])\n",
      "a * b = array([ 4, 10, 18])\n",
      "a / b = array([0.25, 0.4 , 0.5 ])\n",
      "a @ b = 32\n",
      "np.dot(a, b) = 32\n",
      "np.prod(a) = 6\n",
      "a * b or np.multiply(a, b) = array([ 4, 10, 18])\n"
     ]
    }
   ],
   "source": [
    "a = np.array([1, 2, 3])\n",
    "b = np.array([4, 5, 6])\n",
    "\n",
    "print(f\"{a + b = }\")  # or np.add(a, b)\n",
    "print(f\"{a - b = }\")  # or np.subtract(a, b)\n",
    "print(f\"{a * b = }\")  # Element-wise multiplication\n",
    "print(f\"{a / b = }\")  # or np.divide(a, b)\n",
    "print(f\"{a @ b = }\")  # Using @ operator or np.matmul()\n",
    "print(f\"{np.dot(a, b) = }\") # Using np.dot()\n",
    "print(f\"{np.prod(a) = }\") # Compute the product of all elements in array 'a'\n",
    "print(f\"a * b or {np.multiply(a, b) = }\") # Perform element-wise multiplication of a and b"
   ]
  },
  {
   "cell_type": "markdown",
   "metadata": {},
   "source": [
    "<font color=\"#00eeff\" size=\"4.5\" face=\"Arial\"><b>Special Arrays</b></font>"
   ]
  },
  {
   "cell_type": "code",
   "execution_count": 10,
   "metadata": {},
   "outputs": [
    {
     "data": {
      "text/plain": [
       "array([[1, 1, 1],\n",
       "       [1, 1, 1]])"
      ]
     },
     "execution_count": 10,
     "metadata": {},
     "output_type": "execute_result"
    }
   ],
   "source": [
    "# Create a 2D array filled with ones\n",
    "np.ones((2, 3), dtype=int)  # The array has a shape of (2, 1), meaning it has 2 rows and 1 column"
   ]
  },
  {
   "cell_type": "code",
   "execution_count": 11,
   "metadata": {},
   "outputs": [
    {
     "data": {
      "text/plain": [
       "array([[[0, 0, 0],\n",
       "        [0, 0, 0],\n",
       "        [0, 0, 0],\n",
       "        [0, 0, 0]],\n",
       "\n",
       "       [[0, 0, 0],\n",
       "        [0, 0, 0],\n",
       "        [0, 0, 0],\n",
       "        [0, 0, 0]],\n",
       "\n",
       "       [[0, 0, 0],\n",
       "        [0, 0, 0],\n",
       "        [0, 0, 0],\n",
       "        [0, 0, 0]]])"
      ]
     },
     "execution_count": 11,
     "metadata": {},
     "output_type": "execute_result"
    }
   ],
   "source": [
    "# Create a 3D array filled with zeros\n",
    "# The array has a shape of (3, 4, 3), meaning:\n",
    "# - 3 matrices (depth/channels)\n",
    "# - Each matrix has 4 rows and 3 columns\n",
    "np.zeros((3, 4, 3), dtype=int)"
   ]
  },
  {
   "cell_type": "code",
   "execution_count": 12,
   "metadata": {},
   "outputs": [
    {
     "data": {
      "text/plain": [
       "array([[1., 0., 0., 0.],\n",
       "       [0., 1., 0., 0.],\n",
       "       [0., 0., 1., 0.],\n",
       "       [0., 0., 0., 1.],\n",
       "       [0., 0., 0., 0.]])"
      ]
     },
     "execution_count": 12,
     "metadata": {},
     "output_type": "execute_result"
    }
   ],
   "source": [
    "# The array has a shape of (5, 4), meaning it has 5 rows and 4 columns\n",
    "np.eye(5, 4) # The diagonal elements are set to 1, and all other elements are set to 0"
   ]
  },
  {
   "cell_type": "code",
   "execution_count": 13,
   "metadata": {},
   "outputs": [
    {
     "data": {
      "text/plain": [
       "array([[2, 2, 2],\n",
       "       [2, 2, 2],\n",
       "       [2, 2, 2],\n",
       "       [2, 2, 2]])"
      ]
     },
     "execution_count": 13,
     "metadata": {},
     "output_type": "execute_result"
    }
   ],
   "source": [
    "# The array has a shape of (4, 3), meaning it has 4 rows and 3 columns\n",
    "np.full([4, 3], fill_value=2) # All elements in the array are set to the `fill_value` (2 in this case)"
   ]
  },
  {
   "cell_type": "code",
   "execution_count": 14,
   "metadata": {},
   "outputs": [
    {
     "name": "stdout",
     "output_type": "stream",
     "text": [
      "\n",
      " a = array([ 1,  3,  5,  7,  9, 11, 13, 15, 17, 19]) --> a.size = 10\n"
     ]
    }
   ],
   "source": [
    "# Create a 1D array with values from 1 to 19, stepping by 2\n",
    "a = np.arange(1, 20, 2, dtype=int)  # numpy.arange(start, stop, step, dtype)\n",
    "print(f\"\\n {a = } --> {a.size = }\")"
   ]
  },
  {
   "cell_type": "code",
   "execution_count": 15,
   "metadata": {},
   "outputs": [
    {
     "data": {
      "text/plain": [
       "array([ 1.        ,  3.11111111,  5.22222222,  7.33333333,  9.44444444,\n",
       "       11.55555556, 13.66666667, 15.77777778, 17.88888889, 20.        ])"
      ]
     },
     "execution_count": 15,
     "metadata": {},
     "output_type": "execute_result"
    }
   ],
   "source": [
    "# Create an array of 10 evenly spaced numbers between -1 and 5\n",
    "np.linspace(1, 20, 10)   # np.linspace(start, stop, num, endpoint, retstep, dtype)"
   ]
  },
  {
   "cell_type": "code",
   "execution_count": 16,
   "metadata": {},
   "outputs": [
    {
     "name": "stdout",
     "output_type": "stream",
     "text": [
      "\n",
      " a = array([[ 1,  2,  3,  4,  5],\n",
      "       [ 6,  7,  8,  9, 10],\n",
      "       [11, 12, 13, 14, 15],\n",
      "       [16, 17, 18, 19, 20]]) \n",
      "a.size = 20\n"
     ]
    }
   ],
   "source": [
    "# Create a 2D array with values from 1 to 20, reshaped into a 4x5 matrix\n",
    "a = np.arange(1, 21).reshape(4, 5)\n",
    "print(f\"\\n {a = } \\n{a.size = }\")"
   ]
  },
  {
   "cell_type": "code",
   "execution_count": 17,
   "metadata": {},
   "outputs": [
    {
     "name": "stdout",
     "output_type": "stream",
     "text": [
      "\n",
      " a = array([[[ 0,  1,  2],\n",
      "        [ 3,  4,  5]],\n",
      "\n",
      "       [[ 6,  7,  8],\n",
      "        [ 9, 10, 11]],\n",
      "\n",
      "       [[12, 13, 14],\n",
      "        [15, 16, 17]]]) \n",
      "a.size = 18\n"
     ]
    }
   ],
   "source": [
    "# Create a 3D array with values from 0 to 17, reshaped into a 3x2x3 tensor\n",
    "a = np.arange(18).reshape(3, 2, 3)\n",
    "print(f\"\\n {a = } \\n{a.size = }\")"
   ]
  },
  {
   "cell_type": "markdown",
   "metadata": {},
   "source": [
    "<font color=\"#dbf518\" size=\"4.5\" face=\"Arial\"><b>Random Arrays</b></font>"
   ]
  },
  {
   "cell_type": "code",
   "execution_count": 76,
   "metadata": {},
   "outputs": [
    {
     "data": {
      "text/plain": [
       "array([[ 0.47298583, -0.68142588,  0.2424395 ],\n",
       "       [-1.70073563,  0.75314283, -1.53472134]])"
      ]
     },
     "execution_count": 76,
     "metadata": {},
     "output_type": "execute_result"
    }
   ],
   "source": [
    "# Create a 2x3 array of random numbers from a normal distribution with mean 0 and variance 1.\n",
    "np.random.seed(12) # Set a seed for reproducibility\n",
    "np.random.randn(2, 3)"
   ]
  },
  {
   "cell_type": "code",
   "execution_count": 77,
   "metadata": {},
   "outputs": [
    {
     "data": {
      "text/plain": [
       "array([[0.94422514, 0.85273554, 0.00225923],\n",
       "       [0.52122603, 0.55203763, 0.48537741]])"
      ]
     },
     "execution_count": 77,
     "metadata": {},
     "output_type": "execute_result"
    }
   ],
   "source": [
    "# Create a 2x3 array of random numbers from a uniform distribution over the interval [0, 1)\n",
    "np.random.random((2, 3))"
   ]
  },
  {
   "cell_type": "code",
   "execution_count": 78,
   "metadata": {},
   "outputs": [
    {
     "data": {
      "text/plain": [
       "3"
      ]
     },
     "execution_count": 78,
     "metadata": {},
     "output_type": "execute_result"
    }
   ],
   "source": [
    "# Generate a random integer between 1 (inclusive) and 4 (exclusive)\n",
    "np.random.randint(1, 4)"
   ]
  },
  {
   "cell_type": "code",
   "execution_count": 79,
   "metadata": {},
   "outputs": [
    {
     "data": {
      "text/plain": [
       "array([[0.95772873, 0.45605092, 0.56314114],\n",
       "       [0.80126538, 0.94317762, 0.22335928]])"
      ]
     },
     "execution_count": 79,
     "metadata": {},
     "output_type": "execute_result"
    }
   ],
   "source": [
    "# Create a 2x3 array of random numbers from a uniform distribution over the interval [0, 1).\n",
    "np.random.rand(2, 3)"
   ]
  },
  {
   "cell_type": "code",
   "execution_count": 81,
   "metadata": {},
   "outputs": [
    {
     "data": {
      "text/plain": [
       "1.999890170562711"
      ]
     },
     "execution_count": 81,
     "metadata": {},
     "output_type": "execute_result"
    }
   ],
   "source": [
    "# Generate a random floating-point number between 2 (inclusive) and 3 (exclusive)\n",
    "np.random.uniform(1, 3)"
   ]
  },
  {
   "cell_type": "markdown",
   "metadata": {},
   "source": [
    "<font color=\"#dbf518\" size=\"4.5\" face=\"Arial\"><b>Randperm & transpose</b></font>"
   ]
  },
  {
   "cell_type": "code",
   "execution_count": 92,
   "metadata": {},
   "outputs": [
    {
     "data": {
      "text/plain": [
       "array([3, 4, 1, 2, 5])"
      ]
     },
     "execution_count": 92,
     "metadata": {},
     "output_type": "execute_result"
    }
   ],
   "source": [
    "# Create an array\n",
    "array = np.array([1, 2, 3, 4, 5])\n",
    "\n",
    "# Generate a random permutation of the array\n",
    "np.random.permutation(array)"
   ]
  },
  {
   "cell_type": "code",
   "execution_count": 98,
   "metadata": {},
   "outputs": [
    {
     "name": "stdout",
     "output_type": "stream",
     "text": [
      "Original array:\n",
      " [[[ 0  1  2  3]\n",
      "  [ 4  5  6  7]\n",
      "  [ 8  9 10 11]]\n",
      "\n",
      " [[12 13 14 15]\n",
      "  [16 17 18 19]\n",
      "  [20 21 22 23]]]\n",
      "Shape: (2, 3, 4)\n",
      "Permuted array:\n",
      " [[[ 0 12]\n",
      "  [ 1 13]\n",
      "  [ 2 14]\n",
      "  [ 3 15]]\n",
      "\n",
      " [[ 4 16]\n",
      "  [ 5 17]\n",
      "  [ 6 18]\n",
      "  [ 7 19]]\n",
      "\n",
      " [[ 8 20]\n",
      "  [ 9 21]\n",
      "  [10 22]\n",
      "  [11 23]]]\n",
      "Shape: (3, 4, 2)\n"
     ]
    }
   ],
   "source": [
    "# Create a 3D array of shape (2, 3, 4)\n",
    "array = np.arange(24).reshape(2, 3, 4)\n",
    "print(\"Original array:\\n\", array)\n",
    "print(\"Shape:\", array.shape)\n",
    "\n",
    "# Permute the axes (e.g., change shape from (2, 3, 4) to (3, 4, 2))\n",
    "permuted_array = np.transpose(array, (1, 2, 0))\n",
    "print(\"Permuted array:\\n\", permuted_array)\n",
    "print(\"Shape:\", permuted_array.shape)"
   ]
  },
  {
   "attachments": {
    "image.png": {
     "image/png": "[encoded data removed]"
    }
   },
   "cell_type": "markdown",
   "metadata": {},
   "source": [
    "<font color=#ffaaaa size=\"4.8\" face=\"Arial\"><b>Indexing and Slicing</b></font>\n",
    "\n",
    "![image.png](attachment:image.png)"
   ]
  },
  {
   "cell_type": "code",
   "execution_count": 17,
   "metadata": {},
   "outputs": [
    {
     "name": "stdout",
     "output_type": "stream",
     "text": [
      "a: [ 0.77784694 -0.94284301  1.81020739  0.87216655 -0.50514121  1.02397381\n",
      "  2.8052214   0.46146376 -0.66686895 -1.4205114  -0.24841346  0.69873166]\n"
     ]
    }
   ],
   "source": [
    "# Create a 1D array with 12 random values from a standard normal distribution (mean=0, std=1)\n",
    "a = np.random.randn(12)\n",
    "print(f\"a: {a}\")"
   ]
  },
  {
   "cell_type": "code",
   "execution_count": 18,
   "metadata": {},
   "outputs": [
    {
     "name": "stdout",
     "output_type": "stream",
     "text": [
      "a[0:1]: [0.77784694]\n"
     ]
    }
   ],
   "source": [
    "print(f\"a[0:1]: {a[0:1]}\")  # A slice of the array containing the first element (as a 1D array)"
   ]
  },
  {
   "cell_type": "code",
   "execution_count": 19,
   "metadata": {},
   "outputs": [
    {
     "name": "stdout",
     "output_type": "stream",
     "text": [
      "a[0]: 0.7778469433793833\n"
     ]
    }
   ],
   "source": [
    "print(f\"a[0]: {a[0]}\")  # The first element of the array (as a scalar)"
   ]
  },
  {
   "cell_type": "code",
   "execution_count": 20,
   "metadata": {},
   "outputs": [
    {
     "name": "stdout",
     "output_type": "stream",
     "text": [
      "a[[0, 2, 7]]: [0.77784694 1.81020739 0.46146376]\n"
     ]
    }
   ],
   "source": [
    "print(f\"a[[0, 2, 7]]: {a[[0, 2, 7]]}\")  # An array containing the elements at indices 0, 2, and 7"
   ]
  },
  {
   "cell_type": "code",
   "execution_count": 21,
   "metadata": {},
   "outputs": [
    {
     "data": {
      "text/plain": [
       "(array([ 1.81020739, -0.50514121,  2.8052214 , -0.66686895, -0.24841346]),\n",
       " array([ 1.81020739, -0.50514121,  2.8052214 , -0.66686895, -0.24841346]))"
      ]
     },
     "execution_count": 21,
     "metadata": {},
     "output_type": "execute_result"
    }
   ],
   "source": [
    "# `a[2:12:2]`: Slice the array from index 2 to index 12 (exclusive) with a step of 2\n",
    "# `a[2::2]`: Slice the array from index 2 to the end with a step of 2\n",
    "a[2:12:2], a[2::2]"
   ]
  },
  {
   "cell_type": "code",
   "execution_count": 22,
   "metadata": {},
   "outputs": [
    {
     "name": "stdout",
     "output_type": "stream",
     "text": [
      "a:\n",
      "[[-0.92412796 -1.74857502  1.53756393  0.89271985 -1.94241939]\n",
      " [-0.34955477  2.40310327 -0.23955914 -1.04521957  0.86943526]\n",
      " [-0.13669076  2.22069589  0.18740976 -0.3861539   0.25106807]]\n"
     ]
    }
   ],
   "source": [
    "# Create a 2D array with random values from a standard normal distribution (mean=0, std=1)\n",
    "a = np.random.randn(3, 5) # The tensor has a shape of (3, 5), meaning 3 rows and 5 columns\n",
    "print(f\"a:\\n{a}\")"
   ]
  },
  {
   "cell_type": "code",
   "execution_count": 23,
   "metadata": {},
   "outputs": [
    {
     "name": "stdout",
     "output_type": "stream",
     "text": [
      "\n",
      "a[0:3, 2:-1]:\n",
      "[[ 1.53756393  0.89271985]\n",
      " [-0.23955914 -1.04521957]\n",
      " [ 0.18740976 -0.3861539 ]]\n"
     ]
    }
   ],
   "source": [
    "print(f\"\\na[0:3, 2:-1]:\\n{a[0:3, 2:-1]}\") # Slice rows from 0 to 3 (exclusive) and columns from 2 to -1 (exclusive)"
   ]
  },
  {
   "cell_type": "code",
   "execution_count": 24,
   "metadata": {},
   "outputs": [
    {
     "name": "stdout",
     "output_type": "stream",
     "text": [
      "\n",
      "a[:, 2:-1]:\n",
      "[[ 1.53756393  0.89271985]\n",
      " [-0.23955914 -1.04521957]\n",
      " [ 0.18740976 -0.3861539 ]]\n"
     ]
    }
   ],
   "source": [
    "print(f\"\\na[:, 2:-1]:\\n{a[:, 2:-1]}\") # Slice all rows and columns from 2 to -1 (exclusive)"
   ]
  },
  {
   "cell_type": "code",
   "execution_count": 25,
   "metadata": {},
   "outputs": [
    {
     "name": "stdout",
     "output_type": "stream",
     "text": [
      "\n",
      "a[0:2]:\n",
      "[[-0.92412796 -1.74857502  1.53756393  0.89271985 -1.94241939]\n",
      " [-0.34955477  2.40310327 -0.23955914 -1.04521957  0.86943526]]\n"
     ]
    }
   ],
   "source": [
    "print(f\"\\na[0:2]:\\n{a[0:2]}\") # Slice rows from 0 to 2 (exclusive)"
   ]
  },
  {
   "cell_type": "code",
   "execution_count": 26,
   "metadata": {},
   "outputs": [
    {
     "name": "stdout",
     "output_type": "stream",
     "text": [
      "\n",
      "a[0:2, :]:\n",
      "[[-0.92412796 -1.74857502  1.53756393  0.89271985 -1.94241939]\n",
      " [-0.34955477  2.40310327 -0.23955914 -1.04521957  0.86943526]]\n"
     ]
    }
   ],
   "source": [
    "print(f\"\\na[0:2, :]:\\n{a[0:2, :]}\") # Slice rows from 0 to 2 (exclusive) and all columns"
   ]
  },
  {
   "cell_type": "code",
   "execution_count": 27,
   "metadata": {},
   "outputs": [
    {
     "name": "stdout",
     "output_type": "stream",
     "text": [
      "\n",
      "a[::2, 2:]:\n",
      "[[ 1.53756393  0.89271985 -1.94241939]\n",
      " [ 0.18740976 -0.3861539   0.25106807]]\n"
     ]
    }
   ],
   "source": [
    "print(f\"\\na[::2, 2:]:\\n{a[::2, 2:]}\") # Slice rows with a step of 2 and columns from index 2 to the end"
   ]
  },
  {
   "cell_type": "code",
   "execution_count": 45,
   "metadata": {},
   "outputs": [
    {
     "data": {
      "text/plain": [
       "array([[[-2.74792723e-01, -5.23788752e-01,  3.22063552e-01,\n",
       "          1.06551152e+00, -6.65542048e-01,  1.05552366e+00,\n",
       "         -1.07603262e+00],\n",
       "        [-8.90533948e-01, -1.16031862e+00, -1.72791220e+00,\n",
       "         -6.16382645e-04, -5.89804258e-01, -3.55620264e-02,\n",
       "         -1.77271881e-01],\n",
       "        [ 2.49677614e+00,  9.67427151e-01,  7.62924747e-01,\n",
       "          1.42818017e+00, -9.18898177e-01,  1.30391283e+00,\n",
       "         -6.02471766e-01],\n",
       "        [ 8.51435316e-01, -6.36356164e-01,  1.02099264e+00,\n",
       "          2.69404915e-01,  2.98308337e-01, -1.40110582e-01,\n",
       "          1.74441355e-01],\n",
       "        [-7.15444688e-01,  1.34939071e-01, -1.26666411e+00,\n",
       "          4.41291516e-01, -3.00388063e+00,  2.10519280e+00,\n",
       "          4.41333135e-03],\n",
       "        [-1.15853516e+00, -3.03401832e-01, -4.72734673e-01,\n",
       "          2.15610568e-01, -5.85665783e-01, -1.49803691e+00,\n",
       "         -9.66634258e-01]],\n",
       "\n",
       "       [[ 1.64399413e+00,  7.26236880e-03,  5.13938207e-02,\n",
       "         -2.26793755e+00, -4.15772828e-01,  1.60975449e+00,\n",
       "          5.59218723e-01],\n",
       "        [ 5.17986887e-01, -3.88863866e-01, -3.13136446e-03,\n",
       "         -1.97901899e+00,  4.78531399e-01,  1.19979346e+00,\n",
       "         -7.78238951e-01],\n",
       "        [-4.14847442e-01,  1.06989826e+00, -1.86761844e-01,\n",
       "         -9.06466676e-01,  8.77513928e-01,  6.49834225e-03,\n",
       "          3.92174239e-01],\n",
       "        [-1.58863075e+00,  3.29408316e-01, -6.41507405e-01,\n",
       "          3.61419612e-01,  3.74058511e-01, -1.22030976e+00,\n",
       "         -3.18481535e-01],\n",
       "        [ 1.40114875e-01, -9.98039464e-02, -8.72003866e-01,\n",
       "          1.19016630e+00, -3.91609959e-01,  1.41619669e+00,\n",
       "          5.59530842e-01],\n",
       "        [ 3.35225198e-02,  4.82099418e-01, -6.07240669e-01,\n",
       "         -1.42707276e-01, -5.62896876e-01,  1.72437239e+00,\n",
       "          1.70999425e+00]],\n",
       "\n",
       "       [[ 1.21938985e-01,  3.52465473e-01, -7.97100874e-01,\n",
       "          4.30757392e-01,  9.49312637e-01, -2.05079200e+00,\n",
       "          4.23210297e-01],\n",
       "        [-7.19589578e-01,  1.88296710e-01, -2.87132768e-01,\n",
       "          7.65005624e-01,  4.90155061e-01,  1.94425895e-01,\n",
       "          2.55706421e-01],\n",
       "        [-3.80633359e-01,  2.67341754e-01,  1.47358418e+00,\n",
       "          4.73628550e-01, -1.08418608e+00, -5.14352134e-01,\n",
       "         -1.55092118e+00],\n",
       "        [ 2.13974093e+00,  5.11071370e-01,  9.36607665e-05,\n",
       "          2.24413488e-02, -1.62785848e-01, -1.11112556e+00,\n",
       "         -3.27551864e-01],\n",
       "        [-1.74463515e+00,  6.83114747e-01,  1.00364475e+00,\n",
       "         -5.77829765e-01,  1.31660502e+00, -4.05088613e-01,\n",
       "          1.20709650e+00],\n",
       "        [-1.08223036e+00, -1.71022253e+00,  3.21043076e-01,\n",
       "         -2.05445089e-01,  1.62007939e+00, -5.54178493e-01,\n",
       "         -2.69551595e-01]],\n",
       "\n",
       "       [[-2.10032514e+00,  4.59245040e-01, -2.01886126e+00,\n",
       "         -3.04781954e-01, -1.28482313e+00,  1.12872025e+00,\n",
       "         -2.39332809e-01],\n",
       "        [-1.10446802e+00, -1.49436620e+00,  1.41589491e-01,\n",
       "         -7.39213912e-01,  2.38565603e-01,  9.26825142e-01,\n",
       "          1.39663558e-02],\n",
       "        [ 1.93935864e+00,  3.03608664e-02, -2.88410756e-01,\n",
       "         -7.85193259e-01,  1.93474322e-02,  6.87844329e-01,\n",
       "         -2.42095178e-02],\n",
       "        [ 6.71871947e-01, -6.52928802e-01,  3.01745616e-01,\n",
       "          1.36460611e+00,  1.63062958e-01,  9.36890580e-01,\n",
       "         -1.43745608e+00],\n",
       "        [ 4.72338367e-01, -1.24770966e-02,  2.17094167e+00,\n",
       "         -7.55168895e-03, -1.21907341e+00,  9.12432376e-01,\n",
       "          7.17788915e-01],\n",
       "        [ 1.92464724e+00, -8.51318858e-01, -5.53575284e-01,\n",
       "          2.58225809e-01,  1.02549493e+00, -2.21432029e+00,\n",
       "          1.30435647e-01]]])"
      ]
     },
     "execution_count": 45,
     "metadata": {},
     "output_type": "execute_result"
    }
   ],
   "source": [
    "# Create a 3D array with random values from a standard normal distribution (mean=0, std=1)\n",
    "# The array has a shape of (4, 6, 7), meaning:4 matrices (depth/channels); Each matrix has 6 rows and 7 columns\n",
    "a = np.random.randn(4, 6, 7)\n",
    "a"
   ]
  },
  {
   "cell_type": "code",
   "execution_count": 46,
   "metadata": {},
   "outputs": [
    {
     "name": "stdout",
     "output_type": "stream",
     "text": [
      "\n",
      "a[1:2, 3:5, 2:4]:\n",
      "[[[-0.6415074   0.36141961]\n",
      "  [-0.87200387  1.1901663 ]]]\n"
     ]
    }
   ],
   "source": [
    "print(f\"\\na[1:2, 3:5, 2:4]:\\n{a[1:2, 3:5, 2:4]}\") # Slice along all three dimensions"
   ]
  },
  {
   "cell_type": "code",
   "execution_count": 47,
   "metadata": {},
   "outputs": [
    {
     "name": "stdout",
     "output_type": "stream",
     "text": [
      "\n",
      "a[[1], 3:5, 2:4]:\n",
      "[[[-0.6415074   0.36141961]\n",
      "  [-0.87200387  1.1901663 ]]]\n"
     ]
    }
   ],
   "source": [
    "print(f\"\\na[[1], 3:5, 2:4]:\\n{a[[1], 3:5, 2:4]}\") # Slice using a list for the first dimension"
   ]
  },
  {
   "cell_type": "code",
   "execution_count": 48,
   "metadata": {},
   "outputs": [
    {
     "name": "stdout",
     "output_type": "stream",
     "text": [
      "\n",
      "a[1, 3:5, 2:4]:\n",
      "[[-0.6415074   0.36141961]\n",
      " [-0.87200387  1.1901663 ]]\n"
     ]
    }
   ],
   "source": [
    "print(f\"\\na[1, 3:5, 2:4]:\\n{a[1, 3:5, 2:4]}\") # Slice the first dimension using a single index"
   ]
  },
  {
   "cell_type": "code",
   "execution_count": 49,
   "metadata": {},
   "outputs": [
    {
     "data": {
      "text/plain": [
       "array([[[ 1,  2,  3],\n",
       "        [ 4,  5,  6]],\n",
       "\n",
       "       [[ 7,  8,  9],\n",
       "        [10, 11, 12]],\n",
       "\n",
       "       [[13, 14, 15],\n",
       "        [16, 17, 18]]])"
      ]
     },
     "execution_count": 49,
     "metadata": {},
     "output_type": "execute_result"
    }
   ],
   "source": [
    "# Assuming 'a' is a 3D NumPy array\n",
    "a = np.array([[[1, 2, 3], [4, 5, 6]], [[7, 8, 9], [10, 11, 12]], [[13, 14, 15], [16, 17, 18]]])\n",
    "a"
   ]
  },
  {
   "cell_type": "code",
   "execution_count": 52,
   "metadata": {},
   "outputs": [
    {
     "name": "stdout",
     "output_type": "stream",
     "text": [
      "\n",
      " a[1, :, 1] = array([ 8, 11])\n",
      "\n",
      " a[2, 1:, 1:] = array([[17, 18]])\n",
      "\n",
      " a[::2, :, 1] = array([[ 2,  5],\n",
      "       [14, 17]])\n"
     ]
    }
   ],
   "source": [
    "# Accessing elements using slicing\n",
    "print(f\"\\n {a[1, :, 1] = }\")          # Access the second element along the third dimension for all rows in the second slice\n",
    "print(f\"\\n {a[2, 1:, 1:] = }\")        # Access elements from the second row onwards and second column onwards in the third slice\n",
    "print(f\"\\n {a[::2, :, 1] = }\")        # Access the second element along the third dimension for every second slice"
   ]
  },
  {
   "cell_type": "code",
   "execution_count": 53,
   "metadata": {},
   "outputs": [
    {
     "name": "stdout",
     "output_type": "stream",
     "text": [
      "\n",
      " a[::2, :, ::3] = array([[[ 1],\n",
      "        [ 4]],\n",
      "\n",
      "       [[13],\n",
      "        [16]]])\n",
      "\n",
      " a[1::2, :, ::3] = array([[[ 7],\n",
      "        [10]]])\n"
     ]
    }
   ],
   "source": [
    "print(f\"\\n {a[::2, :, ::3] = }\")      # Access every third element along the third dimension for every second slice\n",
    "print(f\"\\n {a[1::2, :, ::3] = }\")     # Access every third element along the third dimension starting from the second slice"
   ]
  },
  {
   "cell_type": "markdown",
   "metadata": {},
   "source": [
    "<font color=\"#aaff5499\" size=\"4.5\" face=\"Arial\"><b>Unsqueeze & squeeze</b></font>"
   ]
  },
  {
   "cell_type": "code",
   "execution_count": 28,
   "metadata": {},
   "outputs": [
    {
     "name": "stdout",
     "output_type": "stream",
     "text": [
      "Original shape of a: (1, 3, 1, 4, 1)\n",
      "Squeezed shape of b: (3, 4)\n"
     ]
    }
   ],
   "source": [
    "# Create a array with singleton dimensions (dimensions of size 1)\n",
    "# The array has a shape of (1, 3, 1, 4, 1), meaning:\n",
    "# - 1 matrix (depth/channels)\n",
    "# - 3 rows\n",
    "# - 1 column\n",
    "# - 4 channels\n",
    "# - 1 additional singleton dimension\n",
    "a = np.random.randn(1, 3, 1, 4, 1)\n",
    "print(\"Original shape of a:\", a.shape)\n",
    "\n",
    "# Remove all singleton dimensions using the `squeeze()` method (This eliminates dimensions of size 1)\n",
    "b = np.squeeze(a)\n",
    "print(\"Squeezed shape of b:\", b.shape)"
   ]
  },
  {
   "cell_type": "code",
   "execution_count": 56,
   "metadata": {},
   "outputs": [
    {
     "name": "stdout",
     "output_type": "stream",
     "text": [
      "Original shape of a: (3, 4)\n",
      "Shape after adding dimension at axis 0: (1, 3, 4)\n",
      "Shape after adding dimension at axis 1: (3, 1, 4)\n",
      "Shape after adding dimension at axis 2: (3, 4, 1)\n"
     ]
    }
   ],
   "source": [
    "# Create a array with a shape of (3, 4)\n",
    "a = np.random.randn(3, 4)\n",
    "print(\"Original shape of a:\", a.shape)\n",
    "\n",
    "# Add a singleton dimension at position 0 (equivalent to unsqueeze(0) in PyTorch)\n",
    "tensor_b = np.expand_dims(a, axis=0)\n",
    "print(\"Shape after adding dimension at axis 0:\", tensor_b.shape)\n",
    "\n",
    "# Add a singleton dimension at position 1 (equivalent to unsqueeze(1) in PyTorch)\n",
    "tensor_c = np.expand_dims(a, axis=1)\n",
    "print(\"Shape after adding dimension at axis 1:\", tensor_c.shape)\n",
    "\n",
    "# Add a singleton dimension at position 2 (equivalent to unsqueeze(2) in PyTorch)\n",
    "tensor_d = np.expand_dims(a, axis=2)\n",
    "print(\"Shape after adding dimension at axis 2:\", tensor_d.shape)"
   ]
  },
  {
   "cell_type": "markdown",
   "metadata": {},
   "source": [
    "<font color=\"#b37d12\" size=\"4.5\" face=\"Arial\"><b>Array Manipulation</b></font>"
   ]
  },
  {
   "cell_type": "code",
   "execution_count": 81,
   "metadata": {},
   "outputs": [
    {
     "name": "stdout",
     "output_type": "stream",
     "text": [
      "\n",
      " a = array([[1, 2, 3],\n",
      "       [4, 5, 6]])\n",
      "\n",
      " b = array([[ 7,  8,  9],\n",
      "       [10, 11, 12]])\n",
      "\n",
      " np.hstack((a, b)) = array([[ 1,  2,  3,  7,  8,  9],\n",
      "       [ 4,  5,  6, 10, 11, 12]])\n"
     ]
    }
   ],
   "source": [
    "# ============================================= Stacking =======================================================\n",
    "a = np.arange(1, 7).reshape(2, 3)    # Create two 2D arrays\n",
    "print(f\"\\n {a = }\")\n",
    "\n",
    "b = np.arange(7, 13).reshape(2, 3)\n",
    "print(f\"\\n {b = }\")\n",
    "\n",
    "# Perform horizontal stacking of arrays 'a' and 'b'\n",
    "print(f\"\\n {np.hstack((a, b)) = }\")  # horizontal stacking"
   ]
  },
  {
   "cell_type": "code",
   "execution_count": 82,
   "metadata": {},
   "outputs": [
    {
     "name": "stdout",
     "output_type": "stream",
     "text": [
      "[[ 1  2  3]\n",
      " [ 4  5  6]\n",
      " [ 7  8  9]\n",
      " [10 11 12]]\n"
     ]
    }
   ],
   "source": [
    "print(f\"{np.vstack((a, b))}\")   # vertical stack"
   ]
  },
  {
   "cell_type": "code",
   "execution_count": 34,
   "metadata": {},
   "outputs": [
    {
     "name": "stdout",
     "output_type": "stream",
     "text": [
      "\n",
      " a = array([[ 1,  2,  3,  4],\n",
      "       [ 5,  6,  7,  8],\n",
      "       [ 9, 10, 11, 12]])\n",
      "\n",
      " np.hsplit(a, 2) = [array([[ 1,  2],\n",
      "       [ 5,  6],\n",
      "       [ 9, 10]]), array([[ 3,  4],\n",
      "       [ 7,  8],\n",
      "       [11, 12]])]\n",
      "\n",
      " np.vsplit(a, 3) = [array([[1, 2, 3, 4]]), array([[5, 6, 7, 8]]), array([[ 9, 10, 11, 12]])]\n"
     ]
    }
   ],
   "source": [
    "# ============================================= Splitting ======================================================\n",
    "# Create a 2D array\n",
    "a = np.arange(1, 13).reshape(3, 4)\n",
    "print(f\"\\n {a = }\")\n",
    "\n",
    "# Perform horizontal splitting of array 'a' into 2 equal parts\n",
    "print(f\"\\n {np.hsplit(a, 2) = }\")  # horizontal splitting --> 2 means split 2D array in 2 equal parts\n",
    "\n",
    "# Perform vertical splitting of array 'a' into 3 equal parts\n",
    "print(f\"\\n {np.vsplit(a, 3) = }\")  # vertical splitting"
   ]
  },
  {
   "cell_type": "code",
   "execution_count": 35,
   "metadata": {},
   "outputs": [
    {
     "name": "stdout",
     "output_type": "stream",
     "text": [
      "\n",
      " a = array([[[ 1,  2,  3,  4],\n",
      "        [ 5,  6,  7,  8]],\n",
      "\n",
      "       [[ 9, 10, 11, 12],\n",
      "        [13, 14, 15, 16]],\n",
      "\n",
      "       [[17, 18, 19, 20],\n",
      "        [21, 22, 23, 24]]]) , a.shape = (3, 2, 4)\n",
      "\n",
      " a.flatten() = array([ 1,  2,  3,  4,  5,  6,  7,  8,  9, 10, 11, 12, 13, 14, 15, 16, 17,\n",
      "       18, 19, 20, 21, 22, 23, 24])\n",
      "\n",
      " a.ravel() = array([ 1,  2,  3,  4,  5,  6,  7,  8,  9, 10, 11, 12, 13, 14, 15, 16, 17,\n",
      "       18, 19, 20, 21, 22, 23, 24])\n",
      "\n",
      " np.ravel: [ 1  2  3  4  5  6  7  8  9 10 11 12 13 14 15 16 17 18 19 20 21 22 23 24]\n",
      "\n",
      " np.ravel: [ 1  9 17  5 13 21  2 10 18  6 14 22  3 11 19  7 15 23  4 12 20  8 16 24]\n",
      "\n",
      " a.flat[4] = 5\n"
     ]
    }
   ],
   "source": [
    "# ========================================== Flatten & ravel ===================================================\n",
    "# Create a 3D array\n",
    "a = np.arange(1, 25).reshape(3, 2, 4)\n",
    "print(f\"\\n {a = } , {a.shape = }\")\n",
    "\n",
    "print(f\"\\n {a.flatten() = }\")  # Flatten the array into a 1D array\n",
    "\n",
    "print(f\"\\n {a.ravel() = }\")  # ravel -> convert multidimensional array into 1D\n",
    "\n",
    "print(f\"\\n np.ravel: {np.ravel(a, order='A')}\") # Use np.ravel with order='A' (default order)\n",
    "\n",
    "print(f\"\\n np.ravel: {np.ravel(a, order='F')}\") # Use np.ravel with order='F' (Fortran-style order)\n",
    "\n",
    "print(f\"\\n {a.flat[4] = }\")  # Access the 5th element of the flattened array"
   ]
  },
  {
   "cell_type": "code",
   "execution_count": 36,
   "metadata": {},
   "outputs": [
    {
     "name": "stdout",
     "output_type": "stream",
     "text": [
      "\n",
      " a = array([[[ 1,  2,  3,  4],\n",
      "        [ 5,  6,  7,  8]],\n",
      "\n",
      "       [[ 9, 10, 11, 12],\n",
      "        [13, 14, 15, 16]],\n",
      "\n",
      "       [[17, 18, 19, 20],\n",
      "        [21, 22, 23, 24]]]) , a.shape = (3, 2, 4)\n",
      "\n",
      " result = array([[[ 1,  2,  3,  4],\n",
      "        [ 5,  6,  7,  8]],\n",
      "\n",
      "       [[ 9, 10, 11, 12],\n",
      "        [13, 14, 15, 16]]])\n"
     ]
    }
   ],
   "source": [
    "# =============================================== Delete =======================================================\n",
    "a = np.arange(1, 25).reshape(3, 2, 4) # Create a 3D array\n",
    "print(f\"\\n {a = } , {a.shape = }\")\n",
    "\n",
    "# Delete the 3rd slice along axis 0\n",
    "result = np.delete(a, 2, axis=0)\n",
    "print(f\"\\n {result = }\")"
   ]
  },
  {
   "cell_type": "code",
   "execution_count": 69,
   "metadata": {},
   "outputs": [
    {
     "name": "stdout",
     "output_type": "stream",
     "text": [
      "[[1 2 3]\n",
      " [4 5 6]]\n",
      "Shallow copy with np.copy:\n",
      "[[99  2  3]\n",
      " [ 4  5  6]]\n",
      "Deep copy with copy.deepcopy:\n",
      "[[100   2   3]\n",
      " [  4   5   6]]\n"
     ]
    }
   ],
   "source": [
    "# =========================================== copy & eepcopy ===================================================\n",
    "# Nested array\n",
    "a = np.array([[1, 2, 3], [4, 5, 6]])\n",
    "print(a)  # Output: [[99 2 3] [4 5 6]]\n",
    "\n",
    "# Shallow copy with np.copy\n",
    "b = np.copy(a)\n",
    "b[0][0] = 99\n",
    "print(f\"Shallow copy with np.copy:\\n{b}\") # Output: [[99 2 3] [4 5 6]]\n",
    "\n",
    "# Deep copy with copy.deepcopy\n",
    "c = copy.deepcopy(a)\n",
    "c[0][0] = 100\n",
    "print(f\"Deep copy with copy.deepcopy:\\n{c}\")  # Output: [[100 2 3] [4 5 6]]"
   ]
  },
  {
   "cell_type": "code",
   "execution_count": 70,
   "metadata": {},
   "outputs": [
    {
     "name": "stdout",
     "output_type": "stream",
     "text": [
      "A:\n",
      " [[1 2]\n",
      " [3 4]]\n",
      "\n",
      " Repeat_Row:\n",
      " [[1 2]\n",
      " [1 2]\n",
      " [1 2]\n",
      " [3 4]\n",
      " [3 4]\n",
      " [3 4]]\n",
      "\n",
      " Repeat_Column:\n",
      " [[1 1 1 2 2 2]\n",
      " [3 3 3 4 4 4]]\n",
      "\n",
      " Repetition rate of the first column, Repetition rate of the second column: \n",
      "[[1 1 1 2 2]\n",
      " [3 3 3 4 4]]\n"
     ]
    }
   ],
   "source": [
    "# ================================================ repeat ======================================================\n",
    "# Create a 2x2 numpy array\n",
    "A = np.array([[1, 2],[3, 4]])\n",
    "\n",
    "# Print the original array\n",
    "print(f\"A:\\n {A}\")\n",
    "\n",
    "# Repeat each row 3 times along the row axis (axis=0)\n",
    "print(f\"\\n Repeat_Row:\\n {np.repeat(A,3, axis=0)}\")\n",
    "\n",
    "# Repeat each column 3 times along the column axis (axis=1)\n",
    "print(f\"\\n Repeat_Column:\\n {np.repeat(A,3, axis=1)}\")\n",
    "\n",
    "# Repeat the first column 3 times and the second column 2 times along the column axis (axis=1)\n",
    "a = np.repeat(A, [3, 2], axis=1)\n",
    "print(f\"\\n Repetition rate of the first column, Repetition rate of the second column: \\n{a}\")"
   ]
  },
  {
   "cell_type": "code",
   "execution_count": 73,
   "metadata": {},
   "outputs": [
    {
     "name": "stdout",
     "output_type": "stream",
     "text": [
      "A:\n",
      " [[1 2]\n",
      " [3 4]]\n",
      "\n",
      "Tiled Array:\n",
      " [[1 2 1 2]\n",
      " [3 4 3 4]\n",
      " [1 2 1 2]\n",
      " [3 4 3 4]]\n"
     ]
    }
   ],
   "source": [
    "# ================================================ tile ========================================================\n",
    "# Create a 2x2 numpy array\n",
    "A = np.array([[1, 2], [3, 4]])\n",
    "\n",
    "# Print the original array\n",
    "print(f\"A:\\n {A}\")\n",
    "\n",
    "# Use np.tile to repeat the array A, 2 times along the row axis and 2 times along the column axis\n",
    "result = np.tile(A, (2, 2))\n",
    "print(f\"\\nTiled Array:\\n {result}\")"
   ]
  },
  {
   "cell_type": "code",
   "execution_count": 74,
   "metadata": {},
   "outputs": [
    {
     "name": "stdout",
     "output_type": "stream",
     "text": [
      "Unique elements in B:\n",
      " [1 2 4 5 6 7 8 9]\n"
     ]
    }
   ],
   "source": [
    "# ================================================ unique ======================================================\n",
    "# Create a 2D numpy array\n",
    "B = np.array([[1, 1, 2, 5, 5], [5, 4, 5, 5, 6], [7, 9, 8, 8, 9]])\n",
    "\n",
    "# Use np.unique to find the unique elements in the array\n",
    "unique_elements = np.unique(B)\n",
    "print(f\"Unique elements in B:\\n {unique_elements}\")"
   ]
  },
  {
   "cell_type": "code",
   "execution_count": 76,
   "metadata": {},
   "outputs": [
    {
     "name": "stdout",
     "output_type": "stream",
     "text": [
      "A:\n",
      " [[1 2 3 4]\n",
      " [5 6 7 8]\n",
      " [8 7 2 1]]\n",
      "\n",
      " A(axis=0):\n",
      "[[1 2 2 1]\n",
      " [5 6 3 4]\n",
      " [8 7 7 8]]\n",
      "\n",
      " A(axis=None):\n",
      "[1 1 2 2 3 4 5 6 7 7 8 8]\n",
      "\n",
      " B:\n",
      "[(b'A', 1.8, 41) (b'R', 1.9, 38) (b'Q', 1.7, 38)]\n",
      "\n",
      " BB('height','age'):\n",
      "[(b'Q', 1.7, 38) (b'A', 1.8, 41) (b'R', 1.9, 38)]\n",
      "\n",
      " C(axis=0):\n",
      "[[0 0 2 2]\n",
      " [1 1 0 0]\n",
      " [2 2 1 1]]\n",
      " C(axis=1):\n",
      "[[0 1 2 3]\n",
      " [0 1 2 3]\n",
      " [3 2 1 0]]\n"
     ]
    }
   ],
   "source": [
    "# ============================================= sort & argsort =================================================\n",
    "# Create a 2D numpy array\n",
    "A = np.array([[1, 2, 3, 4], [5, 6, 7, 8], [8, 7, 2, 1]])\n",
    "print(f\"A:\\n {A}\")\n",
    "\n",
    "# Sort the array along axis=0 (sort each column)\n",
    "AA = np.sort(A, axis=0)\n",
    "print(f\"\\n A(axis=0):\\n{AA}\")\n",
    "\n",
    "# Sort the flattened array (axis=None)\n",
    "AAA = np.sort(A, axis=None)\n",
    "print(f\"\\n A(axis=None):\\n{AAA}\")\n",
    "\n",
    "# Create a structured array with fields 'name', 'height', and 'age'\n",
    "dtype = [('name', 'S10'), ('height', float), ('age', int)]\n",
    "values = [('A', 1.8, 41), ('R', 1.9, 38), ('Q', 1.7, 38)]\n",
    "B = np.array(values, dtype=dtype)\n",
    "print(f\"\\n B:\\n{B}\")\n",
    "\n",
    "# Sort the structured array first by 'height' and then by 'age'\n",
    "BB = np.sort(B, order=['height', 'age'])\n",
    "print(f\"\\n BB('height','age'):\\n{BB}\")\n",
    "\n",
    "# Get the indices that would sort the array along axis=0 (columns)\n",
    "C = np.argsort(A, axis=0)\n",
    "\n",
    "# Get the indices that would sort the array along axis=1 (rows)\n",
    "CC = np.argsort(A, axis=1)\n",
    "print(f\"\\n C(axis=0):\\n{C}\\n C(axis=1):\\n{CC}\")"
   ]
  },
  {
   "cell_type": "code",
   "execution_count": 77,
   "metadata": {},
   "outputs": [
    {
     "name": "stdout",
     "output_type": "stream",
     "text": [
      "A:\n",
      " [[  1.   2.   3.   4.]\n",
      " [  5.  nan   7.   8.]\n",
      " [  9.  nan  11. -20.]\n",
      " [  8.   7.   2.  nan]]\n",
      "\n",
      " A(max_index, axis=0):\n",
      " [2 3 2 1]\n",
      "\n",
      " A(max_index, axis=None):\n",
      " 10\n",
      "\n",
      " A(min_index, axis=0):\n",
      " [0 0 3 2]\n"
     ]
    }
   ],
   "source": [
    "# ======================================== nanargmax & nanargmin ===============================================\n",
    "# Create a 2D numpy array with NaN values\n",
    "A = np.array([[1, 2, 3, 4], [5, np.nan, 7, 8], [9, np.nan, 11, -20], [8, 7, 2, np.nan]])\n",
    "print(f\"A:\\n {A}\")\n",
    "\n",
    "# Find the indices of the maximum values along axis=0 (columns), ignoring NaN values\n",
    "AA = np.nanargmax(A, axis=0)\n",
    "print(f\"\\n A(max_index, axis=0):\\n {AA}\")\n",
    "\n",
    "# Find the index of the maximum value in the flattened array, ignoring NaN values\n",
    "AAA = np.nanargmax(A, axis=None)\n",
    "print(f\"\\n A(max_index, axis=None):\\n {AAA}\")\n",
    "\n",
    "# Find the indices of the minimum values along axis=0 (columns), ignoring NaN values\n",
    "BB = np.nanargmin(A, axis=0)\n",
    "print(f\"\\n A(min_index, axis=0):\\n {BB}\")"
   ]
  },
  {
   "cell_type": "code",
   "execution_count": 79,
   "metadata": {},
   "outputs": [
    {
     "name": "stdout",
     "output_type": "stream",
     "text": [
      "A:\n",
      " [[  1   2   3   4]\n",
      " [  9   7  11 -20]\n",
      " [  9  -7  12   6]]\n",
      "\n",
      " A((A>=3) & (A<10),A,-10):\n",
      " [[-10 -10   3   4]\n",
      " [  9   7 -10 -10]\n",
      " [  9 -10 -10   6]]\n",
      "\n",
      " A(A>7):\n",
      " [[1 0]\n",
      " [1 2]\n",
      " [2 0]\n",
      " [2 2]]\n",
      "\n",
      " B(A>7):\n",
      " [ 9 11  9 12]\n"
     ]
    }
   ],
   "source": [
    "# ======================================= where, argwhere & extract ============================================\n",
    "# Create a 2D numpy array\n",
    "A = np.array([[1, 2, 3, 4], [9, 7, 11, -20], [9, -7, 12, 6]])\n",
    "print(f\"A:\\n {A}\")\n",
    "\n",
    "# Use np.where to replace elements based on a condition\n",
    "# If the condition (A >= 3) & (A < 10) is True, keep the original value; otherwise, replace with -10\n",
    "AA = np.where((A >= 3) & (A < 10), A, -10)\n",
    "print(f\"\\n A((A>=3) & (A<10),A,-10):\\n {AA}\")\n",
    "\n",
    "# Use np.argwhere to find the indices of elements that satisfy the condition A > 7\n",
    "AAA = np.argwhere(A > 7)\n",
    "print(f\"\\n A(A>7):\\n {AAA}\")\n",
    "\n",
    "# Use np.extract to return the elements of A that satisfy the condition A > 7\n",
    "B = np.extract(A > 7, A)\n",
    "print(f\"\\n B(A>7):\\n {B}\")"
   ]
  }
 ],
 "metadata": {
  "kernelspec": {
   "display_name": "Python 3",
   "language": "python",
   "name": "python3"
  },
  "language_info": {
   "codemirror_mode": {
    "name": "ipython",
    "version": 3
   },
   "file_extension": ".py",
   "mimetype": "text/x-python",
   "name": "python",
   "nbconvert_exporter": "python",
   "pygments_lexer": "ipython3",
   "version": "3.12.4"
  }
 },
 "nbformat": 4,
 "nbformat_minor": 0
}
