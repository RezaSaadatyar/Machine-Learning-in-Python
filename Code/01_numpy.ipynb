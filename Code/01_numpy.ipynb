{
 "cells": [
  {
   "cell_type": "markdown",
   "metadata": {},
   "source": [
    "**Presented by: Reza Saadatyar (2024-2025)**<br/>\n",
    "**E-mail: Reza.Saadatyar@outlook.com**"
   ]
  },
  {
   "cell_type": "markdown",
   "metadata": {},
   "source": [
    "**1️⃣ N-d Array**<br/>\n",
    "An array is a multi-dimensional array of numerical values.<br/>\n",
    "`0-dimensional (Scalar):` A single number, e.g., 5, 3.14, -10. A <font color='red'><b>scalar</b></font> is a single number and in array-speak it's a zero dimension array.<br/>\n",
    "`1-dimensional (Vector):` A list of numbers, e.g., [1, 2, 3]. A <font color='blue'><b>vector</b></font> is a single dimension array but can contain many numbers.<br/>\n",
    "`2-dimensional (Matrix):` A table of numbers, e.g., [[1, 2], [3, 4]]. <font color='green'><b>MATRIX</b></font>  has two dimensions.<br/>\n",
    "`3-dimensional (or higher):` Like a \"cube\" of numbers or more complex higher-dimensional structures. These are common for representing images, videos, and more.<br/>\n",
    "\n",
    "**2️⃣ Getting information from Numpy**<br/>\n",
    "`shape` - what shape is the array? (some operations require specific shape rules)<br/>\n",
    "`dtype` - what data type are the elements within the array stored in?<br/>\n",
    "\n",
    "**3️⃣ Math Operations**<br/>\n",
    "`Addition` ⇒ a + b or np.add(a, b)<br/>\n",
    "`Subtraction` ⇒ a - b or np.subtract(a, b)<br/>\n",
    "`Multiplication (element-wise)` ⇒ a * b<br/>\n",
    "`Division` ⇒ a / b or np.divide(a, b)<br/>\n",
    "`Matrix multiplication` ⇒ \"@\" in Python is the symbol for matrix multiplication. Use `np.matmul()` or `np.dot()`.<br/>\n",
    " \n",
    "**4️⃣ Special Arrays**<br/>\n",
    "`zeros`<br/>\n",
    "`ones`<br/>\n",
    "`empty`<br/>\n",
    "`eye`<br/>\n",
    "`full`<br/>\n",
    "\n",
    "🔸 Using `np.zeros_like(input)` or `np.ones_like(input)` which return an array filled with zeros or ones in the same shape as the input respectively.\n",
    "\n",
    "**5️⃣ Random Arrays**<br/>\n",
    "`np.random.rand:` Create an *n x m* array filled with random numbers from a uniform distribution on the interval [0, 1).<br/>\n",
    "`np.random.randn:` Create an *n x m* array filled with random numbers from a normal distribution with mean 0 and variance 1.<br/>\n",
    "`np.random.randint: `Create an *n x m* array filled with random integers generated uniformly between low (inclusive) and high (exclusive).<br/>\n",
    "\n",
    "🔸 `np.random.permutation(value):` Create a random permutation of integers from 0 to value.<br/>\n",
    "🔸 `np.transpose(input, axes):` Permute the original array to rearrange the axis order.<br/>\n",
    "\n",
    "**6️⃣ Indexing & Slicing**<br/>\n",
    "`Indexing:` Use integer indices to specify the position of the element you want to retrieve (Accessing individual elements).<br/>\n",
    "`Slicing:` Slicing allows you to extract a sub-part of your array by specifying a range of indices using the colon : operator (Extracting sub-array ).<br/>\n",
    "   - `start:end` (exclusive end)\n",
    "   - `start:` (from start to end of dimension)\n",
    "   - `:end` (from beginning to end of dimension)\n",
    "   - `:` (all elements)\n",
    "   - `start:end:step` (start to end with given step)\n",
    "\n",
    "**7️⃣ Unsqueeze & squeeze**<br/>\n",
    "The `squeeze()` method removes all singleton dimensions from an array. It will reduce the number of dimensions by removing the ones that have a size of 1.<br/>\n",
    "The `unsqueeze()` method adds a singleton dimension at a specified position in an array. It will increase the number of dimensions by adding a size of 1 dimension at a specific position.<br/>\n",
    "\n",
    "\n",
    "\n",
    "\n",
    "**1️⃣ Creating Numpy Arrays**<br/>\n",
    "np.array → numpy.array(object, dtype=None, copy=True, order=None, subok=False, ndmin=0)<br/>\n",
    "**`Convert to tuple or list`**<br/>\n",
    "np.asarray<br/>\n",
    "\n",
    "**2️⃣ Array Attributes**<br/>\n",
    "arange<br/>\n",
    "reshape<br/>\n",
    "identity<br/>\n",
    "random, randint, rand<br/>\n",
    "uniform<br/>\n",
    "linspace<br/>\n",
    "zeros<br/>\n",
    "\n",
    "**3️⃣ Array Operations**<br/>\n",
    "prod<br/>\n",
    "dot<br/>\n",
    "\n",
    "**4️⃣ Indexing and Slicing**<br/>\n",
    "`Iterating`\n",
    "  1. `Stacking`\n",
    "  2. `Splitting`\n",
    "  3. `transpose`\n",
    "- delete\n",
    "- copy, deepcopy\n",
    "- repeat\n",
    "- tile\n",
    "- unique\n",
    "- sort, argsort\n",
    "- nanargmax, nanargmin\n",
    "- where, argwhere, extract\n",
    "\n",
    "**[Link 1](https://numpy.org/doc/stable/reference/generated/numpy.array.html_)** <br/>\n",
    "**[Link 2](https://numpy.org/doc/stable/reference/_)**\n"
   ]
  },
  {
   "cell_type": "markdown",
   "metadata": {},
   "source": [
    "<font color='#FF000e' size=\"4.8\" face=\"Arial\"><b>Import modules</b></font>"
   ]
  },
  {
   "cell_type": "code",
   "execution_count": 2,
   "metadata": {},
   "outputs": [],
   "source": [
    "import numpy as np\n",
    "import copy"
   ]
  },
  {
   "cell_type": "markdown",
   "metadata": {},
   "source": [
    "<font color=#0423d1 size=\"4.8\" face=\"Arial\"><b>N-d Array</b></font>"
   ]
  },
  {
   "cell_type": "code",
   "execution_count": 26,
   "metadata": {},
   "outputs": [
    {
     "name": "stdout",
     "output_type": "stream",
     "text": [
      "\n",
      " a = array([1.+0.j, 2.+0.j, 3.+0.j])\n",
      "\n",
      " b = array([[1., 2., 3.],\n",
      "       [4., 5., 6.]])\n",
      "\n",
      " c = array([[[1, 2],\n",
      "        [3, 4]],\n",
      "\n",
      "       [[5, 6],\n",
      "        [6, 7]]])\n",
      "\n",
      " c.astype(np.int32) = array([[[1, 2],\n",
      "        [3, 4]],\n",
      "\n",
      "       [[5, 6],\n",
      "        [6, 7]]])\n",
      "\n",
      " np.array(x) = array([1, 2, 3])\n"
     ]
    }
   ],
   "source": [
    "# Create a 1D NumPy array with complex numbers\n",
    "a = np.array([1, 2, 3], dtype=complex)\n",
    "print(f\"\\n {a = }\")\n",
    "\n",
    "# Create a 2D NumPy array with floating-point numbers\n",
    "b = np.array([[1, 2, 3], [4, 5, 6]], dtype=float)\n",
    "print(f\"\\n {b = }\")\n",
    "\n",
    "# Create a 3D NumPy array with integers\n",
    "c = np.array([[[1, 2], [3, 4]], [[5, 6], [6, 7]]])\n",
    "print(f\"\\n {c = }\")\n",
    "\n",
    "# Convert the 3D array to int32 type\n",
    "print(f\"\\n {c.astype(np.int32) = }\")\n",
    "\n",
    "# Convert a tuple to a NumPy array\n",
    "x = (1, 2, 3)\n",
    "print(f\"\\n {np.array(x) = }\")\n",
    "\n",
    "# Convert a list of tuples to a NumPy array\n",
    "x = [(1, 2, 3), (4, 5, 6)]\n",
    "c = np.asarray(x)\n",
    "print(f\"\\n {c = }\")"
   ]
  },
  {
   "cell_type": "markdown",
   "metadata": {},
   "source": [
    "<font color=#0423d1 size=\"4.8\" face=\"Arial\"><b>Getting information from Numpy</b></font>"
   ]
  },
  {
   "cell_type": "code",
   "execution_count": 35,
   "metadata": {},
   "outputs": [
    {
     "name": "stdout",
     "output_type": "stream",
     "text": [
      "a = array([[[1, 2],\n",
      "        [3, 4]],\n",
      "\n",
      "       [[5, 6],\n",
      "        [6, 7]]])\n",
      "a.shape = (2, 2, 2), a.ndim = 3, np.size(a) = 8\n"
     ]
    }
   ],
   "source": [
    "# Create a 3D NumPy array with integers\n",
    "a = np.array([[[1, 2], [3, 4]], [[5, 6], [6, 7]]])\n",
    "\n",
    "print(f\"{a = }\\n{a.shape = }, {a.ndim = }, {np.size(a) = }\")\n",
    "\n"
   ]
  },
  {
   "cell_type": "markdown",
   "metadata": {},
   "source": [
    "<font color=#24f508 size=\"4.8\" face=\"Arial\"><b>Array Attributes</b></font>"
   ]
  },
  {
   "cell_type": "code",
   "execution_count": 14,
   "metadata": {},
   "outputs": [
    {
     "name": "stdout",
     "output_type": "stream",
     "text": [
      "\n",
      " a = array([ 1,  3,  5,  7,  9, 11, 13, 15, 17, 19]) \n",
      "a.size = 10\n",
      "\n",
      " np.linspace(1, 20, 10) = array([ 1.        ,  3.11111111,  5.22222222,  7.33333333,  9.44444444,\n",
      "       11.55555556, 13.66666667, 15.77777778, 17.88888889, 20.        ])\n",
      "\n",
      " b = array([[ 1,  2,  3,  4,  5],\n",
      "       [ 6,  7,  8,  9, 10],\n",
      "       [11, 12, 13, 14, 15],\n",
      "       [16, 17, 18, 19, 20]]) \n",
      "b.size = 20\n",
      "\n",
      " c = array([[[ 0,  1,  2],\n",
      "        [ 3,  4,  5]],\n",
      "\n",
      "       [[ 6,  7,  8],\n",
      "        [ 9, 10, 11]],\n",
      "\n",
      "       [[12, 13, 14],\n",
      "        [15, 16, 17]]]) \n",
      "c.size = 18\n"
     ]
    }
   ],
   "source": [
    "# Create a 1D array with values from 1 to 19, stepping by 2\n",
    "a = np.arange(1, 20, 2, dtype=int)  # numpy.arange(start, stop, step, dtype)\n",
    "print(f\"\\n {a = } \\n{a.size = }\")\n",
    "\n",
    "# Create an array of 10 evenly spaced numbers between -1 and 5\n",
    "print(f\"\\n {np.linspace(1, 20, 10) = }\") # np.linspace(start, stop, num, endpoint, retstep, dtype)\n",
    "\n",
    "# Create a 2D array with values from 1 to 20, reshaped into a 4x5 matrix\n",
    "b = np.arange(1, 21).reshape(4, 5)\n",
    "print(f\"\\n {b = } \\n{b.size = }\")\n",
    "\n",
    "# Create a 3D array with values from 0 to 17, reshaped into a 3x2x3 tensor\n",
    "c = np.arange(18).reshape(3, 2, 3)\n",
    "print(f\"\\n {c = } \\n{c.size = }\")"
   ]
  },
  {
   "cell_type": "markdown",
   "metadata": {},
   "source": [
    "<font color=#f706bb size=\"4.8\" face=\"Arial\"><b>Random Number Generation</b></font>"
   ]
  },
  {
   "cell_type": "code",
   "execution_count": 17,
   "metadata": {},
   "outputs": [
    {
     "name": "stdout",
     "output_type": "stream",
     "text": [
      "\n",
      " np.identity(3) = array([[1., 0., 0.],\n",
      "       [0., 1., 0.],\n",
      "       [0., 0., 1.]])\n",
      "\n",
      " np.random.randn(2, 3) = array([[-0.68377167,  0.69702322, -2.1013549 ],\n",
      "       [-0.56936592,  0.68608536,  0.7335797 ]])\n",
      "\n",
      " [[0.90599792 0.33113679 0.00349515]\n",
      " [0.06197877 0.62320144 0.53321695]]\n",
      "\n",
      " np.random.randint(1, 4) = 3\n",
      "\n",
      " np.random.rand(2, 3) = array([[9.12631369e-01, 3.43119188e-01, 6.62198162e-01],\n",
      "       [9.36040181e-01, 6.30103697e-01, 8.49865804e-04]])\n",
      "\n",
      " np.random.uniform(2, 3) = 2.0455599266792546\n",
      "\n",
      " np.zeros((4, 2)) = array([[0., 0.],\n",
      "       [0., 0.],\n",
      "       [0., 0.],\n",
      "       [0., 0.]])\n"
     ]
    }
   ],
   "source": [
    "# Create a 3x3 identity matrix (diagonal elements are 1, others are 0)\n",
    "print(f\"\\n {np.identity(3) = }\")\n",
    "\n",
    "# Create a 2x3 array of random numbers from a normal distribution with mean 0 and variance 1.\n",
    "print(f\"\\n {np.random.randn(2, 3) = }\")\n",
    "\n",
    "# Create a 2x3 array of random numbers from a uniform distribution over the interval [0, 1)\n",
    "print(f\"\\n {np.random.random((2, 3))}\")\n",
    "\n",
    "# Generate a random integer between 1 (inclusive) and 4 (exclusive)\n",
    "print(f\"\\n {np.random.randint(1, 4) = }\")\n",
    "\n",
    "# Create a 2x3 array of random numbers from a uniform distribution over the interval [0, 1).\n",
    "print(f\"\\n {np.random.rand(2, 3) = }\")\n",
    "\n",
    "# Generate a random floating-point number between 2 (inclusive) and 3 (exclusive)\n",
    "print(f\"\\n {np.random.uniform(2, 3) = }\")\n",
    "\n",
    "# Create a 4x2 array filled with zeros\n",
    "print(f\"\\n {np.zeros((4, 2)) = }\")"
   ]
  },
  {
   "cell_type": "markdown",
   "metadata": {},
   "source": [
    "<font color=#0afcf0 size=\"4.8\" face=\"Arial\"><b>Array Operations</b></font>"
   ]
  },
  {
   "cell_type": "code",
   "execution_count": 19,
   "metadata": {},
   "outputs": [
    {
     "name": "stdout",
     "output_type": "stream",
     "text": [
      "\n",
      " a = array([[1, 2, 3],\n",
      "       [4, 5, 6]])\n",
      "\n",
      " b = array([[ 7,  8,  9],\n",
      "       [10, 11, 12]]) \n",
      "b.size = 6\n",
      "\n",
      " a * 2 = array([[ 2,  4,  6],\n",
      "       [ 8, 10, 12]])\n",
      "\n",
      " a ** 2 = array([[ 1,  4,  9],\n",
      "       [16, 25, 36]])\n",
      "\n",
      " a > 5 = array([[False, False, False],\n",
      "       [False, False,  True]])\n",
      "\n",
      " a * b = array([[ 7, 16, 27],\n",
      "       [40, 55, 72]])\n",
      "\n",
      " a ** b = array([[          1,         256,       19683],\n",
      "       [    1048576,    48828125, -2118184960]])\n",
      "\n",
      " Product: 720\n"
     ]
    }
   ],
   "source": [
    "# Create a 2D array\n",
    "a = np.array([[1, 2, 3], [4, 5, 6]])\n",
    "print(f\"\\n {a = }\")\n",
    "\n",
    "# Create another 2D array using arange and reshape\n",
    "b = np.arange(7, 13).reshape(2, 3)\n",
    "print(f\"\\n {b = } \\n{b.size = }\")\n",
    "\n",
    "# Multiply each element of array 'a' by 2\n",
    "print(f\"\\n {a * 2 = }\")\n",
    "\n",
    "# Square each element of array 'a'\n",
    "print(f\"\\n {a ** 2 = }\")\n",
    "\n",
    "# Check which elements of array 'a' are greater than 5\n",
    "print(f\"\\n {a > 5 = }\")\n",
    "\n",
    "# Element-wise multiplication of arrays 'a' and 'b'\n",
    "print(f\"\\n {a * b = }\")\n",
    "\n",
    "# Element-wise exponentiation of array 'a' raised to the power of array 'b'\n",
    "print(f\"\\n {a ** b = }\")\n",
    "\n",
    "# Compute the product of all elements in array 'a'\n",
    "print(f\"\\n Product: {np.prod(a)}\")"
   ]
  },
  {
   "cell_type": "code",
   "execution_count": 20,
   "metadata": {},
   "outputs": [
    {
     "name": "stdout",
     "output_type": "stream",
     "text": [
      "\n",
      " a = array([[1, 2, 3],\n",
      "       [4, 5, 6]])\n",
      "\n",
      " b = array([[ 7,  8],\n",
      "       [ 9, 10],\n",
      "       [11, 12]])\n",
      "\n",
      " c = array([[ 58,  64],\n",
      "       [139, 154]])\n",
      "\n",
      " A:\n",
      "[[1 2]\n",
      " [1 2]] \n",
      " B:\n",
      "[[3 4]\n",
      " [3 4]]\n",
      "\n",
      " multiply(A,B) or A*B:\n",
      "[[3 8]\n",
      " [3 8]]\n",
      "\n",
      " dot(A,B):\n",
      "[[ 9 12]\n",
      " [ 9 12]]\n"
     ]
    }
   ],
   "source": [
    "# Create a 2D array\n",
    "a = np.array([[1, 2, 3], [4, 5, 6]])\n",
    "print(f\"\\n {a = }\")\n",
    "\n",
    "# Create another 2D array using arange and reshape\n",
    "b = np.arange(7, 13).reshape(3, 2)\n",
    "print(f\"\\n {b = }\")\n",
    "\n",
    "# Perform matrix multiplication (dot product) of a and b\n",
    "c = a.dot(b)  # (row1, col1) (row2, col2) -> row1 = col2 and col1 = row2 if this condition true then we apply dot product\n",
    "print(f\"\\n {c = }\")\n",
    "\n",
    "# Create two 2x2 arrays\n",
    "A = np.array([[1, 2], [1, 2]])\n",
    "B = np.array([[3, 4], [3, 4]])\n",
    "print(f\"\\n A:\\n{A} \\n B:\\n{B}\")\n",
    "\n",
    "# Perform element-wise multiplication of A and B\n",
    "AA = np.multiply(A, B)\n",
    "print(f\"\\n multiply(A,B) or A*B:\\n{AA}\")\n",
    "\n",
    "# Perform matrix multiplication (dot product) of A and B\n",
    "AAA = np.dot(A, B)\n",
    "print(f\"\\n dot(A,B):\\n{AAA}\")"
   ]
  },
  {
   "attachments": {
    "image.png": {
     "image/png": "[encoded data removed]"
    }
   },
   "cell_type": "markdown",
   "metadata": {},
   "source": [
    "<font color=#ffaaaa size=\"4.8\" face=\"Arial\"><b>Indexing and Slicing</b></font>\n",
    "\n",
    "![image.png](attachment:image.png)"
   ]
  },
  {
   "cell_type": "code",
   "execution_count": 21,
   "metadata": {},
   "outputs": [
    {
     "name": "stdout",
     "output_type": "stream",
     "text": [
      "\n",
      " a = array([[ 1,  2,  3,  4],\n",
      "       [ 5,  6,  7,  8],\n",
      "       [ 9, 10, 11, 12]])\n",
      "\n",
      " extracting 10 : 10\n",
      "\n",
      " b = array([[[ 1,  2],\n",
      "        [ 3,  4],\n",
      "        [ 5,  6]],\n",
      "\n",
      "       [[ 7,  8],\n",
      "        [ 9, 10],\n",
      "        [11, 12]]])\n",
      "\n",
      " extracting 5 : 8\n"
     ]
    }
   ],
   "source": [
    "a = np.arange(1, 13).reshape(3,4)\n",
    "print(f\"\\n {a = }\")\n",
    "print(f\"\\n extracting 10 : {a[2, 1]}\")       # a[row number, column number]\n",
    "\n",
    "b = np.arange(1, 13).reshape(2,3, 2)\n",
    "print(f\"\\n {b = }\")\n",
    "print(f\"\\n extracting 5 : {b[1, 0, 1]}\")     # b[2D array number, row , column]"
   ]
  },
  {
   "cell_type": "code",
   "execution_count": 22,
   "metadata": {},
   "outputs": [
    {
     "name": "stdout",
     "output_type": "stream",
     "text": [
      "a = array([[ 1,  2,  3,  4],\n",
      "       [ 5,  6,  7,  8],\n",
      "       [ 9, 10, 11, 12]])\n",
      "\n",
      " Extracting first row : [1 2 3 4]\n",
      " \n",
      " Extracting first column: [1 5 9]\n",
      "\n",
      " a[1:3, 1:3] = array([[ 6,  7],\n",
      "       [10, 11]])\n"
     ]
    }
   ],
   "source": [
    "a = np.arange(1, 13).reshape(3,4)\n",
    "print(f\"{a = }\")\n",
    "\n",
    "print(f\"\\n Extracting first row : {a[0, :]}\")        # Extracting row\n",
    "\n",
    "print(f\" \\n Extracting first column: {a[:, 0]}\")      # Extracting column\n",
    "\n",
    "print(f\"\\n {a[1:3, 1:3] = }\")                        # a[start row: end row, start col : end col]"
   ]
  },
  {
   "cell_type": "code",
   "execution_count": 104,
   "metadata": {},
   "outputs": [
    {
     "name": "stdout",
     "output_type": "stream",
     "text": [
      "\n",
      " a = array([[ 1,  2,  3,  4],\n",
      "       [ 5,  6,  7,  8],\n",
      "       [ 9, 10, 11, 12]])\n",
      "\n",
      " a[::2, ::3] = array([[ 1,  4],\n",
      "       [ 9, 12]])\n",
      "\n",
      " a[::2, 1::2] = array([[ 2,  4],\n",
      "       [10, 12]])\n",
      "\n",
      " a[1, ::3] = array([5, 8])\n"
     ]
    }
   ],
   "source": [
    "a = np.arange(1, 13).reshape(3,4)\n",
    "print(f\"\\n {a = }\")\n",
    "print(f\"\\n {a[::2, ::3] = }\")                        # a[start row : end row : skip row, start col, end col: skip col]   \n",
    "\n",
    "print(f\"\\n {a[::2, 1::2] = }\")                       # Extracting [2, 4],[10, 12]\n",
    "\n",
    "print(f\"\\n {a[1, ::3] = }\")"
   ]
  },
  {
   "cell_type": "code",
   "execution_count": 105,
   "metadata": {},
   "outputs": [
    {
     "name": "stdout",
     "output_type": "stream",
     "text": [
      "B:\n",
      "[[ 0  1  2  3]\n",
      " [ 4  5  6  7]\n",
      " [ 8  9 10 11]\n",
      " [12 13 14 15]\n",
      " [16 17 18 19]\n",
      " [20 21 22 23]\n",
      " [24 25 26 27]\n",
      " [28 29 30 31]]\n",
      "\n",
      " B[[1,3,5,6],[0,2,2,3]]:\n",
      "[ 4 14 22 27]\n",
      "\n",
      " B[[1,5,7,2]][[:,[0,3,1,2]]] or (row-->1,5,7,2)(all rows,col-->0,3,2,1):\n",
      " [[ 4  7  5  6]\n",
      " [20 23 21 22]\n",
      " [28 31 29 30]\n",
      " [ 8 11  9 10]]\n",
      "\n",
      " B[:2,1:]:\n",
      " [[2 3 4]\n",
      " [6 7 8]]\n",
      "\n",
      " B[B>4]=0:\n",
      " [[  1   2   3   4]\n",
      " [  0   0   0   0]\n",
      " [  0  -1   0 -20]\n",
      " [  0   0   2   1]\n",
      " [  1  -7   0   0]]\n",
      "\n",
      " B[[1,3,0]]: \n",
      "[[0 0 0 0]\n",
      " [0 0 2 1]\n",
      " [1 2 3 4]]\n"
     ]
    }
   ],
   "source": [
    "B=np.arange(32).reshape((8,4))\n",
    "print(f\"B:\\n{B}\")\n",
    "\n",
    "print(f\"\\n B[[1,3,5,6],[0,2,2,3]]:\\n{B[[1,3,5,6],[0,2,2,3]]}\") # B[1,0],B[3,5],B[5,2],[6,3]\n",
    "\n",
    "print(f\"\\n B[[1,5,7,2]][[:,[0,3,1,2]]] or (row-->1,5,7,2)(all rows,col-->0,3,2,1):\\n {B[[1,5,7,2]][:,[0,3,1,2]]}\") \n",
    "\n",
    "B=np.array([[1,2,3,4],[5,6,7,8],[9,-1,11,-20],[8,7,2,1],[1,-7,12,6]])\n",
    "print(f\"\\n B[:2,1:]:\\n {B[:2,1:] }\")       # [row i:row j, col i:col j]\n",
    "B[B>4]=0\n",
    "print(f\"\\n B[B>4]=0:\\n {B}\")\n",
    "\n",
    "print(f\"\\n B[[1,3,0]]: \\n{B[[1,3,0]]}\")"
   ]
  },
  {
   "attachments": {
    "image-2.png": {
     "image/png": "[encoded data removed]"
    },
    "image.png": {
     "image/png": "[encoded data removed]"
    }
   },
   "cell_type": "markdown",
   "metadata": {},
   "source": [
    "*5.2: 3D*<br/>\n",
    "![image-2.png](attachment:image-2.png)"
   ]
  },
  {
   "cell_type": "code",
   "execution_count": 106,
   "metadata": {},
   "outputs": [
    {
     "name": "stdout",
     "output_type": "stream",
     "text": [
      "\n",
      " a = array([[[ 1,  2,  3,  4],\n",
      "        [ 5,  6,  7,  8]],\n",
      "\n",
      "       [[ 9, 10, 11, 12],\n",
      "        [13, 14, 15, 16]],\n",
      "\n",
      "       [[17, 18, 19, 20],\n",
      "        [21, 22, 23, 24]]])\n",
      "\n",
      " a[::2] = array([[[ 1,  2,  3,  4],\n",
      "        [ 5,  6,  7,  8]],\n",
      "\n",
      "       [[17, 18, 19, 20],\n",
      "        [21, 22, 23, 24]]])\n"
     ]
    }
   ],
   "source": [
    "a = np.arange(1, 25).reshape(3,2,4)\n",
    "print(f\"\\n {a = }\")\n",
    "\n",
    "print(f\"\\n {a[::2] = }\")                    # extract first and last array in 3D"
   ]
  },
  {
   "cell_type": "code",
   "execution_count": 107,
   "metadata": {},
   "outputs": [
    {
     "name": "stdout",
     "output_type": "stream",
     "text": [
      "\n",
      " a = array([[[ 1,  2,  3,  4],\n",
      "        [ 5,  6,  7,  8]],\n",
      "\n",
      "       [[ 9, 10, 11, 12],\n",
      "        [13, 14, 15, 16]],\n",
      "\n",
      "       [[17, 18, 19, 20],\n",
      "        [21, 22, 23, 24]]])\n",
      "\n",
      " a[0, 1, :] = array([5, 6, 7, 8])\n",
      "\n",
      " a[0, 1, 1:2] = array([6])\n",
      "\n",
      " a[0:2, 1, 1:3] = array([[ 6,  7],\n",
      "       [14, 15]])\n"
     ]
    }
   ],
   "source": [
    "a = np.arange(1, 25).reshape(3,2,4)\n",
    "print(f\"\\n {a = }\")\n",
    "\n",
    "print(f\"\\n {a[0, 1, :] = }\")           # a[start number of 2D array : end no.of 2D array,star row:end row, start col:end col]\n",
    "\n",
    "print(f\"\\n {a[0, 1, 1:2] = }\")         # a[start number of 2D array : end no.of 2D array,star row:end row, start col:end col]\n",
    "\n",
    "print(f\"\\n {a[0:2, 1, 1:3] = }\")       # a[start number of 2D array : end no.of 2D array,star row:end row, start col:end col]"
   ]
  },
  {
   "cell_type": "code",
   "execution_count": 108,
   "metadata": {},
   "outputs": [
    {
     "name": "stdout",
     "output_type": "stream",
     "text": [
      "\n",
      " a[1, :, 1] = array([10, 14])\n",
      "\n",
      " a[2, 1:, 1:] = array([[22, 23, 24]])\n",
      "\n",
      " a[::2, :, 1] = array([[ 2,  6],\n",
      "       [18, 22]])\n",
      "\n",
      " a[::2, :, ::3] = array([[[ 1,  4],\n",
      "        [ 5,  8]],\n",
      "\n",
      "       [[17, 20],\n",
      "        [21, 24]]])\n",
      "\n",
      " a[1::2, :, ::3] = array([[[ 9, 12],\n",
      "        [13, 16]]])\n"
     ]
    }
   ],
   "source": [
    "print(f\"\\n {a[1, :, 1] = }\")          # a[start number of 2D array : end no.of 2D array,star row:end row, start col:end col]\n",
    "\n",
    "print(f\"\\n {a[2, 1:, 1:] = }\")        # a[start number of 2D array : end no.of 2D array,star row:end row, start col:end col]\n",
    "\n",
    "print(f\"\\n {a[::2, :, 1] = }\")        # a[start number of 2D array : end no.of 2D array,star row:end row, start col:end col]\n",
    "\n",
    "print(f\"\\n {a[::2, :, ::3] = }\")      # a[start number of 2D array : end no.of 2D array,star row:end row, start col:end col]\n",
    "\n",
    "print(f\"\\n {a[1::2, :, ::3] = }\")     # a[start number of 2D array : end no.of 2D array,star row:end row, start col:end col]"
   ]
  },
  {
   "cell_type": "code",
   "execution_count": 109,
   "metadata": {},
   "outputs": [
    {
     "name": "stdout",
     "output_type": "stream",
     "text": [
      "\n",
      " C is 3-D(2*2*3): \n",
      " [[[ 1  2  3]\n",
      "  [ 4  5  6]]\n",
      "\n",
      " [[ 7  8  9]\n",
      "  [10 11 12]]]\n",
      "\n",
      " C[0]:\n",
      " [[1 2 3]\n",
      " [4 5 6]] \n",
      " C[1]:\n",
      "[[ 7  8  9]\n",
      " [10 11 12]]\n",
      "\n",
      " C[0][1] or C[0,1]:\n",
      " [4 5 6] \n",
      " C[1][1] or C[1,1]:\n",
      "[10 11 12]\n",
      "\n",
      " C[0]=100:\n",
      " [[100 100 100]\n",
      " [100 100 100]] \n"
     ]
    }
   ],
   "source": [
    "C = np.array([[[1,2,3],[4,5,6]],[[7,8,9],[10,11,12]]])\n",
    "print(f\"\\n C is 3-D(2*2*3): \\n {C}\")\n",
    "\n",
    "print(f\"\\n C[0]:\\n {C[0]} \\n C[1]:\\n{C[1]}\")\n",
    "\n",
    "print(f\"\\n C[0][1] or C[0,1]:\\n {C[0][1]} \\n C[1][1] or C[1,1]:\\n{C[1][1]}\")\n",
    "\n",
    "C[0]=100\n",
    "print(f\"\\n C[0]=100:\\n {C[0]} \")"
   ]
  },
  {
   "cell_type": "markdown",
   "metadata": {},
   "source": [
    "*6. Iterating*"
   ]
  },
  {
   "cell_type": "code",
   "execution_count": 110,
   "metadata": {},
   "outputs": [
    {
     "name": "stdout",
     "output_type": "stream",
     "text": [
      "a = array([[[ 1,  2,  3,  4],\n",
      "        [ 5,  6,  7,  8]],\n",
      "\n",
      "       [[ 9, 10, 11, 12],\n",
      "        [13, 14, 15, 16]],\n",
      "\n",
      "       [[17, 18, 19, 20],\n",
      "        [21, 22, 23, 24]]])\n"
     ]
    }
   ],
   "source": [
    "a = np.arange(1, 25).reshape(3,2,4)\n",
    "print(f\"{a = }\")"
   ]
  },
  {
   "cell_type": "code",
   "execution_count": 111,
   "metadata": {},
   "outputs": [
    {
     "name": "stdout",
     "output_type": "stream",
     "text": [
      "\n",
      " [[1 2 3 4]\n",
      " [5 6 7 8]]\n",
      "\n",
      " [[ 9 10 11 12]\n",
      " [13 14 15 16]]\n",
      "\n",
      " [[17 18 19 20]\n",
      " [21 22 23 24]]\n"
     ]
    }
   ],
   "source": [
    "for i in a:\n",
    "    print(f\"\\n {i}\")"
   ]
  },
  {
   "cell_type": "code",
   "execution_count": 112,
   "metadata": {},
   "outputs": [
    {
     "name": "stdout",
     "output_type": "stream",
     "text": [
      "1,2,3,4,5,6,7,8,9,10,11,12,13,14,15,16,17,18,19,20,21,22,23,24,"
     ]
    }
   ],
   "source": [
    "for i in np.nditer(a):                # Print all the number of 3D array\n",
    "    print(i ,end=',')"
   ]
  },
  {
   "cell_type": "markdown",
   "metadata": {},
   "source": [
    "*7. Stacking*"
   ]
  },
  {
   "cell_type": "code",
   "execution_count": 114,
   "metadata": {},
   "outputs": [
    {
     "name": "stdout",
     "output_type": "stream",
     "text": [
      "\n",
      " a = array([[1, 2, 3],\n",
      "       [4, 5, 6]])\n",
      "\n",
      " b = array([[ 7,  8,  9],\n",
      "       [10, 11, 12]])\n",
      "\n",
      " np.hstack((a, b)) = array([[ 1,  2,  3,  7,  8,  9],\n",
      "       [ 4,  5,  6, 10, 11, 12]])\n"
     ]
    }
   ],
   "source": [
    "a = np.arange(1, 7).reshape(2,3)\n",
    "print(f\"\\n {a = }\")\n",
    "\n",
    "b = np.arange(7, 13).reshape(2,3)\n",
    "print(f\"\\n {b = }\")\n",
    "\n",
    "print(f\"\\n {np.hstack((a, b)) = }\")   # horizontal stacking"
   ]
  },
  {
   "cell_type": "code",
   "execution_count": 115,
   "metadata": {},
   "outputs": [
    {
     "name": "stdout",
     "output_type": "stream",
     "text": [
      "[[ 1  2  3]\n",
      " [ 4  5  6]\n",
      " [ 7  8  9]\n",
      " [10 11 12]]\n"
     ]
    }
   ],
   "source": [
    "print(f\"{np.vstack((a, b))}\")   # vertical stack"
   ]
  },
  {
   "cell_type": "markdown",
   "metadata": {},
   "source": [
    "*8. Splitting*"
   ]
  },
  {
   "cell_type": "code",
   "execution_count": 116,
   "metadata": {},
   "outputs": [
    {
     "name": "stdout",
     "output_type": "stream",
     "text": [
      "\n",
      " a = array([[ 1,  2,  3,  4],\n",
      "       [ 5,  6,  7,  8],\n",
      "       [ 9, 10, 11, 12]])\n",
      "\n",
      " np.hsplit(a, 2) = [array([[ 1,  2],\n",
      "       [ 5,  6],\n",
      "       [ 9, 10]]), array([[ 3,  4],\n",
      "       [ 7,  8],\n",
      "       [11, 12]])]\n",
      "\n",
      " np.vsplit(a, 3) = [array([[1, 2, 3, 4]]), array([[5, 6, 7, 8]]), array([[ 9, 10, 11, 12]])]\n"
     ]
    }
   ],
   "source": [
    "a = np.arange(1, 13).reshape(3,4)\n",
    "print(f\"\\n {a = }\")\n",
    "\n",
    "print(f\"\\n {np.hsplit(a, 2) = }\")         # horizontal splitting --> 2 means split 2D array in 2 equal parts\n",
    "\n",
    "print(f\"\\n {np.vsplit(a, 3) = }\")         # vertical splitting"
   ]
  },
  {
   "cell_type": "code",
   "execution_count": 117,
   "metadata": {},
   "outputs": [
    {
     "name": "stdout",
     "output_type": "stream",
     "text": [
      "\n",
      " a = array([[[ 1,  2,  3,  4],\n",
      "        [ 5,  6,  7,  8]],\n",
      "\n",
      "       [[ 9, 10, 11, 12],\n",
      "        [13, 14, 15, 16]],\n",
      "\n",
      "       [[17, 18, 19, 20],\n",
      "        [21, 22, 23, 24]]]) , a.shape = (3, 2, 4)\n",
      "\n",
      " np.transpose(a) = array([[[ 1,  9, 17],\n",
      "        [ 5, 13, 21]],\n",
      "\n",
      "       [[ 2, 10, 18],\n",
      "        [ 6, 14, 22]],\n",
      "\n",
      "       [[ 3, 11, 19],\n",
      "        [ 7, 15, 23]],\n",
      "\n",
      "       [[ 4, 12, 20],\n",
      "        [ 8, 16, 24]]]), np.transpose(a).shape = (4, 2, 3)\n",
      "\n",
      " a.T = array([[[ 1,  9, 17],\n",
      "        [ 5, 13, 21]],\n",
      "\n",
      "       [[ 2, 10, 18],\n",
      "        [ 6, 14, 22]],\n",
      "\n",
      "       [[ 3, 11, 19],\n",
      "        [ 7, 15, 23]],\n",
      "\n",
      "       [[ 4, 12, 20],\n",
      "        [ 8, 16, 24]]]), a.T.shape = (4, 2, 3)\n"
     ]
    }
   ],
   "source": [
    "a = np.arange(1, 25).reshape(3,2,4)\n",
    "print(f\"\\n {a = } , {a.shape = }\" )\n",
    "\n",
    "print(f\"\\n {np.transpose(a) = }, {np.transpose(a).shape = }\")\n",
    "\n",
    "print(f\"\\n {a.T = }, {a.T.shape = }\")"
   ]
  },
  {
   "cell_type": "code",
   "execution_count": 118,
   "metadata": {},
   "outputs": [
    {
     "name": "stdout",
     "output_type": "stream",
     "text": [
      "\n",
      " a = array([[[ 1,  2,  3,  4],\n",
      "        [ 5,  6,  7,  8]],\n",
      "\n",
      "       [[ 9, 10, 11, 12],\n",
      "        [13, 14, 15, 16]],\n",
      "\n",
      "       [[17, 18, 19, 20],\n",
      "        [21, 22, 23, 24]]]) , a.shape = (3, 2, 4)\n",
      "\n",
      " a.flatten() = array([ 1,  2,  3,  4,  5,  6,  7,  8,  9, 10, 11, 12, 13, 14, 15, 16, 17,\n",
      "       18, 19, 20, 21, 22, 23, 24])\n",
      "\n",
      " a.ravel() = array([ 1,  2,  3,  4,  5,  6,  7,  8,  9, 10, 11, 12, 13, 14, 15, 16, 17,\n",
      "       18, 19, 20, 21, 22, 23, 24])\n",
      "\n",
      " np.ravel: [ 1  2  3  4  5  6  7  8  9 10 11 12 13 14 15 16 17 18 19 20 21 22 23 24]\n",
      "\n",
      " np.ravel: [ 1  9 17  5 13 21  2 10 18  6 14 22  3 11 19  7 15 23  4 12 20  8 16 24]\n",
      "\n",
      " a.flat[4] = 5\n"
     ]
    }
   ],
   "source": [
    "a = np.arange(1, 25).reshape(3,2,4)\n",
    "print(f\"\\n {a = } , {a.shape = }\" )\n",
    "\n",
    "print(f\"\\n {a.flatten() = }\")\n",
    "\n",
    "print(f\"\\n {a.ravel() = }\")            # ravel -> convert multidimensional array into 1D\n",
    "\n",
    "print(f\"\\n np.ravel: {np.ravel(a, order='A')}\")\n",
    "\n",
    "print(f\"\\n np.ravel: {np.ravel(a, order='F')}\")\n",
    "\n",
    "print(f\"\\n {a.flat[4] = }\")"
   ]
  },
  {
   "cell_type": "code",
   "execution_count": 119,
   "metadata": {},
   "outputs": [
    {
     "name": "stdout",
     "output_type": "stream",
     "text": [
      "\n",
      " a = array([[[ 1,  2,  3,  4],\n",
      "        [ 5,  6,  7,  8]],\n",
      "\n",
      "       [[ 9, 10, 11, 12],\n",
      "        [13, 14, 15, 16]],\n",
      "\n",
      "       [[17, 18, 19, 20],\n",
      "        [21, 22, 23, 24]]]) , a.shape = (3, 2, 4)\n"
     ]
    },
    {
     "data": {
      "text/plain": [
       "array([[[ 1,  2,  3,  4],\n",
       "        [ 5,  6,  7,  8]],\n",
       "\n",
       "       [[ 9, 10, 11, 12],\n",
       "        [13, 14, 15, 16]]])"
      ]
     },
     "execution_count": 119,
     "metadata": {},
     "output_type": "execute_result"
    }
   ],
   "source": [
    "a = np.arange(1, 25).reshape(3,2,4)\n",
    "print(f\"\\n {a = } , {a.shape = }\" )\n",
    "\n",
    "np.delete(a, 2, axis=0)"
   ]
  },
  {
   "cell_type": "code",
   "execution_count": 120,
   "metadata": {},
   "outputs": [
    {
     "name": "stdout",
     "output_type": "stream",
     "text": [
      "A:\n",
      " [[[ 1  2  3  4]\n",
      "  [ 5  6  7  8]]\n",
      "\n",
      " [[ 9 10 11 12]\n",
      "  [13 14 15 16]]\n",
      "\n",
      " [[17 18 19 20]\n",
      "  [21 22 23 24]]],\n",
      " b:\n",
      " [[[ 1  2  3  4]\n",
      "  [ 5  6  7  8]]\n",
      "\n",
      " [[ 9 10 11 12]\n",
      "  [13 14 15 16]]\n",
      "\n",
      " [[10 10 10 10]\n",
      "  [21 22 23 24]]]\n"
     ]
    }
   ],
   "source": [
    "b = np.copy(a)\n",
    "b[2][0] = 10\n",
    "print(f\"A:\\n {a},\\n b:\\n {b}\")"
   ]
  },
  {
   "cell_type": "code",
   "execution_count": 121,
   "metadata": {},
   "outputs": [
    {
     "name": "stdout",
     "output_type": "stream",
     "text": [
      "A:\n",
      " [[[ 1  2  3  4]\n",
      "  [ 5  6  7  8]]\n",
      "\n",
      " [[ 9 10 11 12]\n",
      "  [13 14 15 16]]\n",
      "\n",
      " [[17 18 19 20]\n",
      "  [21 22 23 24]]],\n",
      " c:\n",
      " [[[ 1  2  3  4]\n",
      "  [ 5  6  7  8]]\n",
      "\n",
      " [[ 9 10 11 12]\n",
      "  [13 14 15 16]]\n",
      "\n",
      " [[12 12 12 12]\n",
      "  [21 22 23 24]]]\n"
     ]
    }
   ],
   "source": [
    "c = copy.deepcopy(a)\n",
    "c[2][0] = 12\n",
    "print(f\"A:\\n {a},\\n c:\\n {c}\")"
   ]
  },
  {
   "cell_type": "code",
   "execution_count": 122,
   "metadata": {},
   "outputs": [
    {
     "name": "stdout",
     "output_type": "stream",
     "text": [
      "A:\n",
      " [[1 2]\n",
      " [3 4]\n",
      " [5 6]]\n",
      "\n",
      " Repeat_Row:\n",
      " [[1 2]\n",
      " [1 2]\n",
      " [3 4]\n",
      " [3 4]\n",
      " [5 6]\n",
      " [5 6]]\n",
      "\n",
      " Repeat_Column:\n",
      " [[1 1 2 2]\n",
      " [3 3 4 4]\n",
      " [5 5 6 6]]\n",
      "\n",
      " Repetition rate of the first column, Repetition rate of the second column: \n",
      "[[1 1 1 2]\n",
      " [3 3 3 4]\n",
      " [5 5 5 6]]\n"
     ]
    }
   ],
   "source": [
    "A = np.array([[1, 2],[3, 4],[5,6]])\n",
    "print(f\"A:\\n {A}\")\n",
    "\n",
    "print(f\"\\n Repeat_Row:\\n {np.repeat(A,2, axis=0)}\")\n",
    "\n",
    "print(f\"\\n Repeat_Column:\\n {np.repeat(A,2, axis=1)}\")\n",
    "\n",
    "a = np.repeat(A, [3, 1], axis=1)\n",
    "print(f\"\\n Repetition rate of the first column, Repetition rate of the second column: \\n{a}\")"
   ]
  },
  {
   "cell_type": "code",
   "execution_count": 123,
   "metadata": {},
   "outputs": [
    {
     "name": "stdout",
     "output_type": "stream",
     "text": [
      "A:\n",
      " [[1 2]\n",
      " [3 4]\n",
      " [5 6]]\n"
     ]
    },
    {
     "data": {
      "text/plain": [
       "array([[1, 2, 1, 2],\n",
       "       [3, 4, 3, 4],\n",
       "       [5, 6, 5, 6],\n",
       "       [1, 2, 1, 2],\n",
       "       [3, 4, 3, 4],\n",
       "       [5, 6, 5, 6]])"
      ]
     },
     "execution_count": 123,
     "metadata": {},
     "output_type": "execute_result"
    }
   ],
   "source": [
    "A = np.array([[1, 2],[3, 4],[5,6]])\n",
    "print(f\"A:\\n {A}\")\n",
    "\n",
    "np.tile(A, (2, 2))"
   ]
  },
  {
   "cell_type": "code",
   "execution_count": 124,
   "metadata": {},
   "outputs": [
    {
     "data": {
      "text/plain": [
       "array([1, 2, 4, 5, 6, 7, 8, 9])"
      ]
     },
     "execution_count": 124,
     "metadata": {},
     "output_type": "execute_result"
    }
   ],
   "source": [
    "B = np.array([[1, 1, 2, 5, 5], [5, 4, 5, 5, 6], [7, 9, 8, 8, 9]])\n",
    "np.unique(B)"
   ]
  },
  {
   "cell_type": "code",
   "execution_count": 125,
   "metadata": {},
   "outputs": [
    {
     "name": "stdout",
     "output_type": "stream",
     "text": [
      "A:\n",
      " [[  1   2   3   4]\n",
      " [  5   6   7   8]\n",
      " [  9  -1  11 -20]\n",
      " [  8   7   2   1]\n",
      " [  1  -7  12   6]]\n",
      "\n",
      " A(axis=0):\n",
      "[[  1  -7   2 -20]\n",
      " [  1  -1   3   1]\n",
      " [  5   2   7   4]\n",
      " [  8   6  11   6]\n",
      " [  9   7  12   8]]\n",
      "\n",
      " A(axis=None):\n",
      "[-20  -7  -1   1   1   1   2   2   3   4   5   6   6   7   7   8   8   9\n",
      "  11  12]\n",
      "\n",
      " B:\n",
      "[(b'A', 1.8, 41) (b'R', 1.9, 38) (b'Q', 1.7, 38)]\n",
      "\n",
      " BB('height','age'):\n",
      "[(b'Q', 1.7, 38) (b'A', 1.8, 41) (b'R', 1.9, 38)]\n",
      "\n",
      " C(axis=0):\n",
      "[[0 4 3 2]\n",
      " [4 2 0 3]\n",
      " [1 0 1 0]\n",
      " [3 1 2 4]\n",
      " [2 3 4 1]]\n",
      " C(axis=1):\n",
      "[[0 1 2 3]\n",
      " [0 1 2 3]\n",
      " [3 1 0 2]\n",
      " [3 2 1 0]\n",
      " [1 0 3 2]]\n"
     ]
    }
   ],
   "source": [
    "A=np.array([[1,2,3,4],[5,6,7,8],[9,-1,11,-20],[8,7,2,1],[1,-7,12,6]])\n",
    "print(f\"A:\\n {A}\")\n",
    "\n",
    "AA=np.sort(A, axis=0)  \n",
    "print(f\"\\n A(axis=0):\\n{AA}\")\n",
    "\n",
    "AAA=np.sort(A, axis=None)     # sort the flattened array\n",
    "print(f\"\\n A(axis=None):\\n{AAA}\")\n",
    "\n",
    "dtype = [('name', 'S10'), ('height', float), ('age', int)]    # create a structured array\n",
    "values = [('A', 1.8, 41), ('R', 1.9, 38), ('Q', 1.7, 38)]\n",
    "B = np.array(values, dtype=dtype)\n",
    "print(f\"\\n B:\\n{B}\")    \n",
    "   \n",
    "BB=np.sort(B,order=['height','age'])\n",
    "print(f\"\\n BB('height','age'):\\n{BB}\")\n",
    "\n",
    "C=np.argsort(A, axis=0)\n",
    "CC=np.argsort(A, axis=1)\n",
    "print(f\"\\n C(axis=0):\\n{C}\\n C(axis=1):\\n{CC}\")"
   ]
  },
  {
   "cell_type": "code",
   "execution_count": 126,
   "metadata": {},
   "outputs": [
    {
     "name": "stdout",
     "output_type": "stream",
     "text": [
      "A:\n",
      " [[  1.   2.   3.   4.]\n",
      " [  5.  nan   7.   8.]\n",
      " [  9.  nan  11. -20.]\n",
      " [  8.   7.   2.  nan]\n",
      " [ nan  -7.  12.   6.]]\n",
      "\n",
      " A(max_index):\n",
      " [2 3 4 1]\n",
      "\n",
      " A(max_index):\n",
      " 18\n",
      "\n",
      " A(min_index):\n",
      " [0 4 3 2]\n"
     ]
    }
   ],
   "source": [
    "A=np.array([[1,2,3,4],[5,np.nan,7,8],[9,np.nan,11,-20],[8,7,2,np.nan],[np.nan,-7,12,6]])\n",
    "print(f\"A:\\n {A}\")\n",
    "\n",
    "AA=np.nanargmax(A,axis=0)\n",
    "print(f\"\\n A(max_index):\\n {AA}\")\n",
    "\n",
    "AAA=np.nanargmax(A,axis=None)\n",
    "print(f\"\\n A(max_index):\\n {AAA}\")\n",
    "\n",
    "BB=np.nanargmin(A,axis=0)\n",
    "print(f\"\\n A(min_index):\\n {BB}\")"
   ]
  },
  {
   "cell_type": "code",
   "execution_count": 127,
   "metadata": {},
   "outputs": [
    {
     "name": "stdout",
     "output_type": "stream",
     "text": [
      "A:\n",
      " [[  1   2   3   4]\n",
      " [  5   5   7   8]\n",
      " [  9   7  11 -20]\n",
      " [  8   7   2   4]\n",
      " [  9  -7  12   6]]\n",
      "\n",
      " A((A>=3) & (A<10),A,-10):\n",
      " [[-10 -10   3   4]\n",
      " [  5   5   7   8]\n",
      " [  9   7 -10 -10]\n",
      " [  8   7 -10   4]\n",
      " [  9 -10 -10   6]]\n",
      "\n",
      " A(A>7):\n",
      " [[1 3]\n",
      " [2 0]\n",
      " [2 2]\n",
      " [3 0]\n",
      " [4 0]\n",
      " [4 2]]\n",
      "\n",
      " A(A>7,A):\n",
      " [ 8  9 11  8  9 12]\n"
     ]
    }
   ],
   "source": [
    "A=np.array([[1,2,3,4],[5,5,7,8],[9,7,11,-20],[8,7,2,4],[9,-7,12,6]])\n",
    "print(f\"A:\\n {A}\")\n",
    "\n",
    "AA=np.where((A>=3) & (A<10),A,-10)     # Return elements chosen from x or y depending on condition\n",
    "print(f\"\\n A((A>=3) & (A<10),A,-10):\\n {AA}\")\n",
    "\n",
    "AAA=np.argwhere(A>7)\n",
    "print(f\"\\n A(A>7):\\n {AAA}\")              # Indices of elements that are non-zero\n",
    "\n",
    "B=np.extract(A>7,A)                    # Return the elements of an array that satisfy some condition.\n",
    "print(f\"\\n A(A>7,A):\\n {B}\")"
   ]
  }
 ],
 "metadata": {
  "kernelspec": {
   "display_name": "Python 3",
   "language": "python",
   "name": "python3"
  },
  "language_info": {
   "codemirror_mode": {
    "name": "ipython",
    "version": 3
   },
   "file_extension": ".py",
   "mimetype": "text/x-python",
   "name": "python",
   "nbconvert_exporter": "python",
   "pygments_lexer": "ipython3",
   "version": "3.12.4"
  }
 },
 "nbformat": 4,
 "nbformat_minor": 0
}
