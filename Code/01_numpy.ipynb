{
 "cells": [
  {
   "cell_type": "markdown",
   "metadata": {},
   "source": [
    "**Presented by: Reza Saadatyar (2024-2025)**<br/>\n",
    "**E-mail: Reza.Saadatyar@outlook.com**"
   ]
  },
  {
   "cell_type": "markdown",
   "metadata": {},
   "source": [
    "**1️⃣ N-d Array**<br/>\n",
    "An array is a multi-dimensional array of numerical values.<br/>\n",
    "`0-dimensional (Scalar):` A single number, e.g., 5, 3.14, -10. A <font color='red'><b>scalar</b></font> is a single number and in array-speak it's a zero dimension array.<br/>\n",
    "`1-dimensional (Vector):` A list of numbers, e.g., [1, 2, 3]. A <font color='blue'><b>vector</b></font> is a single dimension array but can contain many numbers.<br/>\n",
    "`2-dimensional (Matrix):` A table of numbers, e.g., [[1, 2], [3, 4]]. <font color='green'><b>MATRIX</b></font>  has two dimensions.<br/>\n",
    "`3-dimensional (or higher):` Like a \"cube\" of numbers or more complex higher-dimensional structures. These are common for representing images, videos, and more.<br/>\n",
    "\n",
    "**2️⃣ Getting information from Numpy**<br/>\n",
    "`shape` - what shape is the array? (some operations require specific shape rules)<br/>\n",
    "`dtype` - what data type are the elements within the array stored in?<br/>\n",
    "\n",
    "**3️⃣ Math Operations**<br/>\n",
    "`Addition` ⇒ *a + b* or *np.add(a, b)*<br/>\n",
    "`Subtraction` ⇒ *a - b* or *np.subtract(a, b)*<br/>\n",
    "`Multiplication (element-wise)` ⇒ *a x b*<br/>\n",
    "`Division` ⇒ *a / b* or *np.divide(a, b)*<br/>\n",
    "`Matrix multiplication` ⇒ *@* in Python is the symbol for matrix multiplication. Use `np.matmul()` or `np.dot()`.<br/>\n",
    "`Mean & std`\n",
    " \n",
    "**4️⃣ Special Arrays**<br/>\n",
    "`zeros`<br/>\n",
    "`ones`<br/>\n",
    "`empty`<br/>\n",
    "`eye`<br/>\n",
    "`full`<br/>\n",
    "`arange`<br/>\n",
    "`reshape`<br/>\n",
    "`linspace`<br/>\n",
    "\n",
    "🔸 Using `np.zeros_like(input)` or `np.ones_like(input)` which return an array filled with zeros or ones in the same shape as the input respectively.\n",
    "\n",
    "**5️⃣ Random Arrays**<br/>\n",
    "`np.random.rand:` Create an *n x m* array filled with random numbers from a uniform distribution on the interval [0, 1).<br/>\n",
    "`np.random.randn:` Create an *n x m* array filled with random numbers from a normal distribution with mean 0 and variance 1.<br/>\n",
    "`np.random.randint:` Create an *n x m* array filled with random integers generated uniformly between low (inclusive) and high (exclusive).<br/>\n",
    "`np.random.uniform:` Create a random floating-point number between low (inclusive) and high (exclusive)<br/>\n",
    "🔸 `np.random.permutation(value):` Create a random permutation of integers from 0 to value.<br/>\n",
    "🔸 `np.transpose(input, axes):` Permute the original array to rearrange the axis order.<br/>\n",
    "\n",
    "**6️⃣ Indexing & Slicing**<br/>\n",
    "`Indexing:` Use integer indices to specify the position of the element you want to retrieve (Accessing individual elements).<br/>\n",
    "`Slicing:` Slicing allows you to extract a sub-part of your array by specifying a range of indices using the colon : operator (Extracting sub-array ).<br/>\n",
    "   - `start:end` (exclusive end)\n",
    "   - `start:` (from start to end of dimension)\n",
    "   - `:end` (from beginning to end of dimension)\n",
    "   - `:` (all elements)\n",
    "   - `start:end:step` (start to end with given step)\n",
    "\n",
    "**7️⃣ Unsqueeze & squeeze**<br/>\n",
    "The `squeeze` method removes all singleton dimensions from an array. It will reduce the number of dimensions by removing the ones that have a size of 1.<br/>\n",
    "The `unsqueeze(expand_dim)` method adds a singleton dimension at a specified position in an array. It will increase the number of dimensions by adding a size of 1 dimension at a specific position.<br/>\n",
    "\n",
    "\n",
    "**8️⃣ Array Manipulation**<br/>\n",
    "`Stacking:` Combining multiple arrays along a specified axis. For example, <font color=\"green\"><b>np.vstack()</b></font> for vertical stacking and <font color=\"green\"><b>np.hstack()</b></font> for horizontal stacking.<br/>\n",
    "`Splitting:` Dividing an array into multiple sub-arrays. For example, <font color=\"green\"><b>np.split()</b></font> divides an array into equal parts.<br/>\n",
    "`Delete:` Removing elements from an array along a specified axis. For example, <font color=\"green\"><b>np.delete()</b></font>.<br/>\n",
    "`Copy, Deepcopy:` Creating a copy of an array. <font color=\"green\"><b>np.copy()</b></font> creates a shallow copy, while <font color=\"green\"><b>copy.deepcopy()</b></font> creates a deep copy.<br/>\n",
    "`Repeat:` Repeating elements of an array. For example, <font color=\"green\"><b>np.repeat()</b></font>.<br/>\n",
    "`Tile:` Repeating the entire array. For example, <font color=\"green\"><b>np.tile()</b></font>.<br/>\n",
    "`Unique:` Finding unique elements in an array. For example, <font color=\"green\"><b>np.unique()</b></font>.<br/>\n",
    "`Sort, Argsort:` Sorting elements of an array. <font color=\"green\"><b>np.sort()</b></font> sorts the array, and <font color=\"green\"><b>np.argsort()</b></font> returns the indices that would sort the array.<br/>\n",
    "`Nanargmax, Nanargmin:` Finding the indices of the maximum and minimum values, ignoring NaN values. For example, <font color=\"green\"><b>np.nanargmax()</b></font> and <font color=\"green\"><b>np.nanargmin()</b></font>.<br/>\n",
    "`Where, Argwhere, Extract:` Conditional operations. <font color=\"green\"><b>np.where()</b></font> returns elements based on a condition, <font color=\"green\"><b>np.argwhere()</b></font> returns indices of elements that satisfy a condition, and <font color=\"green\"><b>np.extract()</b></font> extracts elements based on a condition.<br/>"
   ]
  },
  {
   "cell_type": "markdown",
   "metadata": {},
   "source": [
    "<font color='#FF000e' size=\"4.8\" face=\"Arial\"><b>Import modules</b></font>"
   ]
  },
  {
   "cell_type": "code",
   "execution_count": 10,
   "metadata": {},
   "outputs": [],
   "source": [
    "import numpy as np\n",
    "import copy"
   ]
  },
  {
   "cell_type": "markdown",
   "metadata": {},
   "source": [
    "<font color='#001240ee' size=\"4.5\" face=\"Arial\"><b>1️⃣ Scalar, Vector, Column vector, Matrix, & N-d Array</b></font>"
   ]
  },
  {
   "cell_type": "code",
   "execution_count": 3,
   "metadata": {},
   "outputs": [
    {
     "data": {
      "text/plain": [
       "array([1.+0.j, 2.+0.j, 3.+0.j])"
      ]
     },
     "execution_count": 3,
     "metadata": {},
     "output_type": "execute_result"
    }
   ],
   "source": [
    "# Create a 1D NumPy array with complex numbers\n",
    "np.array([1, 2, 3], dtype=complex)"
   ]
  },
  {
   "cell_type": "code",
   "execution_count": 4,
   "metadata": {},
   "outputs": [
    {
     "data": {
      "text/plain": [
       "array([[1., 2., 3.],\n",
       "       [4., 5., 6.]])"
      ]
     },
     "execution_count": 4,
     "metadata": {},
     "output_type": "execute_result"
    }
   ],
   "source": [
    "# Create a 2D NumPy array with floating-point numbers\n",
    "np.array([[1, 2, 3], \n",
    "          [4, 5, 6]], \n",
    "          dtype=float)"
   ]
  },
  {
   "cell_type": "code",
   "execution_count": 90,
   "metadata": {},
   "outputs": [
    {
     "data": {
      "text/plain": [
       "array([[[1, 2],\n",
       "        [3, 4]],\n",
       "\n",
       "       [[5, 6],\n",
       "        [6, 7]]])"
      ]
     },
     "execution_count": 90,
     "metadata": {},
     "output_type": "execute_result"
    }
   ],
   "source": [
    "# Create a 3D NumPy array with integers\n",
    "np.array([[[1, 2], \n",
    "           [3, 4]], \n",
    "          \n",
    "          [[5, 6], \n",
    "           [6, 7]]])"
   ]
  },
  {
   "cell_type": "code",
   "execution_count": 32,
   "metadata": {},
   "outputs": [
    {
     "data": {
      "text/plain": [
       "array([1, 2, 3], dtype=int32)"
      ]
     },
     "execution_count": 32,
     "metadata": {},
     "output_type": "execute_result"
    }
   ],
   "source": [
    "# Create a 1D NumPy array with complex numbers\n",
    "arr = np.array([1., 2., 3.])\n",
    "arr.astype(np.int32)"
   ]
  },
  {
   "cell_type": "code",
   "execution_count": 33,
   "metadata": {},
   "outputs": [
    {
     "data": {
      "text/plain": [
       "array([1, 2, 3])"
      ]
     },
     "execution_count": 33,
     "metadata": {},
     "output_type": "execute_result"
    }
   ],
   "source": [
    "# Convert a tuple to a NumPy array\n",
    "x = (1, 2, 3)\n",
    "np.array(x)"
   ]
  },
  {
   "cell_type": "code",
   "execution_count": 34,
   "metadata": {},
   "outputs": [
    {
     "data": {
      "text/plain": [
       "array([[1, 2, 3],\n",
       "       [4, 5, 6]])"
      ]
     },
     "execution_count": 34,
     "metadata": {},
     "output_type": "execute_result"
    }
   ],
   "source": [
    "# Convert a list of tuples to a NumPy array\n",
    "arr = [(1, 2, 3), \n",
    "     (4, 5, 6)]\n",
    "np.asarray(arr)"
   ]
  },
  {
   "cell_type": "markdown",
   "metadata": {},
   "source": [
    "<font color=#24f508 size=\"4.8\" face=\"Arial\"><b>2️⃣ Getting information from Numpy</b></font>"
   ]
  },
  {
   "cell_type": "code",
   "execution_count": 35,
   "metadata": {},
   "outputs": [
    {
     "name": "stdout",
     "output_type": "stream",
     "text": [
      "arr = array([[[1, 2],\n",
      "        [3, 4]],\n",
      "\n",
      "       [[5, 6],\n",
      "        [6, 7]]])\n",
      "arr.shape = (2, 2, 2), arr.ndim = 3, np.size(arr) = 8\n"
     ]
    }
   ],
   "source": [
    "# Create a 3D NumPy array with integers\n",
    "arr = np.array([[[1, 2], \n",
    "               [3, 4]], \n",
    "              \n",
    "              [[5, 6],\n",
    "               [6, 7]]])\n",
    "\n",
    "print(f\"{arr = }\\n{arr.shape = }, {arr.ndim = }, {np.size(arr) = }\")"
   ]
  },
  {
   "cell_type": "markdown",
   "metadata": {},
   "source": [
    "<font color=\"#ff0051e2\" size=\"4.5\" face=\"Arial\"><b>3️⃣ Math Operations</b></font>"
   ]
  },
  {
   "cell_type": "code",
   "execution_count": 13,
   "metadata": {},
   "outputs": [
    {
     "name": "stdout",
     "output_type": "stream",
     "text": [
      "a + b = array([5, 7, 9])\n",
      "a - b = array([-3, -3, -3])\n",
      "a * b = array([ 4, 10, 18])\n",
      "a / b = array([0.25, 0.4 , 0.5 ])\n",
      "a @ b = np.int64(32)\n",
      "np.dot(a, b) = np.int64(32)\n",
      "np.prod(a) = np.int64(6)\n",
      "a * b or np.multiply(a, b) = array([ 4, 10, 18])\n"
     ]
    }
   ],
   "source": [
    "a = np.array([1, 2, 3])\n",
    "b = np.array([4, 5, 6])\n",
    "\n",
    "print(f\"{a + b = }\")  # or np.add(a, b)\n",
    "print(f\"{a - b = }\")  # or np.subtract(a, b)\n",
    "print(f\"{a * b = }\")  # Element-wise multiplication\n",
    "print(f\"{a / b = }\")  # or np.divide(a, b)\n",
    "print(f\"{a @ b = }\")  # Using @ operator or np.matmul()\n",
    "print(f\"{np.dot(a, b) = }\") # Using np.dot()\n",
    "print(f\"{np.prod(a) = }\") # Compute the product of all elements in array 'a'\n",
    "print(f\"a * b or {np.multiply(a, b) = }\") # Perform element-wise multiplication of a and b"
   ]
  },
  {
   "cell_type": "code",
   "execution_count": 8,
   "metadata": {},
   "outputs": [
    {
     "name": "stdout",
     "output_type": "stream",
     "text": [
      "Mean of all elements: 2.5\n",
      "Mean along axis 0: [2. 3.]\n",
      "Mean along axis 1: [1.5 3.5]\n"
     ]
    }
   ],
   "source": [
    "\"\"\"\n",
    "np.mean(a, axis=None, dtype=None, out=None, keepdims=False)\n",
    "keepdims: If True, the reduced axes are retained in the result with size 1.\n",
    "\"\"\"\n",
    "arr = np.array([[1, 2], \n",
    "                [3, 4]])\n",
    "\n",
    "# Mean of all elements\n",
    "mean_all = np.mean(arr)\n",
    "print(\"Mean of all elements:\", mean_all)\n",
    "\n",
    "# Mean along axis 0 (columns)\n",
    "mean_axis0 = np.mean(arr, axis=0)\n",
    "print(\"Mean along axis 0:\", mean_axis0)\n",
    "\n",
    "# Mean along axis 1 (rows)\n",
    "mean_axis1 = np.mean(arr, axis=1)\n",
    "print(\"Mean along axis 1:\", mean_axis1)"
   ]
  },
  {
   "cell_type": "code",
   "execution_count": 9,
   "metadata": {},
   "outputs": [
    {
     "name": "stdout",
     "output_type": "stream",
     "text": [
      "Standard deviation of all elements: 1.118033988749895\n",
      "Standard deviation along axis 0: [1. 1.]\n",
      "Standard deviation along axis 1: [0.5 0.5]\n",
      "Sample standard deviation: 1.2909944487358056\n"
     ]
    }
   ],
   "source": [
    "\"\"\"\n",
    "numpy.std(a, axis=None, dtype=None, out=None, ddof=0, keepdims=False)\n",
    "keepdims: If True, the reduced axes are retained in the result with size 1.\n",
    "ddof: Delta degrees of freedom. The divisor used in calculations is N - ddof, where N is the number of elements.\n",
    "By default, ddof=0 (population standard deviation). For sample standard deviation, use ddof=1.\n",
    "\"\"\"\n",
    "arr = np.array([[1, 2], \n",
    "                [3, 4]])\n",
    "\n",
    "# Standard deviation of all elements\n",
    "std_all = np.std(arr)\n",
    "print(\"Standard deviation of all elements:\", std_all)\n",
    "\n",
    "# Standard deviation along axis 0 (columns)\n",
    "std_axis0 = np.std(arr, axis=0)\n",
    "print(\"Standard deviation along axis 0:\", std_axis0)\n",
    "\n",
    "# Standard deviation along axis 1 (rows)\n",
    "std_axis1 = np.std(arr, axis=1)\n",
    "print(\"Standard deviation along axis 1:\", std_axis1)\n",
    "\n",
    "# Sample standard deviation (ddof=1)\n",
    "std_sample = np.std(arr, ddof=1)\n",
    "print(\"Sample standard deviation:\", std_sample)"
   ]
  },
  {
   "cell_type": "markdown",
   "metadata": {},
   "source": [
    "<font color=\"#00eeff\" size=\"4.5\" face=\"Arial\"><b>4️⃣ Special Arrays</b></font>"
   ]
  },
  {
   "cell_type": "code",
   "execution_count": 10,
   "metadata": {},
   "outputs": [
    {
     "data": {
      "text/plain": [
       "array([[1, 1, 1],\n",
       "       [1, 1, 1]])"
      ]
     },
     "execution_count": 10,
     "metadata": {},
     "output_type": "execute_result"
    }
   ],
   "source": [
    "# Create a 2D array filled with ones\n",
    "np.ones((2, 3), dtype=int)  # The array has a shape of (2, 1), meaning it has 2 rows and 1 column"
   ]
  },
  {
   "cell_type": "code",
   "execution_count": 11,
   "metadata": {},
   "outputs": [
    {
     "data": {
      "text/plain": [
       "array([[[0, 0, 0],\n",
       "        [0, 0, 0],\n",
       "        [0, 0, 0],\n",
       "        [0, 0, 0]],\n",
       "\n",
       "       [[0, 0, 0],\n",
       "        [0, 0, 0],\n",
       "        [0, 0, 0],\n",
       "        [0, 0, 0]],\n",
       "\n",
       "       [[0, 0, 0],\n",
       "        [0, 0, 0],\n",
       "        [0, 0, 0],\n",
       "        [0, 0, 0]]])"
      ]
     },
     "execution_count": 11,
     "metadata": {},
     "output_type": "execute_result"
    }
   ],
   "source": [
    "# Create a 3D array filled with zeros\n",
    "# The array has a shape of (3, 4, 3), meaning:\n",
    "# - 3 matrices (depth/channels)\n",
    "# - Each matrix has 4 rows and 3 columns\n",
    "np.zeros((3, 4, 3), dtype=int)"
   ]
  },
  {
   "cell_type": "code",
   "execution_count": 12,
   "metadata": {},
   "outputs": [
    {
     "data": {
      "text/plain": [
       "array([[1., 0., 0., 0.],\n",
       "       [0., 1., 0., 0.],\n",
       "       [0., 0., 1., 0.],\n",
       "       [0., 0., 0., 1.],\n",
       "       [0., 0., 0., 0.]])"
      ]
     },
     "execution_count": 12,
     "metadata": {},
     "output_type": "execute_result"
    }
   ],
   "source": [
    "# The array has a shape of (5, 4), meaning it has 5 rows and 4 columns\n",
    "np.eye(5, 4) # The diagonal elements are set to 1, and all other elements are set to 0"
   ]
  },
  {
   "cell_type": "code",
   "execution_count": 13,
   "metadata": {},
   "outputs": [
    {
     "data": {
      "text/plain": [
       "array([[2, 2, 2],\n",
       "       [2, 2, 2],\n",
       "       [2, 2, 2],\n",
       "       [2, 2, 2]])"
      ]
     },
     "execution_count": 13,
     "metadata": {},
     "output_type": "execute_result"
    }
   ],
   "source": [
    "# The array has a shape of (4, 3), meaning it has 4 rows and 3 columns\n",
    "np.full([4, 3], fill_value=2) # All elements in the array are set to the `fill_value` (2 in this case)"
   ]
  },
  {
   "cell_type": "code",
   "execution_count": 37,
   "metadata": {},
   "outputs": [
    {
     "name": "stdout",
     "output_type": "stream",
     "text": [
      "arr = array([ 1,  3,  5,  7,  9, 11, 13, 15, 17, 19]) --> arr.size = 10\n"
     ]
    }
   ],
   "source": [
    "\"\"\"\n",
    "np.arange(start=0, end, step=1, dtype=None)\n",
    "start: The starting value of the sequence (default is 0).\n",
    "end: The ending value of the sequence (exclusive).\n",
    "step: The step size between values (default is 1).\n",
    "dtype: The data type of the output tensor (e.g., float, int).\n",
    "\"\"\"\n",
    "# Create a 1D array with values from 1 to 19, stepping by 2\n",
    "arr = np.arange(1, 20, 2, dtype=int)  # numpy.arange(start, stop, step, dtype)\n",
    "print(f\"{arr = } --> {arr.size = }\")"
   ]
  },
  {
   "cell_type": "code",
   "execution_count": 15,
   "metadata": {},
   "outputs": [
    {
     "data": {
      "text/plain": [
       "array([ 1.        ,  3.11111111,  5.22222222,  7.33333333,  9.44444444,\n",
       "       11.55555556, 13.66666667, 15.77777778, 17.88888889, 20.        ])"
      ]
     },
     "execution_count": 15,
     "metadata": {},
     "output_type": "execute_result"
    }
   ],
   "source": [
    "\"\"\"\n",
    "np.linspace(start, end, steps, dtype=None)\n",
    "start: The starting value of the sequence.\n",
    "end: The ending value of the sequence (inclusive).\n",
    "steps: The number of points in the sequence.\n",
    "dtype: The data type of the output tensor (e.g., float, int).\n",
    "\"\"\"\n",
    "# Create an array of 10 evenly spaced numbers between -1 and 5\n",
    "np.linspace(1, 20, 10)   # np.linspace(start, stop, num, endpoint, retstep, dtype)"
   ]
  },
  {
   "cell_type": "code",
   "execution_count": 39,
   "metadata": {},
   "outputs": [
    {
     "name": "stdout",
     "output_type": "stream",
     "text": [
      "arr = array([[ 1,  2,  3,  4,  5],\n",
      "       [ 6,  7,  8,  9, 10],\n",
      "       [11, 12, 13, 14, 15],\n",
      "       [16, 17, 18, 19, 20]]) \n",
      "arr.size = 20\n"
     ]
    }
   ],
   "source": [
    "# Create a 2D array with values from 1 to 20, reshaped into a 4x5 matrix\n",
    "arr = np.arange(1, 21).reshape(4, 5)\n",
    "print(f\"{arr = } \\n{arr.size = }\")"
   ]
  },
  {
   "cell_type": "code",
   "execution_count": 40,
   "metadata": {},
   "outputs": [
    {
     "name": "stdout",
     "output_type": "stream",
     "text": [
      "arr = array([[[ 0,  1,  2],\n",
      "        [ 3,  4,  5]],\n",
      "\n",
      "       [[ 6,  7,  8],\n",
      "        [ 9, 10, 11]],\n",
      "\n",
      "       [[12, 13, 14],\n",
      "        [15, 16, 17]]]) \n",
      "arr.size = 18\n"
     ]
    }
   ],
   "source": [
    "# Create a 3D array with values from 0 to 17, reshaped into a 3x2x3 array\n",
    "arr = np.arange(18).reshape(3, 2, 3)\n",
    "print(f\"{arr = } \\n{arr.size = }\")"
   ]
  },
  {
   "cell_type": "markdown",
   "metadata": {},
   "source": [
    "<font color=\"#dbf518\" size=\"4.5\" face=\"Arial\"><b>5️⃣ Random Arrays</b></font>"
   ]
  },
  {
   "cell_type": "code",
   "execution_count": 76,
   "metadata": {},
   "outputs": [
    {
     "data": {
      "text/plain": [
       "array([[ 0.47298583, -0.68142588,  0.2424395 ],\n",
       "       [-1.70073563,  0.75314283, -1.53472134]])"
      ]
     },
     "execution_count": 76,
     "metadata": {},
     "output_type": "execute_result"
    }
   ],
   "source": [
    "# Create a 2x3 array of random numbers from a normal distribution with mean 0 and variance 1.\n",
    "np.random.seed(12) # Set a seed for reproducibility\n",
    "np.random.randn(2, 3)"
   ]
  },
  {
   "cell_type": "code",
   "execution_count": 77,
   "metadata": {},
   "outputs": [
    {
     "data": {
      "text/plain": [
       "array([[0.94422514, 0.85273554, 0.00225923],\n",
       "       [0.52122603, 0.55203763, 0.48537741]])"
      ]
     },
     "execution_count": 77,
     "metadata": {},
     "output_type": "execute_result"
    }
   ],
   "source": [
    "# Create a 2x3 array of random numbers from a uniform distribution over the interval [0, 1)\n",
    "np.random.random((2, 3))"
   ]
  },
  {
   "cell_type": "code",
   "execution_count": 78,
   "metadata": {},
   "outputs": [
    {
     "data": {
      "text/plain": [
       "3"
      ]
     },
     "execution_count": 78,
     "metadata": {},
     "output_type": "execute_result"
    }
   ],
   "source": [
    "# Generate a random integer between 1 (inclusive) and 4 (exclusive)\n",
    "np.random.randint(1, 4)"
   ]
  },
  {
   "cell_type": "code",
   "execution_count": 79,
   "metadata": {},
   "outputs": [
    {
     "data": {
      "text/plain": [
       "array([[0.95772873, 0.45605092, 0.56314114],\n",
       "       [0.80126538, 0.94317762, 0.22335928]])"
      ]
     },
     "execution_count": 79,
     "metadata": {},
     "output_type": "execute_result"
    }
   ],
   "source": [
    "# Create a 2x3 array of random numbers from a uniform distribution over the interval [0, 1).\n",
    "np.random.rand(2, 3)"
   ]
  },
  {
   "cell_type": "code",
   "execution_count": 14,
   "metadata": {},
   "outputs": [
    {
     "name": "stdout",
     "output_type": "stream",
     "text": [
      "Single random float: 3.263739256217465\n",
      "\n",
      "Array of random floats: [1.3937809  4.11908416 4.9433403  1.97369397 3.34576897]\n",
      "\n",
      "2x3 matrix of random floats:\n",
      " [[1.09439303 3.77224728 1.81367048]\n",
      " [3.43305198 4.63748853 4.19569436]]\n"
     ]
    }
   ],
   "source": [
    "# Generate a single random float between 1.0 (inclusive) and 5.0 (exclusive)\n",
    "random_float = np.random.uniform(1.0, 5.0)\n",
    "print(\"Single random float:\", random_float)\n",
    "\n",
    "# Generate an array of 5 random floats between 1.0 and 5.0\n",
    "random_floats = np.random.uniform(1.0, 5.0, size=5)\n",
    "print(\"\\nArray of random floats:\", random_floats)\n",
    "\n",
    "# Generate a 2x3 matrix of random floats between 1.0 and 5.0\n",
    "random_matrix = np.random.uniform(1.0, 5.0, size=(2, 3))\n",
    "print(\"\\n2x3 matrix of random floats:\\n\", random_matrix)"
   ]
  },
  {
   "cell_type": "markdown",
   "metadata": {},
   "source": [
    "<font color=\"#dbf518\" size=\"4.5\" face=\"Arial\"><b>5️⃣ Randperm & transpose</b></font>"
   ]
  },
  {
   "cell_type": "code",
   "execution_count": 41,
   "metadata": {},
   "outputs": [
    {
     "data": {
      "text/plain": [
       "array([5, 3, 2, 4, 1])"
      ]
     },
     "execution_count": 41,
     "metadata": {},
     "output_type": "execute_result"
    }
   ],
   "source": [
    "# Create an array\n",
    "arr = np.array([1, 2, 3, 4, 5])\n",
    "\n",
    "# Generate a random permutation of the array\n",
    "np.random.permutation(arr)"
   ]
  },
  {
   "cell_type": "code",
   "execution_count": 42,
   "metadata": {},
   "outputs": [
    {
     "name": "stdout",
     "output_type": "stream",
     "text": [
      "Original array:\n",
      " [[[ 0  1  2  3]\n",
      "  [ 4  5  6  7]\n",
      "  [ 8  9 10 11]]\n",
      "\n",
      " [[12 13 14 15]\n",
      "  [16 17 18 19]\n",
      "  [20 21 22 23]]]\n",
      "Shape: (2, 3, 4)\n",
      "\n",
      "Permuted array:\n",
      "[[[ 0 12]\n",
      "  [ 1 13]\n",
      "  [ 2 14]\n",
      "  [ 3 15]]\n",
      "\n",
      " [[ 4 16]\n",
      "  [ 5 17]\n",
      "  [ 6 18]\n",
      "  [ 7 19]]\n",
      "\n",
      " [[ 8 20]\n",
      "  [ 9 21]\n",
      "  [10 22]\n",
      "  [11 23]]]\n",
      "Shape: (3, 4, 2)\n"
     ]
    }
   ],
   "source": [
    "# Create a 3D array of shape (2, 3, 4)\n",
    "arr = np.arange(24).reshape(2, 3, 4)\n",
    "print(\"Original array:\\n\", arr)\n",
    "print(\"Shape:\", arr.shape)\n",
    "\n",
    "# Permute the axes (e.g., change shape from (2, 3, 4) to (3, 4, 2))\n",
    "permuted_array = np.transpose(arr, (1, 2, 0))\n",
    "print(f\"\\nPermuted array:\\n{permuted_array}\")\n",
    "print(\"Shape:\", permuted_array.shape)"
   ]
  },
  {
   "attachments": {
    "image.png": {
     "image/png": "[encoded data removed]"
    }
   },
   "cell_type": "markdown",
   "metadata": {},
   "source": [
    "<font color=#ffaaaa size=\"4.8\" face=\"Arial\"><b>6️⃣ Indexing and Slicing</b></font>\n",
    "\n",
    "![image.png](attachment:image.png)"
   ]
  },
  {
   "cell_type": "code",
   "execution_count": 48,
   "metadata": {},
   "outputs": [
    {
     "name": "stdout",
     "output_type": "stream",
     "text": [
      "a: [ 1.02737784  0.45354809  1.42888972 -0.73134901 -2.71830913  0.78701038\n",
      "  0.6945532   2.02976027  0.47760943 -0.91812222 -1.56040486 -0.22418243]\n"
     ]
    }
   ],
   "source": [
    "# Create a 1D array with 12 random values from a standard normal distribution (mean=0, std=1)\n",
    "arr = np.random.randn(12)\n",
    "print(f\"a: {arr}\")"
   ]
  },
  {
   "cell_type": "code",
   "execution_count": 49,
   "metadata": {},
   "outputs": [
    {
     "name": "stdout",
     "output_type": "stream",
     "text": [
      "arr[0:1]: [1.02737784]\n"
     ]
    }
   ],
   "source": [
    "print(f\"arr[0:1]: {arr[0:1]}\")  # A slice of the array containing the first element (as a 1D array)"
   ]
  },
  {
   "cell_type": "code",
   "execution_count": 50,
   "metadata": {},
   "outputs": [
    {
     "name": "stdout",
     "output_type": "stream",
     "text": [
      "arr[0]: 1.0273778401026237\n"
     ]
    }
   ],
   "source": [
    "print(f\"arr[0]: {arr[0]}\")  # The first element of the array (as a scalar)"
   ]
  },
  {
   "cell_type": "code",
   "execution_count": 51,
   "metadata": {},
   "outputs": [
    {
     "name": "stdout",
     "output_type": "stream",
     "text": [
      "arr[[0, 2, 7]]: [1.02737784 1.42888972 2.02976027]\n"
     ]
    }
   ],
   "source": [
    "print(f\"arr[[0, 2, 7]]: {arr[[0, 2, 7]]}\")  # An array containing the elements at indices 0, 2, and 7"
   ]
  },
  {
   "cell_type": "code",
   "execution_count": 52,
   "metadata": {},
   "outputs": [
    {
     "data": {
      "text/plain": [
       "(array([ 1.42888972, -2.71830913,  0.6945532 ,  0.47760943, -1.56040486]),\n",
       " array([ 1.42888972, -2.71830913,  0.6945532 ,  0.47760943, -1.56040486]))"
      ]
     },
     "execution_count": 52,
     "metadata": {},
     "output_type": "execute_result"
    }
   ],
   "source": [
    "# `a[2:12:2]`: Slice the array from index 2 to index 12 (exclusive) with a step of 2\n",
    "# `a[2::2]`: Slice the array from index 2 to the end with a step of 2\n",
    "arr[2:12:2], arr[2::2]"
   ]
  },
  {
   "cell_type": "code",
   "execution_count": 53,
   "metadata": {},
   "outputs": [
    {
     "data": {
      "text/plain": [
       "array([[-0.75041666,  1.1025051 ,  0.59428466, -0.6759065 ,  0.20653071],\n",
       "       [ 0.46106248,  0.02242376,  0.64976081,  0.65703042,  0.72805007],\n",
       "       [ 1.22262249,  0.02047431,  0.74279592,  0.3081359 ,  0.24426731]])"
      ]
     },
     "execution_count": 53,
     "metadata": {},
     "output_type": "execute_result"
    }
   ],
   "source": [
    "# Create a 2D array with random values from a standard normal distribution (mean=0, std=1)\n",
    "arr = np.random.randn(3, 5) # The array has a shape of (3, 5), meaning 3 rows and 5 columns\n",
    "arr"
   ]
  },
  {
   "cell_type": "code",
   "execution_count": 54,
   "metadata": {},
   "outputs": [
    {
     "name": "stdout",
     "output_type": "stream",
     "text": [
      "\n",
      "arr[0:3, 2:-1]:\n",
      "[[ 0.59428466 -0.6759065 ]\n",
      " [ 0.64976081  0.65703042]\n",
      " [ 0.74279592  0.3081359 ]]\n"
     ]
    }
   ],
   "source": [
    "print(f\"\\narr[0:3, 2:-1]:\\n{arr[0:3, 2:-1]}\") # Slice rows from 0 to 3 (exclusive) and columns from 2 to -1 (exclusive)"
   ]
  },
  {
   "cell_type": "code",
   "execution_count": 55,
   "metadata": {},
   "outputs": [
    {
     "name": "stdout",
     "output_type": "stream",
     "text": [
      "\n",
      "arr[:, 2:-1]:\n",
      "[[ 0.59428466 -0.6759065 ]\n",
      " [ 0.64976081  0.65703042]\n",
      " [ 0.74279592  0.3081359 ]]\n"
     ]
    }
   ],
   "source": [
    "print(f\"\\narr[:, 2:-1]:\\n{arr[:, 2:-1]}\") # Slice all rows and columns from 2 to -1 (exclusive)"
   ]
  },
  {
   "cell_type": "code",
   "execution_count": 56,
   "metadata": {},
   "outputs": [
    {
     "name": "stdout",
     "output_type": "stream",
     "text": [
      "\n",
      "arr[0:2]:\n",
      "[[-0.75041666  1.1025051   0.59428466 -0.6759065   0.20653071]\n",
      " [ 0.46106248  0.02242376  0.64976081  0.65703042  0.72805007]]\n"
     ]
    }
   ],
   "source": [
    "print(f\"\\narr[0:2]:\\n{arr[0:2]}\") # Slice rows from 0 to 2 (exclusive)"
   ]
  },
  {
   "cell_type": "code",
   "execution_count": 57,
   "metadata": {},
   "outputs": [
    {
     "name": "stdout",
     "output_type": "stream",
     "text": [
      "\n",
      "arr[0:2, :]:\n",
      "[[-0.75041666  1.1025051   0.59428466 -0.6759065   0.20653071]\n",
      " [ 0.46106248  0.02242376  0.64976081  0.65703042  0.72805007]]\n"
     ]
    }
   ],
   "source": [
    "print(f\"\\narr[0:2, :]:\\n{arr[0:2, :]}\") # Slice rows from 0 to 2 (exclusive) and all columns"
   ]
  },
  {
   "cell_type": "code",
   "execution_count": 58,
   "metadata": {},
   "outputs": [
    {
     "name": "stdout",
     "output_type": "stream",
     "text": [
      "\n",
      "arr[::2, 2:]:\n",
      "[[ 0.59428466 -0.6759065   0.20653071]\n",
      " [ 0.74279592  0.3081359   0.24426731]]\n"
     ]
    }
   ],
   "source": [
    "print(f\"\\narr[::2, 2:]:\\n{arr[::2, 2:]}\") # Slice rows with a step of 2 and columns from index 2 to the end"
   ]
  },
  {
   "cell_type": "code",
   "execution_count": 59,
   "metadata": {},
   "outputs": [
    {
     "data": {
      "text/plain": [
       "array([[[ 0.80390963,  0.71300096, -0.57676545, -0.92828475,\n",
       "         -1.21302671,  0.28342371, -0.66139374],\n",
       "        [ 0.96876818,  0.36862189,  0.85554814,  1.18242864,\n",
       "          0.11984803, -1.41666375,  1.18622667],\n",
       "        [-0.6155792 , -0.14075821, -0.95991574, -0.98625564,\n",
       "          1.42992219, -0.39314394, -1.50686938],\n",
       "        [-0.10129936,  0.31089597,  2.19103843,  0.73663351,\n",
       "          0.91816723,  1.00056215, -0.84678118],\n",
       "        [-1.29311555, -0.53027037,  0.60535587, -0.28911343,\n",
       "          0.94011159, -0.1454611 ,  0.28532001],\n",
       "        [ 0.98515309, -2.14670812,  1.32927476,  0.26184103,\n",
       "          0.63555911,  1.15010722,  0.20289918]],\n",
       "\n",
       "       [[ 0.28943286,  0.1291135 , -0.9903662 ,  0.67044712,\n",
       "          1.85256928,  0.56901483,  0.42190002],\n",
       "        [ 0.44199196,  0.40451704,  0.09544989, -0.46903421,\n",
       "          0.75781008, -1.00288387, -2.14279068],\n",
       "        [-0.4286905 , -0.70702941, -0.70125095,  1.48902498,\n",
       "          0.67942566, -1.03951848,  0.67682978],\n",
       "        [-0.85041818,  1.20403171, -0.50508163,  0.79691932,\n",
       "         -1.1048776 ,  0.65787564, -0.05183202],\n",
       "        [ 1.55398828, -0.66991542, -0.38570864, -0.04981184,\n",
       "          0.17175715,  2.0127471 , -0.92214928],\n",
       "        [-1.1080097 , -0.01175275, -1.81986026,  1.08929612,\n",
       "          0.65736651, -0.03057332, -0.22093822]],\n",
       "\n",
       "       [[-0.29656119, -1.23551095, -1.041117  ,  0.40221352,\n",
       "         -1.14219476,  0.5238411 ,  0.35013796],\n",
       "        [-1.50742212, -1.11326257, -1.0282745 ,  0.31541933,\n",
       "          1.8584984 ,  0.30818345,  1.34044218],\n",
       "        [ 1.82055187,  0.46957628, -0.30871902, -0.73545356,\n",
       "          1.63850235,  0.31240255, -1.56457581],\n",
       "        [-1.47637055, -0.95903664,  0.27308689,  1.04917047,\n",
       "         -0.50084624, -0.73399992, -1.42042239],\n",
       "        [-0.78200672, -0.31227995,  2.69151948,  0.66876017,\n",
       "          2.05095503, -0.69869387,  0.63666393],\n",
       "        [-0.36094686, -1.01468667, -0.30305119,  0.37748361,\n",
       "         -0.74423903,  0.27900248,  0.28591807]],\n",
       "\n",
       "       [[ 0.05228726,  2.47119322, -0.63580772, -0.39899491,\n",
       "         -1.45048564, -1.62964495, -0.69377175],\n",
       "        [ 1.07868829, -1.12468294,  0.42221845, -1.62637566,\n",
       "         -1.10391802,  1.32480865, -1.46015601],\n",
       "        [-0.05339915, -1.05310984,  0.64847745, -1.0116012 ,\n",
       "         -0.16400454,  1.00363471, -1.21006122],\n",
       "        [-1.12704096, -2.07617772, -0.0488956 ,  0.85101314,\n",
       "         -0.29794484,  2.49931424, -0.97103838],\n",
       "        [-0.64649438,  0.220819  , -0.66256584,  1.01652558,\n",
       "         -0.07046523, -1.45502055,  0.57143623],\n",
       "        [-0.84279321, -1.87320033,  0.85775807,  0.40206048,\n",
       "         -1.43686677, -0.7679632 ,  0.52177589]]])"
      ]
     },
     "execution_count": 59,
     "metadata": {},
     "output_type": "execute_result"
    }
   ],
   "source": [
    "# Create a 3D array with random values from a standard normal distribution (mean=0, std=1)\n",
    "# The array has a shape of (4, 6, 7), meaning:4 matrices (depth/channels); Each matrix has 6 rows and 7 columns\n",
    "arr = np.random.randn(4, 6, 7)\n",
    "arr"
   ]
  },
  {
   "cell_type": "code",
   "execution_count": 61,
   "metadata": {},
   "outputs": [
    {
     "name": "stdout",
     "output_type": "stream",
     "text": [
      "arr[1:2, 3:5, 2:4]:\n",
      "[[[-0.50508163  0.79691932]\n",
      "  [-0.38570864 -0.04981184]]]\n"
     ]
    }
   ],
   "source": [
    "print(f\"arr[1:2, 3:5, 2:4]:\\n{arr[1:2, 3:5, 2:4]}\") # Slice along all three dimensions"
   ]
  },
  {
   "cell_type": "code",
   "execution_count": 62,
   "metadata": {},
   "outputs": [
    {
     "name": "stdout",
     "output_type": "stream",
     "text": [
      "arr[[1], 3:5, 2:4]:\n",
      "[[[-0.50508163  0.79691932]\n",
      "  [-0.38570864 -0.04981184]]]\n"
     ]
    }
   ],
   "source": [
    "print(f\"arr[[1], 3:5, 2:4]:\\n{arr[[1], 3:5, 2:4]}\") # Slice using a list for the first dimension"
   ]
  },
  {
   "cell_type": "code",
   "execution_count": 63,
   "metadata": {},
   "outputs": [
    {
     "name": "stdout",
     "output_type": "stream",
     "text": [
      "arr[1, 3:5, 2:4]:\n",
      "[[-0.50508163  0.79691932]\n",
      " [-0.38570864 -0.04981184]]\n"
     ]
    }
   ],
   "source": [
    "print(f\"arr[1, 3:5, 2:4]:\\n{arr[1, 3:5, 2:4]}\") # Slice the first dimension using a single index"
   ]
  },
  {
   "cell_type": "code",
   "execution_count": 64,
   "metadata": {},
   "outputs": [
    {
     "data": {
      "text/plain": [
       "array([[[ 1,  2,  3],\n",
       "        [ 4,  5,  6]],\n",
       "\n",
       "       [[ 7,  8,  9],\n",
       "        [10, 11, 12]],\n",
       "\n",
       "       [[13, 14, 15],\n",
       "        [16, 17, 18]]])"
      ]
     },
     "execution_count": 64,
     "metadata": {},
     "output_type": "execute_result"
    }
   ],
   "source": [
    "# Assuming 'a' is a 3D NumPy array\n",
    "arr = np.array([[[1, 2, 3], \n",
    "               [4, 5, 6]], \n",
    "              \n",
    "              [[7, 8, 9], \n",
    "               [10, 11, 12]], \n",
    "              \n",
    "              [[13, 14, 15], \n",
    "               [16, 17, 18]]])\n",
    "arr"
   ]
  },
  {
   "cell_type": "code",
   "execution_count": 65,
   "metadata": {},
   "outputs": [
    {
     "name": "stdout",
     "output_type": "stream",
     "text": [
      "arr[1, :, 1] = array([ 8, 11])\n",
      "\n",
      " arr[2, 1:, 1:] = array([[17, 18]])\n",
      "\n",
      " arr[::2, :, 1] = array([[ 2,  5],\n",
      "       [14, 17]])\n"
     ]
    }
   ],
   "source": [
    "# Accessing elements using slicing\n",
    "print(f\"{arr[1, :, 1] = }\")          # Access the second element along the third dimension for all rows in the second slice\n",
    "print(f\"\\n {arr[2, 1:, 1:] = }\")        # Access elements from the second row onwards and second column onwards in the third slice\n",
    "print(f\"\\n {arr[::2, :, 1] = }\")        # Access the second element along the third dimension for every second slice"
   ]
  },
  {
   "cell_type": "code",
   "execution_count": 69,
   "metadata": {},
   "outputs": [
    {
     "name": "stdout",
     "output_type": "stream",
     "text": [
      "arr[::2, :, ::3]:\n",
      "[[[ 1]\n",
      "  [ 4]]\n",
      "\n",
      " [[13]\n",
      "  [16]]]\n",
      "\n",
      "arr[1::2, :, ::3]:\n",
      "[[[ 7]\n",
      "  [10]]]\n"
     ]
    }
   ],
   "source": [
    "print(f\"arr[::2, :, ::3]:\\n{arr[::2, :, ::3]}\")      # Access every third element along the third dimension for every second slice\n",
    "print(f\"\\narr[1::2, :, ::3]:\\n{arr[1::2, :, ::3]}\")     # Access every third element along the third dimension starting from the second slice"
   ]
  },
  {
   "cell_type": "markdown",
   "metadata": {},
   "source": [
    "<font color=\"#aaff5499\" size=\"4.5\" face=\"Arial\"><b>7️⃣ Unsqueeze & squeeze</b></font>"
   ]
  },
  {
   "cell_type": "code",
   "execution_count": 70,
   "metadata": {},
   "outputs": [
    {
     "name": "stdout",
     "output_type": "stream",
     "text": [
      "Original shape of arr: (1, 3, 1, 4, 1)\n",
      "Squeezed shape of b: (3, 4)\n"
     ]
    }
   ],
   "source": [
    "\"\"\"\n",
    "np.squeeze(input, dim=None)\n",
    "np.expand_dims(input, dim) → unsqueeze\n",
    "\"\"\"\n",
    "# Create a array with singleton dimensions (dimensions of size 1)\n",
    "# The array has a shape of (1, 3, 1, 4, 1), meaning:\n",
    "# - 1 matrix (depth/channels)\n",
    "# - 3 rows\n",
    "# - 1 column\n",
    "# - 4 channels\n",
    "# - 1 additional singleton dimension\n",
    "arr = np.random.randn(1, 3, 1, 4, 1)\n",
    "print(\"Original shape of arr:\", arr.shape)\n",
    "\n",
    "# Remove all singleton dimensions using the `squeeze()` method (This eliminates dimensions of size 1)\n",
    "b = np.squeeze(arr)\n",
    "print(\"Squeezed shape of b:\", b.shape)"
   ]
  },
  {
   "cell_type": "code",
   "execution_count": 71,
   "metadata": {},
   "outputs": [
    {
     "name": "stdout",
     "output_type": "stream",
     "text": [
      "Original shape of arr: (3, 4)\n",
      "Shape after adding dimension at axis 0: (1, 3, 4)\n",
      "Shape after adding dimension at axis 1: (3, 1, 4)\n",
      "Shape after adding dimension at axis 2: (3, 4, 1)\n"
     ]
    }
   ],
   "source": [
    "# Create a array with a shape of (3, 4)\n",
    "arr = np.random.randn(3, 4)\n",
    "print(\"Original shape of arr:\", arr.shape)\n",
    "\n",
    "# Add a singleton dimension at position 0 (equivalent to unsqueeze(0) in PyTorch)\n",
    "b = np.expand_dims(arr, axis=0)\n",
    "print(\"Shape after adding dimension at axis 0:\", b.shape)\n",
    "\n",
    "# Add a singleton dimension at position 1 (equivalent to unsqueeze(1) in PyTorch)\n",
    "c = np.expand_dims(arr, axis=1)\n",
    "print(\"Shape after adding dimension at axis 1:\", c.shape)\n",
    "\n",
    "# Add a singleton dimension at position 2 (equivalent to unsqueeze(2) in PyTorch)\n",
    "d = np.expand_dims(arr, axis=2)\n",
    "print(\"Shape after adding dimension at axis 2:\", d.shape)"
   ]
  },
  {
   "cell_type": "markdown",
   "metadata": {},
   "source": [
    "<font color=\"#b37d12\" size=\"4.5\" face=\"Arial\"><b>8️⃣ Array Manipulation</b></font>"
   ]
  },
  {
   "cell_type": "code",
   "execution_count": 72,
   "metadata": {},
   "outputs": [
    {
     "name": "stdout",
     "output_type": "stream",
     "text": [
      "a = array([[1, 2, 3],\n",
      "       [4, 5, 6]])\n",
      "\n",
      " b = array([[ 7,  8,  9],\n",
      "       [10, 11, 12]])\n",
      "\n",
      " np.hstack((a, b)) = array([[ 1,  2,  3,  7,  8,  9],\n",
      "       [ 4,  5,  6, 10, 11, 12]])\n"
     ]
    }
   ],
   "source": [
    "# ============================================= Stacking =======================================================\n",
    "a = np.arange(1, 7).reshape(2, 3)    # Create two 2D arrays\n",
    "print(f\"{a = }\")\n",
    "\n",
    "b = np.arange(7, 13).reshape(2, 3)\n",
    "print(f\"\\n {b = }\")\n",
    "\n",
    "# Perform horizontal stacking of arrays 'a' and 'b'\n",
    "print(f\"\\n {np.hstack((a, b)) = }\")  # horizontal stacking"
   ]
  },
  {
   "cell_type": "code",
   "execution_count": 73,
   "metadata": {},
   "outputs": [
    {
     "name": "stdout",
     "output_type": "stream",
     "text": [
      "[[ 1  2  3]\n",
      " [ 4  5  6]\n",
      " [ 7  8  9]\n",
      " [10 11 12]]\n"
     ]
    }
   ],
   "source": [
    "print(f\"{np.vstack((a, b))}\")   # vertical stack"
   ]
  },
  {
   "cell_type": "code",
   "execution_count": 75,
   "metadata": {},
   "outputs": [
    {
     "name": "stdout",
     "output_type": "stream",
     "text": [
      "arr:\n",
      "[[ 1  2  3  4]\n",
      " [ 5  6  7  8]\n",
      " [ 9 10 11 12]]\n",
      "\n",
      "np.hsplit(arr, 2):\n",
      "[array([[ 1,  2],\n",
      "       [ 5,  6],\n",
      "       [ 9, 10]]), array([[ 3,  4],\n",
      "       [ 7,  8],\n",
      "       [11, 12]])]\n",
      "\n",
      "np.vsplit(arr, 3):\n",
      "[array([[1, 2, 3, 4]]), array([[5, 6, 7, 8]]), array([[ 9, 10, 11, 12]])]\n"
     ]
    }
   ],
   "source": [
    "# ============================================= Splitting ======================================================\n",
    "arr = np.arange(1, 13).reshape(3, 4) # Create a 2D array\n",
    "print(f\"arr:\\n{arr}\")\n",
    "\n",
    "# Perform horizontal splitting of array 'a' into 2 equal parts\n",
    "print(f\"\\nnp.hsplit(arr, 2):\\n{np.hsplit(arr, 2)}\")  # horizontal splitting --> 2 means split 2D array in 2 equal parts\n",
    "\n",
    "# Perform vertical splitting of array 'a' into 3 equal parts\n",
    "print(f\"\\nnp.vsplit(arr, 3):\\n{np.vsplit(arr, 3)}\")  # vertical splitting"
   ]
  },
  {
   "cell_type": "code",
   "execution_count": 77,
   "metadata": {},
   "outputs": [
    {
     "name": "stdout",
     "output_type": "stream",
     "text": [
      "arr = array([[[ 1,  2,  3,  4],\n",
      "        [ 5,  6,  7,  8]],\n",
      "\n",
      "       [[ 9, 10, 11, 12],\n",
      "        [13, 14, 15, 16]],\n",
      "\n",
      "       [[17, 18, 19, 20],\n",
      "        [21, 22, 23, 24]]]) , arr.shape = (3, 2, 4)\n",
      "\n",
      "arr.flatten() = array([ 1,  2,  3,  4,  5,  6,  7,  8,  9, 10, 11, 12, 13, 14, 15, 16, 17,\n",
      "       18, 19, 20, 21, 22, 23, 24])\n",
      "\n",
      "arr.ravel() = array([ 1,  2,  3,  4,  5,  6,  7,  8,  9, 10, 11, 12, 13, 14, 15, 16, 17,\n",
      "       18, 19, 20, 21, 22, 23, 24])\n",
      "\n",
      "np.ravel: [ 1  2  3  4  5  6  7  8  9 10 11 12 13 14 15 16 17 18 19 20 21 22 23 24]\n",
      "\n",
      "np.ravel: [ 1  9 17  5 13 21  2 10 18  6 14 22  3 11 19  7 15 23  4 12 20  8 16 24]\n",
      "\n",
      "arr.flat[4] = np.int64(5)\n"
     ]
    }
   ],
   "source": [
    "# ========================================== Flatten & ravel ===================================================\n",
    "arr = np.arange(1, 25).reshape(3, 2, 4) # Create a 3D array\n",
    "print(f\"{arr = } , {arr.shape = }\")\n",
    "\n",
    "print(f\"\\n{arr.flatten() = }\")  # Flatten the array into a 1D array\n",
    "\n",
    "print(f\"\\n{arr.ravel() = }\")  # ravel -> convert multidimensional array into 1D\n",
    "\n",
    "print(f\"\\nnp.ravel: {np.ravel(arr, order='A')}\") # Use np.ravel with order='A' (default order)\n",
    "\n",
    "print(f\"\\nnp.ravel: {np.ravel(arr, order='F')}\") # Use np.ravel with order='F' (Fortran-style order)\n",
    "\n",
    "print(f\"\\n{arr.flat[4] = }\")  # Access the 5th element of the flattened array"
   ]
  },
  {
   "cell_type": "code",
   "execution_count": 79,
   "metadata": {},
   "outputs": [
    {
     "name": "stdout",
     "output_type": "stream",
     "text": [
      "arr = array([[[ 1,  2,  3,  4],\n",
      "        [ 5,  6,  7,  8]],\n",
      "\n",
      "       [[ 9, 10, 11, 12],\n",
      "        [13, 14, 15, 16]],\n",
      "\n",
      "       [[17, 18, 19, 20],\n",
      "        [21, 22, 23, 24]]]) , arr.shape = (3, 2, 4)\n",
      "\n",
      "result = array([[[ 1,  2,  3,  4],\n",
      "        [ 5,  6,  7,  8]],\n",
      "\n",
      "       [[ 9, 10, 11, 12],\n",
      "        [13, 14, 15, 16]]])\n"
     ]
    }
   ],
   "source": [
    "# =============================================== Delete =======================================================\n",
    "ar = np.arange(1, 25).reshape(3, 2, 4) # Create a 3D array\n",
    "print(f\"{arr = } , {arr.shape = }\")\n",
    "\n",
    "# Delete the 3rd slice along axis 0\n",
    "result = np.delete(arr, 2, axis=0)\n",
    "print(f\"\\n{result = }\")"
   ]
  },
  {
   "cell_type": "code",
   "execution_count": 81,
   "metadata": {},
   "outputs": [
    {
     "name": "stdout",
     "output_type": "stream",
     "text": [
      "[[1 2 3]\n",
      " [4 5 6]]\n",
      "\n",
      "Shallow copy with np.copy:\n",
      "[[99  2  3]\n",
      " [ 4  5  6]]\n",
      "\n",
      "Deep copy with copy.deepcopy:\n",
      "[[100   2   3]\n",
      " [  4   5   6]]\n"
     ]
    }
   ],
   "source": [
    "# =========================================== Copy & eepcopy ===================================================\n",
    "arr = np.array([[1, 2, 3], \n",
    "                [4, 5, 6]]) # Nested array\n",
    "print(arr)  # Output: [[99 2 3] [4 5 6]]\n",
    "\n",
    "# Shallow copy with np.copy\n",
    "b = np.copy(arr)\n",
    "b[0][0] = 99\n",
    "print(f\"\\nShallow copy with np.copy:\\n{b}\") # Output: [[99 2 3] [4 5 6]]\n",
    "\n",
    "# Deep copy with copy.deepcopy\n",
    "c = copy.deepcopy(arr)\n",
    "c[0][0] = 100\n",
    "print(f\"\\nDeep copy with copy.deepcopy:\\n{c}\")  # Output: [[100 2 3] [4 5 6]]"
   ]
  },
  {
   "cell_type": "code",
   "execution_count": 84,
   "metadata": {},
   "outputs": [
    {
     "name": "stdout",
     "output_type": "stream",
     "text": [
      "arr:\n",
      "[[1 2]\n",
      " [3 4]]\n",
      "\n",
      "Repeat_Row:\n",
      "[[1 2]\n",
      " [1 2]\n",
      " [1 2]\n",
      " [3 4]\n",
      " [3 4]\n",
      " [3 4]]\n",
      "\n",
      "Repeat_Column:\n",
      "[[1 1 1 2 2 2]\n",
      " [3 3 3 4 4 4]]\n",
      "\n",
      "Repetition rate of the first column, Repetition rate of the second column:\n",
      "[[1 1 1 2 2]\n",
      " [3 3 3 4 4]]\n"
     ]
    }
   ],
   "source": [
    "# ================================================ Repeat ======================================================\n",
    "arr = np.array([[1, 2],\n",
    "                [3, 4]]) # Create a 2x2 numpy array\n",
    "\n",
    "# Print the original array\n",
    "print(f\"arr:\\n{arr}\")\n",
    "\n",
    "# Repeat each row 3 times along the row axis (axis=0)\n",
    "print(f\"\\nRepeat_Row:\\n{np.repeat(arr, 3, axis=0)}\")\n",
    "\n",
    "# Repeat each column 3 times along the column axis (axis=1)\n",
    "print(f\"\\nRepeat_Column:\\n{np.repeat(arr, 3, axis=1)}\")\n",
    "\n",
    "# Repeat the first column 3 times and the second column 2 times along the column axis (axis=1)\n",
    "arr = np.repeat(arr, [3, 2], axis=1)\n",
    "print(f\"\\nRepetition rate of the first column, Repetition rate of the second column:\\n{arr}\")"
   ]
  },
  {
   "cell_type": "code",
   "execution_count": 86,
   "metadata": {},
   "outputs": [
    {
     "name": "stdout",
     "output_type": "stream",
     "text": [
      "arr:\n",
      "[[1 2]\n",
      " [3 4]]\n",
      "\n",
      "Tiled Array:\n",
      "[[1 2 1 2]\n",
      " [3 4 3 4]\n",
      " [1 2 1 2]\n",
      " [3 4 3 4]]\n"
     ]
    }
   ],
   "source": [
    "# ================================================ Tile ========================================================\n",
    "arr = np.array([[1, 2], \n",
    "                [3, 4]]) # Create a 2x2 numpy array\n",
    "\n",
    "# Print the original array\n",
    "print(f\"arr:\\n{arr}\")\n",
    "\n",
    "# Use np.tile to repeat the array A, 2 times along the row axis and 2 times along the column axis\n",
    "result = np.tile(arr, (2, 2))\n",
    "print(f\"\\nTiled Array:\\n{result}\")"
   ]
  },
  {
   "cell_type": "code",
   "execution_count": 87,
   "metadata": {},
   "outputs": [
    {
     "name": "stdout",
     "output_type": "stream",
     "text": [
      "Unique elements in arr:\n",
      "[1 2 4 5 6 7 8 9]\n"
     ]
    }
   ],
   "source": [
    "# ================================================ Unique ======================================================\n",
    "arr = np.array([[1, 1, 2, 5, 5], \n",
    "                [5, 4, 5, 5, 6], \n",
    "                [7, 9, 8, 8, 9]]) # Create a 2D numpy array\n",
    "\n",
    "# Use np.unique to find the unique elements in the array\n",
    "unique_elements = np.unique(arr)\n",
    "print(f\"Unique elements in arr:\\n{unique_elements}\")"
   ]
  },
  {
   "cell_type": "code",
   "execution_count": 88,
   "metadata": {},
   "outputs": [
    {
     "name": "stdout",
     "output_type": "stream",
     "text": [
      "arr:\n",
      " [[1 2 3 4]\n",
      " [5 6 7 8]\n",
      " [8 7 2 1]]\n",
      "\n",
      " arr(axis=0):\n",
      "[[1 2 2 1]\n",
      " [5 6 3 4]\n",
      " [8 7 7 8]]\n",
      "\n",
      " arr(axis=None):\n",
      "[1 1 2 2 3 4 5 6 7 7 8 8]\n",
      "\n",
      "B:\n",
      "[(b'A', 1.8, 41) (b'R', 1.9, 38) (b'Q', 1.7, 38)]\n",
      "\n",
      "BB('height','age'):\n",
      "[(b'Q', 1.7, 38) (b'A', 1.8, 41) (b'R', 1.9, 38)]\n",
      "\n",
      "C(axis=0):\n",
      "[[0 0 2 2]\n",
      " [1 1 0 0]\n",
      " [2 2 1 1]]\n",
      "C(axis=1):\n",
      "[[0 1 2 3]\n",
      " [0 1 2 3]\n",
      " [3 2 1 0]]\n"
     ]
    }
   ],
   "source": [
    "# ============================================= Sort & argsort =================================================\n",
    "arr = np.array([[1, 2, 3, 4], \n",
    "                [5, 6, 7, 8], \n",
    "                [8, 7, 2, 1]]) # Create a 2D numpy array\n",
    "print(f\"arr:\\n {arr}\")\n",
    "\n",
    "# Sort the array along axis=0 (sort each column)\n",
    "AA = np.sort(arr, axis=0)\n",
    "print(f\"\\n arr(axis=0):\\n{AA}\")\n",
    "\n",
    "# Sort the flattened array (axis=None)\n",
    "AAA = np.sort(arr, axis=None)\n",
    "print(f\"\\n arr(axis=None):\\n{AAA}\")\n",
    "\n",
    "# Create a structured array with fields 'name', 'height', and 'age'\n",
    "dtype = [('name', 'S10'), ('height', float), ('age', int)]\n",
    "values = [('A', 1.8, 41), ('R', 1.9, 38), ('Q', 1.7, 38)]\n",
    "B = np.array(values, dtype=dtype)\n",
    "print(f\"\\nB:\\n{B}\")\n",
    "\n",
    "# Sort the structured array first by 'height' and then by 'age'\n",
    "BB = np.sort(B, order=['height', 'age'])\n",
    "print(f\"\\nBB('height','age'):\\n{BB}\")\n",
    "\n",
    "# Get the indices that would sort the array along axis=0 (columns)\n",
    "C = np.argsort(arr, axis=0)\n",
    "\n",
    "# Get the indices that would sort the array along axis=1 (rows)\n",
    "CC = np.argsort(arr, axis=1)\n",
    "print(f\"\\nC(axis=0):\\n{C}\\nC(axis=1):\\n{CC}\")"
   ]
  },
  {
   "cell_type": "code",
   "execution_count": 26,
   "metadata": {},
   "outputs": [
    {
     "name": "stdout",
     "output_type": "stream",
     "text": [
      "arr:\n",
      " [[  1.   2.   3.   4.]\n",
      " [  5.  nan   7.   8.]\n",
      " [  9.  nan  11. -20.]\n",
      " [  8.   7.   2.  nan]]\n",
      "\n",
      " arr(max_index, axis=0):\n",
      " [2 3 2 1]\n",
      "\n",
      " arr(max_index, axis=None):\n",
      " 10\n",
      "\n",
      " arr(min_index, axis=0):\n",
      " [0 0 3 2]\n"
     ]
    }
   ],
   "source": [
    "# ======================================== Nanargmax & nanargmin ===============================================\n",
    "# Create a 2D numpy array with NaN values\n",
    "arr = np.array([[1, 2, 3, 4], \n",
    "              [5, np.nan, 7, 8], \n",
    "              [9, np.nan, 11, -20], \n",
    "              [8, 7, 2, np.nan]])\n",
    "print(f\"arr:\\n {arr}\")\n",
    "\n",
    "# Find the indices of the maximum values along axis=0 (columns), ignoring NaN values\n",
    "AA = np.nanargmax(arr, axis=0)\n",
    "print(f\"\\n arr(max_index, axis=0):\\n {AA}\")\n",
    "\n",
    "# Find the index of the maximum value in the flattened array, ignoring NaN values\n",
    "AAA = np.nanargmax(arr, axis=None)\n",
    "print(f\"\\n arr(max_index, axis=None):\\n {AAA}\")\n",
    "\n",
    "# Find the indices of the minimum values along axis=0 (columns), ignoring NaN values\n",
    "BB = np.nanargmin(arr, axis=0)\n",
    "print(f\"\\n arr(min_index, axis=0):\\n {BB}\")"
   ]
  },
  {
   "cell_type": "code",
   "execution_count": 91,
   "metadata": {},
   "outputs": [
    {
     "name": "stdout",
     "output_type": "stream",
     "text": [
      "arr:\n",
      " [[  1   2   3   4]\n",
      " [  9   7  11 -20]\n",
      " [  9  -7  12   6]]\n",
      "\n",
      " arr((arr>=3) & (arr<10), arr,-10):\n",
      " [[-10 -10   3   4]\n",
      " [  9   7 -10 -10]\n",
      " [  9 -10 -10   6]]\n",
      "\n",
      " arr(arr>7):\n",
      " [[1 0]\n",
      " [1 2]\n",
      " [2 0]\n",
      " [2 2]]\n",
      "\n",
      " B(arr>7):\n",
      " [ 9 11  9 12]\n"
     ]
    }
   ],
   "source": [
    "# ======================================= Where, argwhere & extract ============================================\n",
    "arr = np.array([[1, 2, 3, 4], \n",
    "                [9, 7, 11, -20], \n",
    "                [9, -7, 12, 6]]) # Create a 2D numpy array\n",
    "print(f\"arr:\\n {arr}\")\n",
    "\n",
    "# Use np.where to replace elements based on a condition\n",
    "# If the condition (arr >= 3) & (arr < 10) is True, keep the original value; otherwise, replace with -10\n",
    "AA = np.where((arr >= 3) & (arr < 10), arr, -10)\n",
    "print(f\"\\n arr((arr>=3) & (arr<10), arr,-10):\\n {AA}\")\n",
    "\n",
    "# Use np.argwhere to find the indices of elements that satisfy the condition A > 7\n",
    "AAA = np.argwhere(arr > 7)\n",
    "print(f\"\\n arr(arr>7):\\n {AAA}\")\n",
    "\n",
    "# Use np.extract to return the elements of A that satisfy the condition A > 7\n",
    "B = np.extract(arr > 7, arr)\n",
    "print(f\"\\n B(arr>7):\\n {B}\")"
   ]
  }
 ],
 "metadata": {
  "kernelspec": {
   "display_name": "Python 3",
   "language": "python",
   "name": "python3"
  },
  "language_info": {
   "codemirror_mode": {
    "name": "ipython",
    "version": 3
   },
   "file_extension": ".py",
   "mimetype": "text/x-python",
   "name": "python",
   "nbconvert_exporter": "python",
   "pygments_lexer": "ipython3",
   "version": "3.12.8"
  }
 },
 "nbformat": 4,
 "nbformat_minor": 0
}
