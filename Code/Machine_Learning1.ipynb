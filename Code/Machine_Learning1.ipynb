{
 "cells": [
  {
   "cell_type": "markdown",
   "metadata": {},
   "source": [
    "Presented by: Reza Saadatyar <br/>\n",
    "E-mail: Reza.Saadatyar92@gmail.com"
   ]
  },
  {
   "cell_type": "markdown",
   "metadata": {},
   "source": [
    "**Importing the required Libraries**"
   ]
  },
  {
   "cell_type": "code",
   "execution_count": 77,
   "metadata": {},
   "outputs": [],
   "source": [
    "import numpy as np\n",
    "import pandas as pd\n",
    "from scipy import signal\n",
    "import matplotlib.pyplot as plt\n",
    "from sklearn import datasets, preprocessing, model_selection\n"
   ]
  },
  {
   "cell_type": "markdown",
   "metadata": {},
   "source": [
    "**Functions**"
   ]
  },
  {
   "cell_type": "code",
   "execution_count": 76,
   "metadata": {},
   "outputs": [],
   "source": [
    "# =============================================== Preparing data =========================================================\n",
    "def preparing_data(data, labels):\n",
    "    if data.shape[0] < data.shape[1]:\n",
    "        data = data.T\n",
    "    Labels = preprocessing.LabelEncoder()\n",
    "    Labels = Labels.fit_transform(labels)\n",
    "    return data, Labels\n",
    " \n",
    "# ==================================================== Filtering =========================================================\n",
    "def filtering(data, f_low, f_high, order, Fs, filter_type=\"low\"):\n",
    "    if data.ndim > 1:\n",
    "        if data.shape[0] > data.shape[1]:\n",
    "            data = data.T\n",
    "            \n",
    "    f_low = f_low / (Fs / 2)\n",
    "    f_high = f_high / (Fs / 2)\n",
    "    \n",
    "    if filter_type == \"low\":\n",
    "        b, a = signal.butter(order, f_low, btype='low')\n",
    "    elif filter_type == \"high\":\n",
    "        b, a = signal.butter(order, f_high, btype='high')\n",
    "    elif filter_type == \"bandpass\":\n",
    "        b, a = signal.butter(order, [f_low, f_high], btype='bandpass')\n",
    "    elif filter_type == \"bandstop\":\n",
    "        b, a = signal.butter(order, [f_low, f_high], btype='bandstop')\n",
    "    filtered_data = signal.filtfilt(b, a, data)\n",
    "    \n",
    "    return filtered_data.T\n",
    "\n",
    "# ================================================= Plot data ============================================================\n",
    "def plot_data(filtered_data, Fs=None, first_point=0, last_point=100, val_ylim='', size_fig=(7,5), title='', display_figure=\"off\"):\n",
    "    \n",
    "    if display_figure == \"on\":\n",
    "        if filtered_data.shape[0] < filtered_data.shape[1]:\n",
    "            filtered_data = filtered_data.T\n",
    "            \n",
    "        filtered_data = filtered_data[first_point:last_point,:]\n",
    "        \n",
    "        std = np.sort(np.std(filtered_data, axis=0))\n",
    "        if len(std) > 100:\n",
    "            std = np.mean(std[1:len(std)-1])\n",
    "        else:\n",
    "            std = np.mean(std)\n",
    "        \n",
    "        _, axs = plt.subplots(nrows=1, sharey='row', figsize=size_fig)\n",
    "        offset = np.arange(filtered_data.shape[1]*std*val_ylim, 1, -std*val_ylim)\n",
    "      \n",
    "        if Fs is not None and np.array(Fs) > 0:\n",
    "            time = (np.linspace(start=first_point/Fs, stop=last_point/Fs, num=len(filtered_data))).flatten()\n",
    "            line = axs.plot(time, filtered_data + offset, linewidth=1)\n",
    "            axs.set_xlabel('Time (sec)', fontsize=10)\n",
    "        else:\n",
    "            line = axs.plot(filtered_data + offset, linewidth=1)\n",
    "            axs.set_xlabel('sample', fontsize=10)\n",
    "        \n",
    "        axs.set_title(title, fontsize=10)\n",
    "        axs.set_yticks(offset)\n",
    "        axs.set_yticklabels([\"ch\" + str(i) for i in range(1, filtered_data.shape[1] + 1)],  weight='bold')\n",
    "        axs.tick_params(axis='x', labelsize=9)\n",
    "        axs.tick_params(axis='y', labelsize=8)\n",
    "        axs.set_ylabel('Channels', fontsize=10)\n",
    "        axs.tick_params(axis='y', color='k', labelcolor='k')\n",
    "        axs.grid(False)\n",
    "        ytick_labels = plt.gca().get_yticklabels()\n",
    "        for i, label in enumerate(ytick_labels):\n",
    "            # line[i].set_color(line[i].get_color())\n",
    "            label.set_color(line[i].get_color())\n",
    "            \n",
    "        axs.autoscale(enable=True, axis=\"x\",tight=True)\n",
    "        min = np.min(np.min(filtered_data + offset, axis=0))\n",
    "        max = np.max(np.max(filtered_data + offset, axis=0))\n",
    "        axs.set_ylim(min + min*0.02, max + max*0.01)\n",
    "\n",
    "# ============================================== Data normalization ======================================================                          \n",
    "def data_normalization(x_train, x_test, method=1):\n",
    "    if x_train.ndim == 1:\n",
    "        x_train = x_train.reshape(-1, 1)\n",
    "        x_test = x_test.reshape(-1, 1)\n",
    "        \n",
    "    if method == 1:\n",
    "        norm = preprocessing.MinMaxScaler()\n",
    "    elif method == 2:\n",
    "        norm = preprocessing.StandardScaler()\n",
    "        \n",
    "    x_train = norm.fit_transform(x_train)\n",
    "    x_test = norm.transform(x_test)\n",
    "    \n",
    "    return x_train, x_test\n",
    "\n"
   ]
  },
  {
   "cell_type": "markdown",
   "metadata": {},
   "source": [
    "**1. Load data**"
   ]
  },
  {
   "cell_type": "code",
   "execution_count": 86,
   "metadata": {},
   "outputs": [
    {
     "name": "stdout",
     "output_type": "stream",
     "text": [
      "x.shape=(500, 3),\n",
      "x=array([[ 1.88986528, -0.64863577, -2.1602489 ],\n",
      "       [-1.34856898,  0.55826422,  0.90963351],\n",
      "       [ 1.34032355,  1.11548937,  0.70083457],\n",
      "       ...,\n",
      "       [-1.0205182 , -1.50489128, -1.61092141],\n",
      "       [-0.69899664, -1.47958003, -1.74482983],\n",
      "       [ 1.18585255,  0.47153427,  0.84682878]]),\n",
      "y=array([0, 1, 1, 0, 1, 0, 1, 0, 0, 0, 1, 1, 0, 0, 1, 0, 0, 1, 0, 0, 1, 1,\n",
      "       0, 1, 0, 0, 0, 1, 0, 1, 1, 1, 0, 0, 0, 1, 0, 1, 0, 0, 0, 0, 1, 1,\n",
      "       1, 1, 1, 0, 0, 0, 0, 0, 1, 1, 1, 1, 1, 1, 1, 1, 1, 1, 0, 0, 1, 0,\n",
      "       1, 1, 1, 1, 1, 0, 0, 1, 1, 0, 0, 0, 1, 1, 0, 0, 1, 1, 1, 0, 0, 1,\n",
      "       0, 0, 0, 1, 1, 0, 1, 1, 1, 1, 1, 1, 0, 1, 0, 0, 0, 0, 1, 0, 0, 0,\n",
      "       0, 0, 0, 0, 1, 0, 0, 1, 1, 1, 1, 0, 0, 0, 1, 1, 1, 1, 0, 0, 1, 0,\n",
      "       0, 0, 0, 1, 1, 0, 0, 0, 0, 0, 0, 1, 0, 1, 0, 0, 0, 1, 1, 0, 0, 0,\n",
      "       1, 0, 1, 0, 1, 0, 0, 0, 0, 0, 1, 1, 1, 1, 1, 0, 0, 1, 0, 1, 1, 1,\n",
      "       0, 0, 0, 1, 1, 1, 1, 0, 0, 0, 1, 0, 0, 0, 0, 0, 0, 0, 1, 1, 0, 0,\n",
      "       0, 0, 0, 0, 0, 0, 1, 1, 0, 1, 1, 1, 1, 0, 1, 0, 0, 0, 0, 1, 0, 0,\n",
      "       0, 0, 1, 0, 1, 0, 1, 0, 0, 0, 0, 1, 0, 1, 1, 1, 1, 1, 1, 1, 1, 1,\n",
      "       0, 0, 0, 1, 0, 1, 0, 1, 1, 0, 0, 1, 0, 1, 0, 1, 1, 1, 0, 1, 0, 1,\n",
      "       1, 0, 0, 1, 1, 1, 0, 1, 1, 0, 1, 0, 0, 0, 1, 1, 1, 0, 0, 0, 1, 1,\n",
      "       0, 0, 0, 1, 0, 1, 1, 0, 1, 0, 1, 1, 0, 1, 1, 1, 1, 1, 0, 1, 0, 0,\n",
      "       1, 1, 0, 0, 0, 1, 1, 1, 1, 1, 1, 0, 1, 1, 0, 0, 1, 0, 0, 0, 0, 1,\n",
      "       1, 1, 0, 0, 1, 0, 0, 1, 0, 1, 1, 0, 1, 1, 1, 1, 1, 1, 1, 0, 0, 0,\n",
      "       0, 0, 1, 0, 1, 0, 0, 0, 0, 0, 0, 1, 0, 0, 0, 0, 0, 0, 0, 0, 0, 1,\n",
      "       1, 0, 1, 0, 1, 0, 0, 1, 1, 1, 0, 0, 1, 0, 1, 1, 0, 1, 0, 1, 0, 1,\n",
      "       0, 1, 0, 0, 1, 1, 0, 1, 0, 0, 1, 1, 1, 1, 1, 1, 1, 1, 0, 1, 1, 1,\n",
      "       1, 0, 1, 1, 0, 0, 1, 1, 1, 1, 1, 0, 1, 1, 1, 1, 0, 0, 1, 1, 1, 0,\n",
      "       0, 0, 1, 0, 1, 0, 0, 1, 1, 1, 1, 0, 1, 1, 0, 0, 1, 0, 0, 1, 0, 1,\n",
      "       1, 0, 1, 1, 0, 1, 1, 0, 0, 1, 0, 0, 0, 1, 1, 0, 1, 0, 0, 1, 0, 0,\n",
      "       1, 0, 0, 0, 0, 0, 1, 0, 1, 1, 1, 1, 1, 0, 0, 1])\n"
     ]
    }
   ],
   "source": [
    "method = 1\n",
    "if method==1:\n",
    "   x, y = datasets.make_classification(n_samples=500,      # Number of samples in the dataset\n",
    "                                       n_features=3,       # Number of total features\n",
    "                                       n_informative=2,    # Number of informative features\n",
    "                                       n_redundant=0,      # Number of redundant features\n",
    "                                       n_classes=2,        # Number of classes in the dataset (binary classification in this case)\n",
    "                                       random_state=1)     # Seed for reproducibility)\n",
    "   print(f\"{x.shape=},\\n{x=},\\n{y=}\")\n",
    "elif method==2:\n",
    "   iris = datasets.load_iris()\n",
    "   x = iris.data\n",
    "   y = iris.target\n",
    "   print(f\"{iris.data.shape=},\\n{iris.feature_names=},\\n{iris.target_names=},\\n{iris.data=},\\n{iris.target}\")"
   ]
  },
  {
   "cell_type": "markdown",
   "metadata": {},
   "source": [
    "**2. Preparing the data**"
   ]
  },
  {
   "cell_type": "code",
   "execution_count": 87,
   "metadata": {},
   "outputs": [],
   "source": [
    "data, labels = preparing_data(x, y)"
   ]
  },
  {
   "cell_type": "code",
   "execution_count": 89,
   "metadata": {},
   "outputs": [
    {
     "data": {
      "image/png": "[encoded data removed]",
      "text/plain": [
       "<Figure size 600x300 with 2 Axes>"
      ]
     },
     "metadata": {},
     "output_type": "display_data"
    }
   ],
   "source": [
    "_, axs= plt.subplots(nrows=1, ncols=2, figsize=(6, 3))\n",
    "axs[0].scatter(data[:,1], data[:,2], c=labels)\n",
    "axs[1].boxplot(data, boxprops=dict(color='green'), whiskerprops=dict(color='red'), medianprops=dict(color='blue'), capprops=dict(color='gray'), patch_artist=True)\n",
    "axs[1].set_xlabel(\"Channels\")\n",
    "plt.autoscale(axis=\"x\", tight=True, enable=True)"
   ]
  },
  {
   "cell_type": "markdown",
   "metadata": {},
   "source": [
    "**3. Filtering**<br/>\n",
    "\n",
    "`Fs > f_high > f_low`"
   ]
  },
  {
   "cell_type": "code",
   "execution_count": 60,
   "metadata": {},
   "outputs": [],
   "source": [
    "filtered_data = filtering(data, f_low=5, f_high=10, order=3, Fs=50, filter_type='bandpass')   # filter_type:'low', 'high', 'bandpass', 'bandstop'\n",
    "plot_data(filtered_data, Fs=None, first_point=0, last_point=500, val_ylim=3, size_fig=(7,5), title='filtered_data', display_figure=\"off\")"
   ]
  },
  {
   "cell_type": "markdown",
   "metadata": {},
   "source": [
    "**4. Split data**"
   ]
  },
  {
   "cell_type": "code",
   "execution_count": 78,
   "metadata": {},
   "outputs": [],
   "source": [
    "x_train, x_test, y_train, y_test = model_selection.train_test_split(data, labels, test_size=0.3, random_state=42)"
   ]
  },
  {
   "cell_type": "markdown",
   "metadata": {},
   "source": [
    "**5. Data normalization**"
   ]
  },
  {
   "cell_type": "code",
   "execution_count": 79,
   "metadata": {},
   "outputs": [],
   "source": [
    "x_train, x_test = data_normalization(x_train, x_test, method=2)   # method 1: MinMaxScaler, method 2: StandardScaler"
   ]
  }
 ],
 "metadata": {
  "kernelspec": {
   "display_name": "Python 3",
   "language": "python",
   "name": "python3"
  },
  "language_info": {
   "codemirror_mode": {
    "name": "ipython",
    "version": 3
   },
   "file_extension": ".py",
   "mimetype": "text/x-python",
   "name": "python",
   "nbconvert_exporter": "python",
   "pygments_lexer": "ipython3",
   "version": "3.11.4"
  }
 },
 "nbformat": 4,
 "nbformat_minor": 2
}
