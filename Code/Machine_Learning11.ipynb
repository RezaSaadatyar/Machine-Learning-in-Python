{
 "cells": [
  {
   "cell_type": "markdown",
   "metadata": {},
   "source": [
    "**1. Load data**"
   ]
  },
  {
   "cell_type": "code",
   "execution_count": 11,
   "metadata": {},
   "outputs": [
    {
     "name": "stdout",
     "output_type": "stream",
     "text": [
      "x.shape=(500, 3),\n",
      "x=array([[ 1.88986528, -0.64863577, -2.1602489 ],\n",
      "       [-1.34856898,  0.55826422,  0.90963351],\n",
      "       [ 1.34032355,  1.11548937,  0.70083457],\n",
      "       ...,\n",
      "       [-1.0205182 , -1.50489128, -1.61092141],\n",
      "       [-0.69899664, -1.47958003, -1.74482983],\n",
      "       [ 1.18585255,  0.47153427,  0.84682878]]),\n",
      "y=array([0, 1, 1, 0, 1, 0, 1, 0, 0, 0, 1, 1, 0, 0, 1, 0, 0, 1, 0, 0, 1, 1,\n",
      "       0, 1, 0, 0, 0, 1, 0, 1, 1, 1, 0, 0, 0, 1, 0, 1, 0, 0, 0, 0, 1, 1,\n",
      "       1, 1, 1, 0, 0, 0, 0, 0, 1, 1, 1, 1, 1, 1, 1, 1, 1, 1, 0, 0, 1, 0,\n",
      "       1, 1, 1, 1, 1, 0, 0, 1, 1, 0, 0, 0, 1, 1, 0, 0, 1, 1, 1, 0, 0, 1,\n",
      "       0, 0, 0, 1, 1, 0, 1, 1, 1, 1, 1, 1, 0, 1, 0, 0, 0, 0, 1, 0, 0, 0,\n",
      "       0, 0, 0, 0, 1, 0, 0, 1, 1, 1, 1, 0, 0, 0, 1, 1, 1, 1, 0, 0, 1, 0,\n",
      "       0, 0, 0, 1, 1, 0, 0, 0, 0, 0, 0, 1, 0, 1, 0, 0, 0, 1, 1, 0, 0, 0,\n",
      "       1, 0, 1, 0, 1, 0, 0, 0, 0, 0, 1, 1, 1, 1, 1, 0, 0, 1, 0, 1, 1, 1,\n",
      "       0, 0, 0, 1, 1, 1, 1, 0, 0, 0, 1, 0, 0, 0, 0, 0, 0, 0, 1, 1, 0, 0,\n",
      "       0, 0, 0, 0, 0, 0, 1, 1, 0, 1, 1, 1, 1, 0, 1, 0, 0, 0, 0, 1, 0, 0,\n",
      "       0, 0, 1, 0, 1, 0, 1, 0, 0, 0, 0, 1, 0, 1, 1, 1, 1, 1, 1, 1, 1, 1,\n",
      "       0, 0, 0, 1, 0, 1, 0, 1, 1, 0, 0, 1, 0, 1, 0, 1, 1, 1, 0, 1, 0, 1,\n",
      "       1, 0, 0, 1, 1, 1, 0, 1, 1, 0, 1, 0, 0, 0, 1, 1, 1, 0, 0, 0, 1, 1,\n",
      "       0, 0, 0, 1, 0, 1, 1, 0, 1, 0, 1, 1, 0, 1, 1, 1, 1, 1, 0, 1, 0, 0,\n",
      "       1, 1, 0, 0, 0, 1, 1, 1, 1, 1, 1, 0, 1, 1, 0, 0, 1, 0, 0, 0, 0, 1,\n",
      "       1, 1, 0, 0, 1, 0, 0, 1, 0, 1, 1, 0, 1, 1, 1, 1, 1, 1, 1, 0, 0, 0,\n",
      "       0, 0, 1, 0, 1, 0, 0, 0, 0, 0, 0, 1, 0, 0, 0, 0, 0, 0, 0, 0, 0, 1,\n",
      "       1, 0, 1, 0, 1, 0, 0, 1, 1, 1, 0, 0, 1, 0, 1, 1, 0, 1, 0, 1, 0, 1,\n",
      "       0, 1, 0, 0, 1, 1, 0, 1, 0, 0, 1, 1, 1, 1, 1, 1, 1, 1, 0, 1, 1, 1,\n",
      "       1, 0, 1, 1, 0, 0, 1, 1, 1, 1, 1, 0, 1, 1, 1, 1, 0, 0, 1, 1, 1, 0,\n",
      "       0, 0, 1, 0, 1, 0, 0, 1, 1, 1, 1, 0, 1, 1, 0, 0, 1, 0, 0, 1, 0, 1,\n",
      "       1, 0, 1, 1, 0, 1, 1, 0, 0, 1, 0, 0, 0, 1, 1, 0, 1, 0, 0, 1, 0, 0,\n",
      "       1, 0, 0, 0, 0, 0, 1, 0, 1, 1, 1, 1, 1, 0, 0, 1])\n"
     ]
    }
   ],
   "source": [
    "method = 1\n",
    "if method==1:\n",
    "   x, y = datasets.make_classification(n_samples=500,      # Number of samples in the dataset\n",
    "                                       n_features=3,       # Number of total features\n",
    "                                       n_informative=2,    # Number of informative features\n",
    "                                       n_redundant=0,      # Number of redundant features\n",
    "                                       n_classes=2,        # Number of classes in the dataset (binary classification in this case)\n",
    "                                       random_state=1)     # Seed for reproducibility)\n",
    "   print(f\"{x.shape=},\\n{x=},\\n{y=}\")\n",
    "elif method==2:\n",
    "   iris = datasets.load_iris()\n",
    "   x = iris.data\n",
    "   y = iris.target\n",
    "   print(f\"{iris.data.shape=}, \\n{iris.feature_names=}, \\n{iris.target_names=},\\n{iris.data=},\\n{iris.target}\")"
   ]
  },
  {
   "cell_type": "markdown",
   "metadata": {},
   "source": [
    "**2. Data preparation**"
   ]
  },
  {
   "cell_type": "code",
   "execution_count": 167,
   "metadata": {},
   "outputs": [
    {
     "data": {
      "text/html": [
       "<div>\n",
       "<style scoped>\n",
       "    .dataframe tbody tr th:only-of-type {\n",
       "        vertical-align: middle;\n",
       "    }\n",
       "\n",
       "    .dataframe tbody tr th {\n",
       "        vertical-align: top;\n",
       "    }\n",
       "\n",
       "    .dataframe thead th {\n",
       "        text-align: right;\n",
       "    }\n",
       "</style>\n",
       "<table border=\"1\" class=\"dataframe\">\n",
       "  <thead>\n",
       "    <tr style=\"text-align: right;\">\n",
       "      <th></th>\n",
       "      <th>0</th>\n",
       "      <th>1</th>\n",
       "      <th>2</th>\n",
       "    </tr>\n",
       "  </thead>\n",
       "  <tbody>\n",
       "    <tr>\n",
       "      <th>0</th>\n",
       "      <td>1.889865</td>\n",
       "      <td>-0.648636</td>\n",
       "      <td>-2.160249</td>\n",
       "    </tr>\n",
       "    <tr>\n",
       "      <th>1</th>\n",
       "      <td>-1.348569</td>\n",
       "      <td>0.558264</td>\n",
       "      <td>0.909634</td>\n",
       "    </tr>\n",
       "    <tr>\n",
       "      <th>2</th>\n",
       "      <td>1.340324</td>\n",
       "      <td>1.115489</td>\n",
       "      <td>0.700835</td>\n",
       "    </tr>\n",
       "    <tr>\n",
       "      <th>3</th>\n",
       "      <td>0.354304</td>\n",
       "      <td>-0.070950</td>\n",
       "      <td>0.123171</td>\n",
       "    </tr>\n",
       "    <tr>\n",
       "      <th>4</th>\n",
       "      <td>1.162551</td>\n",
       "      <td>-3.016032</td>\n",
       "      <td>0.872561</td>\n",
       "    </tr>\n",
       "    <tr>\n",
       "      <th>5</th>\n",
       "      <td>-1.145507</td>\n",
       "      <td>-1.149723</td>\n",
       "      <td>0.041978</td>\n",
       "    </tr>\n",
       "  </tbody>\n",
       "</table>\n",
       "</div>"
      ],
      "text/plain": [
       "          0         1         2\n",
       "0  1.889865 -0.648636 -2.160249\n",
       "1 -1.348569  0.558264  0.909634\n",
       "2  1.340324  1.115489  0.700835\n",
       "3  0.354304 -0.070950  0.123171\n",
       "4  1.162551 -3.016032  0.872561\n",
       "5 -1.145507 -1.149723  0.041978"
      ]
     },
     "execution_count": 167,
     "metadata": {},
     "output_type": "execute_result"
    }
   ],
   "source": [
    "df = pd.DataFrame(x)\n",
    "df.head(6)"
   ]
  },
  {
   "cell_type": "code",
   "execution_count": 168,
   "metadata": {},
   "outputs": [
    {
     "data": {
      "text/html": [
       "<div>\n",
       "<style scoped>\n",
       "    .dataframe tbody tr th:only-of-type {\n",
       "        vertical-align: middle;\n",
       "    }\n",
       "\n",
       "    .dataframe tbody tr th {\n",
       "        vertical-align: top;\n",
       "    }\n",
       "\n",
       "    .dataframe thead th {\n",
       "        text-align: right;\n",
       "    }\n",
       "</style>\n",
       "<table border=\"1\" class=\"dataframe\">\n",
       "  <thead>\n",
       "    <tr style=\"text-align: right;\">\n",
       "      <th></th>\n",
       "      <th>0</th>\n",
       "      <th>1</th>\n",
       "      <th>2</th>\n",
       "      <th>class</th>\n",
       "    </tr>\n",
       "  </thead>\n",
       "  <tbody>\n",
       "    <tr>\n",
       "      <th>0</th>\n",
       "      <td>1.889865</td>\n",
       "      <td>-0.648636</td>\n",
       "      <td>-2.160249</td>\n",
       "      <td>0</td>\n",
       "    </tr>\n",
       "    <tr>\n",
       "      <th>1</th>\n",
       "      <td>-1.348569</td>\n",
       "      <td>0.558264</td>\n",
       "      <td>0.909634</td>\n",
       "      <td>1</td>\n",
       "    </tr>\n",
       "    <tr>\n",
       "      <th>2</th>\n",
       "      <td>1.340324</td>\n",
       "      <td>1.115489</td>\n",
       "      <td>0.700835</td>\n",
       "      <td>1</td>\n",
       "    </tr>\n",
       "    <tr>\n",
       "      <th>3</th>\n",
       "      <td>0.354304</td>\n",
       "      <td>-0.070950</td>\n",
       "      <td>0.123171</td>\n",
       "      <td>0</td>\n",
       "    </tr>\n",
       "    <tr>\n",
       "      <th>4</th>\n",
       "      <td>1.162551</td>\n",
       "      <td>-3.016032</td>\n",
       "      <td>0.872561</td>\n",
       "      <td>1</td>\n",
       "    </tr>\n",
       "    <tr>\n",
       "      <th>5</th>\n",
       "      <td>-1.145507</td>\n",
       "      <td>-1.149723</td>\n",
       "      <td>0.041978</td>\n",
       "      <td>0</td>\n",
       "    </tr>\n",
       "  </tbody>\n",
       "</table>\n",
       "</div>"
      ],
      "text/plain": [
       "          0         1         2  class\n",
       "0  1.889865 -0.648636 -2.160249      0\n",
       "1 -1.348569  0.558264  0.909634      1\n",
       "2  1.340324  1.115489  0.700835      1\n",
       "3  0.354304 -0.070950  0.123171      0\n",
       "4  1.162551 -3.016032  0.872561      1\n",
       "5 -1.145507 -1.149723  0.041978      0"
      ]
     },
     "execution_count": 168,
     "metadata": {},
     "output_type": "execute_result"
    }
   ],
   "source": [
    "df['class'] = y\n",
    "df.head(6)"
   ]
  },
  {
   "cell_type": "code",
   "execution_count": 169,
   "metadata": {},
   "outputs": [
    {
     "name": "stdout",
     "output_type": "stream",
     "text": [
      "\n",
      " df.values=array([[ 1.88986528, -0.64863577, -2.1602489 ,  0.        ],\n",
      "       [-1.34856898,  0.55826422,  0.90963351,  1.        ],\n",
      "       [ 1.34032355,  1.11548937,  0.70083457,  1.        ],\n",
      "       ...,\n",
      "       [-1.0205182 , -1.50489128, -1.61092141,  0.        ],\n",
      "       [-0.69899664, -1.47958003, -1.74482983,  0.        ],\n",
      "       [ 1.18585255,  0.47153427,  0.84682878,  1.        ]])\n",
      "\n",
      " df.index=RangeIndex(start=0, stop=500, step=1)\n",
      "\n",
      " df.value_counts=<bound method DataFrame.value_counts of             0         1         2  class\n",
      "0    1.889865 -0.648636 -2.160249      0\n",
      "1   -1.348569  0.558264  0.909634      1\n",
      "2    1.340324  1.115489  0.700835      1\n",
      "3    0.354304 -0.070950  0.123171      0\n",
      "4    1.162551 -3.016032  0.872561      1\n",
      "..        ...       ...       ...    ...\n",
      "495 -0.755956  0.321326  0.979013      1\n",
      "496 -0.228591 -1.037289  0.109650      1\n",
      "497 -1.020518 -1.504891 -1.610921      0\n",
      "498 -0.698997 -1.479580 -1.744830      0\n",
      "499  1.185853  0.471534  0.846829      1\n",
      "\n",
      "[500 rows x 4 columns]>\n",
      "\n",
      " df.describe()=                0           1           2       class\n",
      "count  500.000000  500.000000  500.000000  500.000000\n",
      "mean     0.005653    0.090843   -0.006490    0.494000\n",
      "std      1.197914    1.013940    1.211276    0.500465\n",
      "min     -2.331187   -3.153357   -3.038348    0.000000\n",
      "25%     -1.020065   -0.567730   -0.983472    0.000000\n",
      "50%     -0.194022    0.099667    0.062018    0.000000\n",
      "75%      0.977681    0.760932    1.013467    1.000000\n",
      "max      4.183255    2.917309    3.321837    1.000000\n"
     ]
    }
   ],
   "source": [
    "print(f\"\\n {df.values=}\")\n",
    "print(f\"\\n {df.index=}\")\n",
    "print(f\"\\n {df.value_counts=}\")\n",
    "print(f\"\\n {df.describe()=}\")"
   ]
  },
  {
   "cell_type": "markdown",
   "metadata": {},
   "source": [
    "**3. Split data**"
   ]
  },
  {
   "cell_type": "code",
   "execution_count": 170,
   "metadata": {},
   "outputs": [
    {
     "name": "stdout",
     "output_type": "stream",
     "text": [
      "(350, 3)\n",
      "(150, 3)\n",
      "(350,)\n",
      "(150,)\n"
     ]
    }
   ],
   "source": [
    "x_train, x_test, y_train, y_test = model_selection.train_test_split(x, y, test_size=0.3, random_state=1)\n",
    "print(f\"{x_train.shape}\")\n",
    "print(f\"{x_test.shape}\")\n",
    "print(f\"{y_train.shape}\")\n",
    "print(f\"{y_test.shape}\")"
   ]
  },
  {
   "cell_type": "markdown",
   "metadata": {},
   "source": [
    "**4. Classification**"
   ]
  },
  {
   "cell_type": "code",
   "execution_count": 171,
   "metadata": {},
   "outputs": [
    {
     "name": "stdout",
     "output_type": "stream",
     "text": [
      "P.shape = (150, 2)\n"
     ]
    }
   ],
   "source": [
    "model = KNeighborsClassifier(n_neighbors=3)\n",
    "model.fit(x_train, y_train)\n",
    "P = model.predict_proba(x_test)\n",
    "print(f\"{P.shape = }\")"
   ]
  },
  {
   "cell_type": "code",
   "execution_count": 173,
   "metadata": {},
   "outputs": [
    {
     "name": "stdout",
     "output_type": "stream",
     "text": [
      "auc = 0.9640633339263476\n"
     ]
    }
   ],
   "source": [
    "auc = metrics.roc_auc_score(y_test, P[:,1])\n",
    "print(f\"{auc = }\")\n",
    "fpr, tpr, thresholds = metrics.roc_curve(y_test, P[:, 1])"
   ]
  },
  {
   "cell_type": "markdown",
   "metadata": {},
   "source": [
    "**Plot**"
   ]
  },
  {
   "cell_type": "code",
   "execution_count": 184,
   "metadata": {},
   "outputs": [
    {
     "data": {
      "image/png": "[encoded data removed]",
      "text/plain": [
       "<Figure size 800x300 with 3 Axes>"
      ]
     },
     "metadata": {},
     "output_type": "display_data"
    }
   ],
   "source": [
    "_, axs= plt.subplots(nrows=1, ncols=3, figsize=(8, 3))\n",
    "axs[0].scatter(df.iloc[:,1], df.iloc[:,2], c=df[\"class\"])\n",
    "axs[1].plot([0, 1], [0, 1], linestyle='--')\n",
    "axs[1].plot(fpr, tpr, 'r--o', markersize=4)\n",
    "# df.iloc[:,:3].plot.box(color={'boxes': 'Green', 'whiskers': 'red','medians': 'Blue', 'caps': 'Gray'},ax=axs[2])\n",
    "axs[2].boxplot(x, boxprops=dict(color='green'), whiskerprops=dict(color='red'), medianprops=dict(color='blue'), capprops=dict(color='gray'), patch_artist=True)\n",
    "plt.autoscale(axis=\"x\", tight=True, enable=True)"
   ]
  },
  {
   "cell_type": "code",
   "execution_count": null,
   "metadata": {},
   "outputs": [],
   "source": [
    "n,bins,_= plt.hist(x[:,0], bins=20,edgecolor='black',normed=1)\n",
    "y=mlab.normpdf(bins,100,15)\n",
    "plt.plot(bins,y,'r')\n"
   ]
  },
  {
   "cell_type": "code",
   "execution_count": 188,
   "metadata": {},
   "outputs": [
    {
     "ename": "IndexError",
     "evalue": "too many indices for array: array is 1-dimensional, but 2 were indexed",
     "output_type": "error",
     "traceback": [
      "\u001b[1;31m---------------------------------------------------------------------------\u001b[0m",
      "\u001b[1;31mIndexError\u001b[0m                                Traceback (most recent call last)",
      "\u001b[1;32mc:\\Users\\Reza\\Documents\\Machine-Learning-in-Python\\Code\\Machine_Learning.ipynb Cell 18\u001b[0m line \u001b[0;36m8\n\u001b[0;32m      <a href='vscode-notebook-cell:/c%3A/Users/Reza/Documents/Machine-Learning-in-Python/Code/Machine_Learning.ipynb#X40sZmlsZQ%3D%3D?line=4'>5</a>\u001b[0m \u001b[39m# Assuming x is your data\u001b[39;00m\n\u001b[0;32m      <a href='vscode-notebook-cell:/c%3A/Users/Reza/Documents/Machine-Learning-in-Python/Code/Machine_Learning.ipynb#X40sZmlsZQ%3D%3D?line=5'>6</a>\u001b[0m x \u001b[39m=\u001b[39m np\u001b[39m.\u001b[39mrandom\u001b[39m.\u001b[39mrandn(\u001b[39m100\u001b[39m)\n\u001b[1;32m----> <a href='vscode-notebook-cell:/c%3A/Users/Reza/Documents/Machine-Learning-in-Python/Code/Machine_Learning.ipynb#X40sZmlsZQ%3D%3D?line=7'>8</a>\u001b[0m n, bins, _ \u001b[39m=\u001b[39m plt\u001b[39m.\u001b[39mhist(x[:, \u001b[39m0\u001b[39;49m], bins\u001b[39m=\u001b[39m\u001b[39m20\u001b[39m, edgecolor\u001b[39m=\u001b[39m\u001b[39m'\u001b[39m\u001b[39mblack\u001b[39m\u001b[39m'\u001b[39m, density\u001b[39m=\u001b[39m\u001b[39mTrue\u001b[39;00m)\n\u001b[0;32m      <a href='vscode-notebook-cell:/c%3A/Users/Reza/Documents/Machine-Learning-in-Python/Code/Machine_Learning.ipynb#X40sZmlsZQ%3D%3D?line=8'>9</a>\u001b[0m y \u001b[39m=\u001b[39m mlab\u001b[39m.\u001b[39mnormpdf(bins, \u001b[39m100\u001b[39m, \u001b[39m15\u001b[39m)\n\u001b[0;32m     <a href='vscode-notebook-cell:/c%3A/Users/Reza/Documents/Machine-Learning-in-Python/Code/Machine_Learning.ipynb#X40sZmlsZQ%3D%3D?line=9'>10</a>\u001b[0m plt\u001b[39m.\u001b[39mplot(bins, y, \u001b[39m'\u001b[39m\u001b[39mr\u001b[39m\u001b[39m'\u001b[39m)\n",
      "\u001b[1;31mIndexError\u001b[0m: too many indices for array: array is 1-dimensional, but 2 were indexed"
     ]
    }
   ],
   "source": [
    "import matplotlib.pyplot as plt\n",
    "import numpy as np\n",
    "import matplotlib.mlab as mlab  # For normpdf\n",
    "\n",
    "# Assuming x is your data\n",
    "x = np.random.randn(100)\n",
    "\n",
    "n, bins, _ = plt.hist(x[:, 0], bins=20, edgecolor='black', density=True)\n",
    "y = mlab.normpdf(bins, 100, 15)\n",
    "plt.plot(bins, y, 'r')\n",
    "\n",
    "plt.xlabel('X-axis Label')\n",
    "plt.ylabel('Y-axis Label')\n",
    "plt.title('Histogram with Normal Distribution Fit')\n",
    "\n"
   ]
  },
  {
   "cell_type": "code",
   "execution_count": 138,
   "metadata": {},
   "outputs": [
    {
     "data": {
      "image/png": "[encoded data removed]",
      "text/plain": [
       "<Figure size 640x480 with 1 Axes>"
      ]
     },
     "metadata": {},
     "output_type": "display_data"
    }
   ],
   "source": [
    "df = pd.DataFrame(np.random.rand(10, 5), columns=['A', 'B', 'C', 'D', 'E'])\n",
    "df.plot.box(vert=False, positions=[1, 4, 5, 6, 8]);"
   ]
  },
  {
   "cell_type": "code",
   "execution_count": null,
   "metadata": {},
   "outputs": [],
   "source": [
    "n,bins,_= plt.hist(x, bins=20,edgecolor='black',normed=1)\n",
    "y=mlab.normpdf(bins,100,15)\n",
    "plt.plot(bins,y,'r')"
   ]
  },
  {
   "attachments": {
    "Confusion Matrix.JPG": {
     "image/jpeg": "[encoded data removed]"
    }
   },
   "cell_type": "markdown",
   "metadata": {},
   "source": [
    "**Confusion matrix**<br/>\n",
    "\n",
    "![Confusion Matrix.JPG](<attachment:Confusion Matrix.JPG>)\n",
    "\n",
    "- `True Positive (TP)`: The number of instances correctly predicted as positive (actual class is positive, and the model predicted it as positive).\n",
    "- `True Negative (TN):` The number of instances correctly predicted as negative (actual class is negative, and the model predicted it as negative).\n",
    "- `False Positive (FP):` Also known as a Type I error, it is the number of instances incorrectly predicted as positive (actual class is negative, but the model predicted it as positive).\n",
    "- `False Negative (FN):` Also known as a Type II error, it is the number of instances incorrectly predicted as negative (actual class is positive, but the model predicted it as negative).\n",
    "- `Accuracy:` (TP + TN) / (TP + TN + FP + FN)\n",
    "- `Precision:` TP / (TP + FP)\n",
    "- `Recall (Sensitivity or True positive rate (TPR)):` TP / (TP + FN)\n",
    "- `Specificity (True negetive rate (TNR)):` TN / (TN + FP)\n",
    "- `F1 Score:` (1 - Specificity) or (2 * (Precision * Recall) / (Precision + Recall))\n",
    "\n",
    "\n",
    "|  |Predicted Class 0|Predicted Class 1|Predicted Class 2|       \n",
    "|:---:|:----:|:---:|:---:|                                                      \n",
    "|Actual Class 0|  C00 |   C01 |   C02|\n",
    "|Actual Class 1|  C10 |   C11 |   C12|\n",
    "|Actual Class 2|  C20|   C21|     C22| \n",
    "\n",
    "<br/>\n",
    "\n",
    "\n",
    "| |Precision|Recall (Sensitivity)|F1 Score|\n",
    "|:---:|:----:|:---:|:---:|    \n",
    "|Class 0:|$C_{00} / (C_{00} + C_{10} + C_{20})$|$C_{00} / (C_{00} + C_{01} + C_{02})$|$2 * Precision_{0} * Recall_{0} / (Precision_{0} + Recall_{0})$|\n",
    "|Class 1:|$C_{11} / (C_{01} + C_{11} + C_{21})$|$C_{11} / (C_{10} + C_{11} + C_{12})$|$2 * Precision_{1} * Recall_{1} / (Precision_{1} + Recall_{1})$|\n",
    "|Class 2:|$C_{22} / (C_{02} + C_{12} + C_{22})$|$C_{22} / (C_{20} + C_{21} + C_{22})$|$2 * Precision_{2} * Recall_{2} / (Precision_{2} + Recall_{2})$|\n"
   ]
  },
  {
   "cell_type": "code",
   "execution_count": null,
   "metadata": {},
   "outputs": [],
   "source": [
    "c=metrics.confusion_matrix(actual,predicted,labels=[\"spam\",\"real\"])\n",
    "acc=metrics.accuracy_score(actual,predicted)\n",
    "cr= metrics.classification_report(actual,predicted)"
   ]
  }
 ],
 "metadata": {
  "kernelspec": {
   "display_name": "Python 3",
   "language": "python",
   "name": "python3"
  },
  "language_info": {
   "codemirror_mode": {
    "name": "ipython",
    "version": 3
   },
   "file_extension": ".py",
   "mimetype": "text/x-python",
   "name": "python",
   "nbconvert_exporter": "python",
   "pygments_lexer": "ipython3",
   "version": "3.12.4"
  }
 },
 "nbformat": 4,
 "nbformat_minor": 2
}
